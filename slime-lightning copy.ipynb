{
  "cells": [
    {
      "cell_type": "code",
      "execution_count": 1,
      "metadata": {
        "id": "HiGHZ1qiq_9q"
      },
      "outputs": [],
      "source": [
        "%load_ext autoreload\n",
        "%autoreload 2"
      ]
    },
    {
      "cell_type": "code",
      "execution_count": 2,
      "metadata": {
        "id": "OIu3N4tGnEgv"
      },
      "outputs": [],
      "source": [
        "should_skip = True"
      ]
    },
    {
      "cell_type": "code",
      "execution_count": 3,
      "metadata": {
        "cellView": "form",
        "id": "n0vWJ_IynEgv"
      },
      "outputs": [],
      "source": [
        "#@title Install libraries\n",
        "if not should_skip:\n",
        "  !pip install -U -qq git+https://github.com/huggingface/diffusers.git\n",
        "  !pip install -qq accelerate transformers ftfy\n",
        "  !pip install -q gpustat gdown\n",
        "  !pip install -q pytorch_lightning"
      ]
    },
    {
      "cell_type": "code",
      "execution_count": 4,
      "metadata": {
        "cellView": "form",
        "id": "vey7mPaRnEgw"
      },
      "outputs": [],
      "source": [
        "#@title Import required libraries\n",
        "import argparse\n",
        "import itertools\n",
        "import math\n",
        "import os\n",
        "import random\n",
        "\n",
        "import numpy as np\n",
        "import torch\n",
        "import torch.nn.functional as F\n",
        "import torchvision.transforms.functional as TVF\n",
        "import torch.utils.checkpoint\n",
        "from torch.utils.data import Dataset\n",
        "\n",
        "import PIL\n",
        "from accelerate import Accelerator\n",
        "from accelerate.logging import get_logger\n",
        "from accelerate.utils import set_seed\n",
        "import sys\n",
        "\n",
        "# https://github.com/huggingface/diffusers/blob/main/src/diffusers/models/unet_2d_condition.py#L175-L182\n",
        "from diffusers import AutoencoderKL, DDPMScheduler, PNDMScheduler, StableDiffusionPipeline, UNet2DConditionModel\n",
        "from diffusers.optimization import get_scheduler\n",
        "from diffusers.pipelines.stable_diffusion import StableDiffusionSafetyChecker\n",
        "from PIL import Image\n",
        "from torchvision import transforms\n",
        "from tqdm.auto import tqdm\n",
        "from transformers import CLIPFeatureExtractor, CLIPTextModel, CLIPTokenizer\n",
        "\n",
        "def image_grid(imgs, rows, cols):\n",
        "    assert len(imgs) == rows*cols\n",
        "\n",
        "    w, h = imgs[0].size\n",
        "    grid = Image.new('RGB', size=(cols*w, rows*h))\n",
        "    grid_w, grid_h = grid.size\n",
        "\n",
        "    for i, img in enumerate(imgs):\n",
        "        grid.paste(img, box=(i%cols*w, i//cols*h))\n",
        "    return grid"
      ]
    },
    {
      "cell_type": "code",
      "execution_count": 5,
      "metadata": {
        "cellView": "form",
        "colab": {
          "base_uri": "https://localhost:8080/"
        },
        "id": "TlbAj5_onEgw",
        "outputId": "5d7b3d8b-0f86-456b-e4fa-b1ab2ca50426"
      },
      "outputs": [],
      "source": [
        "if not should_skip:\n",
        "    #@markdown Add here the URLs to the images of the concept you are adding. 3-5 should be fine\n",
        "    train_urls = [\n",
        "        \"https://huggingface.co/datasets/valhalla/images/resolve/main/2.jpeg\",\n",
        "        \"https://huggingface.co/datasets/valhalla/images/resolve/main/3.jpeg\",\n",
        "    ]\n",
        "    test_urls = [\n",
        "        \"https://huggingface.co/datasets/valhalla/images/resolve/main/5.jpeg\",\n",
        "        \"https://huggingface.co/datasets/valhalla/images/resolve/main/6.jpeg\",\n",
        "        ## You can add additional images here\n",
        "    ]\n",
        "#@title Download\n",
        "import requests\n",
        "import glob\n",
        "from io import BytesIO\n",
        "\n",
        "def download_image(url):\n",
        "  try:\n",
        "    response = requests.get(url)\n",
        "  except:\n",
        "    return None\n",
        "  return Image.open(BytesIO(response.content)).convert(\"RGB\")\n",
        "\n",
        "if not should_skip:\n",
        "    for save_path,urls in [(\"./my_concept\",train_urls),(\"./my_concept_test\",test_urls)]:\n",
        "      images = list(filter(None,[download_image(url) for url in urls]))\n",
        "      if not os.path.exists(save_path):\n",
        "        os.mkdir(save_path)\n",
        "      [image.save(f\"{save_path}/{i}.jpeg\") for i, image in enumerate(images)]\n",
        "\n",
        "\n",
        "if not should_skip:\n",
        "    !gdown --id 1I8RMKQhPXntlRKorVNZ6yyNpfaOp8wNv\n",
        "    mask_path=\"./my_concept_gt\"\n",
        "    !mkdir $mask_path/\n",
        "\n",
        "    with open(\"my_concept_gt.zip\",\"r\") as f:\n",
        "        pass\n",
        "    !unzip -o my_concept_gt.zip"
      ]
    },
    {
      "cell_type": "code",
      "execution_count": 6,
      "metadata": {
        "colab": {
          "base_uri": "https://localhost:8080/"
        },
        "id": "zobTtmaarUxr",
        "outputId": "88ef2419-e38b-460b-f2f8-f6d618d85302"
      },
      "outputs": [],
      "source": [
        "# %cd /content/\n",
        "# sys.path.append(\"/content/slime-experiments/\")"
      ]
    },
    {
      "cell_type": "code",
      "execution_count": 7,
      "metadata": {
        "colab": {
          "base_uri": "https://localhost:8080/"
        },
        "id": "S7EY-HMInhWK",
        "outputId": "bbdf3606-38af-403b-93e2-3e9f5a10ddcf"
      },
      "outputs": [],
      "source": [
        "# !rm -rf slime-experiments/\n",
        "# !git clone https://github.com/andrew-healey/slime-experiments\n",
        "# !cd slime-experiments && git rev-parse --short HEAD"
      ]
    },
    {
      "cell_type": "code",
      "execution_count": 8,
      "metadata": {
        "id": "18OU0iWXnEgw"
      },
      "outputs": [],
      "source": [
        "from slime.slime import SLiME\n",
        "from slime.data.single_class import BinarySegmentationDataset,SegmentationDataModule"
      ]
    },
    {
      "cell_type": "code",
      "execution_count": 28,
      "metadata": {
        "id": "gjK_JKcsnEgw"
      },
      "outputs": [],
      "source": [
        "train_dataset = BinarySegmentationDataset(\n",
        "    data_root=\"my_concept\",\n",
        "    mask_root=\"my_concept_gt\",\n",
        ")\n",
        "test_dataset = BinarySegmentationDataset(\n",
        "    data_root=\"my_concept_test\",\n",
        "    mask_root=None\n",
        ")\n",
        "\n",
        "data_module = SegmentationDataModule(\n",
        "    train_dataset,\n",
        "    test_dataset,\n",
        "    iters_per_epoch=500,\n",
        "    batch_size=1,\n",
        ")"
      ]
    },
    {
      "cell_type": "code",
      "execution_count": 29,
      "metadata": {
        "colab": {
          "base_uri": "https://localhost:8080/"
        },
        "id": "5xVozx20nEgw",
        "outputId": "109d1ce9-2c7f-4348-92d7-288ae1714707"
      },
      "outputs": [],
      "source": [
        "slime = SLiME(\n",
        "    use_self_attn=False,\n",
        "    alpha=1.0,\n",
        "    gamma=1.0,\n",
        "    multiplier_lr=0.05,\n",
        "    cross_attn_nums=[8]\n",
        ").cuda()"
      ]
    },
    {
      "cell_type": "code",
      "execution_count": 30,
      "metadata": {
        "colab": {
          "base_uri": "https://localhost:8080/",
          "height": 414,
          "referenced_widgets": [
            "2fe6200bf7064a189e3790f7797c7fbb",
            "d539050cc54f45c288d912144d081d76",
            "5e4c349b29f14b2d85c5e16e78d352ea",
            "817355e86f614485977a900b659a2fed",
            "dc36d39ee4294f8abcc589a88ebc4ceb",
            "6607f73936b44302a81d3f3d3ba28310",
            "39dea76fbc3545658df84b33787383ba",
            "1ef4b2520aae48b3bd830a1d3f179f89",
            "1d50c28ae9b645adb692128f663ee40c",
            "c905811dc695483293ba977f973fef8c",
            "b28003169cce426a875cb82e42cd3c90"
          ]
        },
        "id": "dKcY9CXqnEgw",
        "outputId": "3be2171b-d52d-4163-d7b2-28fd5d29886e"
      },
      "outputs": [
        {
          "name": "stderr",
          "output_type": "stream",
          "text": [
            "GPU available: True (cuda), used: True\n",
            "TPU available: False, using: 0 TPU cores\n",
            "IPU available: False, using: 0 IPUs\n",
            "HPU available: False, using: 0 HPUs\n",
            "`Trainer(limit_train_batches=1.0)` was configured so 100% of the batches per epoch will be used..\n",
            "LOCAL_RANK: 0 - CUDA_VISIBLE_DEVICES: [0]\n",
            "\n",
            "  | Name                   | Type            | Params\n",
            "-----------------------------------------------------------\n",
            "0 | sd                     | StableDiffusion | 900 M \n",
            "1 | cross_layer_multiplier | Multiplier      | 32    \n",
            "2 | self_layer_multiplier  | Multiplier      | 32    \n",
            "3 | cross_map_multiplier   | Multiplier      | 4     \n",
            "4 | pred_map_multiplier    | Multiplier      | 4     \n",
            "5 | cross_norm             | BatchNorm2d     | 2     \n",
            "6 | cross_map_norm         | BatchNorm2d     | 4     \n",
            "  | other params           | n/a             | 2.0 K \n",
            "-----------------------------------------------------------\n",
            "2.1 K     Trainable params\n",
            "900 M     Non-trainable params\n",
            "900 M     Total params\n",
            "3,600.306 Total estimated model params size (MB)\n"
          ]
        },
        {
          "data": {
            "application/vnd.jupyter.widget-view+json": {
              "model_id": "09672700f0594ecd88d080741a9d8a4e",
              "version_major": 2,
              "version_minor": 0
            },
            "text/plain": [
              "Training: |          | 0/? [00:00<?, ?it/s]"
            ]
          },
          "metadata": {},
          "output_type": "display_data"
        },
        {
          "name": "stdout",
          "output_type": "stream",
          "text": [
            "pred -4.17 3.04 ce loss 0.85 mse loss 0.32 dice loss 0.68\n",
            "pred -1.35 2.8 ce loss 0.54 mse loss 0.18 dice loss 0.45\n",
            "pred -1.38 2.74 ce loss 0.52 mse loss 0.17 dice loss 0.44\n",
            "pred -1.48 2.18 ce loss 0.51 mse loss 0.16 dice loss 0.5\n",
            "pred -1.71 2.59 ce loss 0.49 mse loss 0.16 dice loss 0.43\n",
            "pred -1.89 2.03 ce loss 0.49 mse loss 0.16 dice loss 0.49\n",
            "pred -1.83 2.22 ce loss 0.47 mse loss 0.15 dice loss 0.48\n",
            "pred -1.79 2.69 ce loss 0.46 mse loss 0.15 dice loss 0.42\n",
            "pred -2.0 2.25 ce loss 0.45 mse loss 0.14 dice loss 0.47\n",
            "pred -2.03 2.5 ce loss 0.43 mse loss 0.13 dice loss 0.4\n",
            "pred -2.21 2.7 ce loss 0.44 mse loss 0.14 dice loss 0.4\n",
            "pred -2.23 2.49 ce loss 0.43 mse loss 0.13 dice loss 0.46\n",
            "pred -2.64 2.69 ce loss 0.43 mse loss 0.13 dice loss 0.39\n",
            "pred -2.35 2.75 ce loss 0.41 mse loss 0.13 dice loss 0.44\n",
            "pred -2.56 2.85 ce loss 0.4 mse loss 0.12 dice loss 0.43\n",
            "pred -2.76 2.98 ce loss 0.39 mse loss 0.12 dice loss 0.37\n",
            "pred -3.09 3.07 ce loss 0.39 mse loss 0.12 dice loss 0.37\n",
            "pred -2.82 2.72 ce loss 0.39 mse loss 0.12 dice loss 0.42\n",
            "pred -2.9 2.93 ce loss 0.38 mse loss 0.12 dice loss 0.41\n",
            "pred -3.28 3.04 ce loss 0.38 mse loss 0.12 dice loss 0.35\n",
            "pred -3.17 2.69 ce loss 0.36 mse loss 0.11 dice loss 0.4\n",
            "pred -3.56 3.19 ce loss 0.37 mse loss 0.11 dice loss 0.34\n",
            "pred -3.69 3.33 ce loss 0.37 mse loss 0.11 dice loss 0.34\n",
            "pred -3.34 3.18 ce loss 0.35 mse loss 0.11 dice loss 0.38\n",
            "pred -3.44 3.41 ce loss 0.35 mse loss 0.11 dice loss 0.38\n",
            "pred -4.1 3.46 ce loss 0.34 mse loss 0.1 dice loss 0.32\n",
            "pred -3.54 3.39 ce loss 0.33 mse loss 0.1 dice loss 0.36\n",
            "pred -3.84 3.4 ce loss 0.33 mse loss 0.1 dice loss 0.31\n",
            "pred -4.42 3.21 ce loss 0.33 mse loss 0.1 dice loss 0.3\n",
            "pred -4.29 3.89 ce loss 0.32 mse loss 0.1 dice loss 0.35\n",
            "pred -4.07 3.8 ce loss 0.31 mse loss 0.09 dice loss 0.33\n",
            "pred -5.05 3.55 ce loss 0.33 mse loss 0.1 dice loss 0.3\n",
            "pred -4.2 3.96 ce loss 0.31 mse loss 0.1 dice loss 0.29\n",
            "pred -4.14 3.71 ce loss 0.29 mse loss 0.09 dice loss 0.32\n",
            "pred -4.12 3.85 ce loss 0.3 mse loss 0.09 dice loss 0.32\n",
            "pred -4.74 3.88 ce loss 0.31 mse loss 0.09 dice loss 0.28\n",
            "pred -4.53 4.31 ce loss 0.28 mse loss 0.09 dice loss 0.31\n",
            "pred -4.97 3.93 ce loss 0.31 mse loss 0.1 dice loss 0.28\n",
            "pred -4.66 4.25 ce loss 0.28 mse loss 0.08 dice loss 0.3\n",
            "pred -5.92 3.79 ce loss 0.3 mse loss 0.09 dice loss 0.27\n",
            "pred -5.19 4.37 ce loss 0.27 mse loss 0.08 dice loss 0.3\n",
            "pred -5.73 4.42 ce loss 0.31 mse loss 0.1 dice loss 0.27\n",
            "pred -5.67 4.32 ce loss 0.3 mse loss 0.09 dice loss 0.27\n",
            "pred -5.11 4.85 ce loss 0.27 mse loss 0.08 dice loss 0.29\n",
            "pred -5.09 4.59 ce loss 0.29 mse loss 0.09 dice loss 0.26\n",
            "pred -5.1 4.84 ce loss 0.25 mse loss 0.08 dice loss 0.28\n",
            "pred -4.78 4.52 ce loss 0.28 mse loss 0.09 dice loss 0.25\n",
            "pred -6.14 5.23 ce loss 0.25 mse loss 0.08 dice loss 0.28\n",
            "pred -5.26 4.76 ce loss 0.26 mse loss 0.08 dice loss 0.24\n",
            "pred -5.97 5.37 ce loss 0.24 mse loss 0.07 dice loss 0.27\n",
            "pred -5.78 5.34 ce loss 0.25 mse loss 0.08 dice loss 0.27\n",
            "pred -5.62 4.52 ce loss 0.27 mse loss 0.08 dice loss 0.24\n",
            "pred -5.81 5.77 ce loss 0.23 mse loss 0.07 dice loss 0.26\n",
            "pred -5.74 4.69 ce loss 0.26 mse loss 0.08 dice loss 0.23\n",
            "pred -5.98 6.36 ce loss 0.23 mse loss 0.07 dice loss 0.26\n",
            "pred -6.16 4.77 ce loss 0.27 mse loss 0.08 dice loss 0.24\n",
            "pred -5.63 5.05 ce loss 0.27 mse loss 0.08 dice loss 0.23\n",
            "pred -6.56 6.5 ce loss 0.22 mse loss 0.06 dice loss 0.25\n",
            "pred -6.08 7.15 ce loss 0.22 mse loss 0.07 dice loss 0.25\n",
            "pred -6.41 5.3 ce loss 0.25 mse loss 0.08 dice loss 0.23\n",
            "pred -6.82 6.93 ce loss 0.22 mse loss 0.06 dice loss 0.24\n",
            "pred -6.36 4.66 ce loss 0.24 mse loss 0.07 dice loss 0.22\n",
            "pred -6.98 5.46 ce loss 0.27 mse loss 0.08 dice loss 0.23\n",
            "pred -6.46 7.17 ce loss 0.2 mse loss 0.06 dice loss 0.23\n",
            "pred -8.15 5.45 ce loss 0.26 mse loss 0.08 dice loss 0.22\n",
            "pred -7.28 7.81 ce loss 0.21 mse loss 0.06 dice loss 0.23\n",
            "pred -6.97 7.55 ce loss 0.2 mse loss 0.06 dice loss 0.23\n",
            "pred -7.76 6.06 ce loss 0.24 mse loss 0.07 dice loss 0.21\n",
            "pred -7.05 6.36 ce loss 0.23 mse loss 0.07 dice loss 0.21\n",
            "pred -7.44 8.13 ce loss 0.19 mse loss 0.06 dice loss 0.22\n",
            "pred -7.33 7.59 ce loss 0.19 mse loss 0.06 dice loss 0.22\n",
            "pred -7.14 5.73 ce loss 0.25 mse loss 0.08 dice loss 0.21\n",
            "pred -8.69 7.47 ce loss 0.2 mse loss 0.06 dice loss 0.23\n",
            "pred -7.62 6.2 ce loss 0.25 mse loss 0.08 dice loss 0.22\n",
            "pred -7.94 7.98 ce loss 0.18 mse loss 0.05 dice loss 0.21\n",
            "pred -7.62 5.8 ce loss 0.24 mse loss 0.07 dice loss 0.21\n",
            "pred -7.68 7.71 ce loss 0.19 mse loss 0.05 dice loss 0.21\n",
            "pred -8.44 6.16 ce loss 0.22 mse loss 0.07 dice loss 0.2\n",
            "pred -7.53 7.73 ce loss 0.18 mse loss 0.05 dice loss 0.21\n",
            "pred -7.97 5.89 ce loss 0.22 mse loss 0.07 dice loss 0.19\n",
            "pred -8.52 8.64 ce loss 0.18 mse loss 0.05 dice loss 0.21\n",
            "pred -6.88 6.65 ce loss 0.22 mse loss 0.07 dice loss 0.19\n",
            "pred -8.64 5.53 ce loss 0.22 mse loss 0.07 dice loss 0.2\n",
            "pred -7.57 8.75 ce loss 0.17 mse loss 0.05 dice loss 0.2\n",
            "pred -8.35 9.04 ce loss 0.19 mse loss 0.05 dice loss 0.2\n",
            "pred -8.72 5.59 ce loss 0.22 mse loss 0.07 dice loss 0.19\n",
            "pred -8.26 8.19 ce loss 0.16 mse loss 0.04 dice loss 0.19\n",
            "pred -8.02 6.41 ce loss 0.22 mse loss 0.07 dice loss 0.19\n",
            "pred -7.61 5.42 ce loss 0.21 mse loss 0.07 dice loss 0.19\n",
            "pred -7.09 9.98 ce loss 0.17 mse loss 0.05 dice loss 0.19\n",
            "pred -8.87 10.38 ce loss 0.17 mse loss 0.05 dice loss 0.19\n",
            "pred -8.42 6.01 ce loss 0.22 mse loss 0.07 dice loss 0.19\n",
            "pred -8.89 9.94 ce loss 0.16 mse loss 0.04 dice loss 0.18\n",
            "pred -8.19 6.38 ce loss 0.2 mse loss 0.06 dice loss 0.18\n",
            "pred -7.77 7.52 ce loss 0.21 mse loss 0.07 dice loss 0.19\n",
            "pred -8.59 10.06 ce loss 0.16 mse loss 0.04 dice loss 0.18\n",
            "pred -8.76 6.93 ce loss 0.19 mse loss 0.06 dice loss 0.17\n",
            "pred -8.18 9.73 ce loss 0.17 mse loss 0.05 dice loss 0.19\n",
            "pred -8.19 10.44 ce loss 0.15 mse loss 0.04 dice loss 0.18\n",
            "pred -9.65 6.54 ce loss 0.19 mse loss 0.06 dice loss 0.17\n",
            "pred -9.33 6.47 ce loss 0.2 mse loss 0.06 dice loss 0.18\n",
            "pred -8.1 10.23 ce loss 0.16 mse loss 0.05 dice loss 0.18\n",
            "pred -10.24 7.22 ce loss 0.2 mse loss 0.06 dice loss 0.17\n",
            "pred -8.34 9.58 ce loss 0.15 mse loss 0.05 dice loss 0.18\n",
            "pred -8.3 9.52 ce loss 0.15 mse loss 0.04 dice loss 0.17\n",
            "pred -11.59 8.12 ce loss 0.2 mse loss 0.06 dice loss 0.18\n",
            "pred -8.96 10.3 ce loss 0.14 mse loss 0.04 dice loss 0.16\n",
            "pred -9.59 7.12 ce loss 0.21 mse loss 0.06 dice loss 0.18\n",
            "pred -8.29 9.9 ce loss 0.13 mse loss 0.04 dice loss 0.16\n",
            "pred -9.17 6.84 ce loss 0.18 mse loss 0.05 dice loss 0.16\n",
            "pred -9.37 10.58 ce loss 0.15 mse loss 0.04 dice loss 0.17\n",
            "pred -10.14 7.66 ce loss 0.16 mse loss 0.05 dice loss 0.16\n",
            "pred -8.02 9.76 ce loss 0.13 mse loss 0.03 dice loss 0.16\n",
            "pred -9.12 6.93 ce loss 0.17 mse loss 0.05 dice loss 0.15\n",
            "pred -9.48 8.57 ce loss 0.17 mse loss 0.05 dice loss 0.16\n",
            "pred -9.25 10.85 ce loss 0.12 mse loss 0.03 dice loss 0.15\n",
            "pred -9.08 10.21 ce loss 0.13 mse loss 0.04 dice loss 0.16\n",
            "pred -9.09 7.77 ce loss 0.16 mse loss 0.05 dice loss 0.14\n",
            "pred -8.95 10.76 ce loss 0.12 mse loss 0.03 dice loss 0.15\n",
            "pred -9.25 7.21 ce loss 0.16 mse loss 0.05 dice loss 0.14\n",
            "pred -9.36 9.67 ce loss 0.13 mse loss 0.04 dice loss 0.15\n",
            "pred -9.42 6.8 ce loss 0.17 mse loss 0.05 dice loss 0.15\n",
            "pred -10.02 7.14 ce loss 0.21 mse loss 0.06 dice loss 0.17\n",
            "pred -8.92 10.24 ce loss 0.11 mse loss 0.03 dice loss 0.14\n",
            "pred -9.67 11.88 ce loss 0.12 mse loss 0.03 dice loss 0.15\n",
            "pred -9.79 7.94 ce loss 0.17 mse loss 0.05 dice loss 0.15\n",
            "pred -9.86 7.58 ce loss 0.17 mse loss 0.05 dice loss 0.15\n",
            "pred -9.87 10.52 ce loss 0.12 mse loss 0.03 dice loss 0.15\n",
            "pred -8.74 10.81 ce loss 0.12 mse loss 0.03 dice loss 0.14\n",
            "pred -10.64 7.22 ce loss 0.14 mse loss 0.04 dice loss 0.13\n",
            "pred -9.44 7.2 ce loss 0.15 mse loss 0.04 dice loss 0.13\n",
            "pred -8.29 11.85 ce loss 0.12 mse loss 0.03 dice loss 0.14\n",
            "pred -10.46 11.41 ce loss 0.12 mse loss 0.03 dice loss 0.14\n",
            "pred -9.64 7.62 ce loss 0.16 mse loss 0.05 dice loss 0.14\n",
            "pred -11.24 6.97 ce loss 0.15 mse loss 0.04 dice loss 0.13\n",
            "pred -9.7 11.05 ce loss 0.13 mse loss 0.04 dice loss 0.15\n",
            "pred -9.7 11.54 ce loss 0.12 mse loss 0.03 dice loss 0.14\n",
            "pred -10.82 7.24 ce loss 0.14 mse loss 0.04 dice loss 0.12\n",
            "pred -10.46 8.33 ce loss 0.15 mse loss 0.04 dice loss 0.13\n",
            "pred -9.58 11.48 ce loss 0.11 mse loss 0.03 dice loss 0.13\n",
            "pred -8.65 11.29 ce loss 0.12 mse loss 0.03 dice loss 0.14\n",
            "pred -12.1 7.63 ce loss 0.14 mse loss 0.04 dice loss 0.12\n",
            "pred -11.57 7.83 ce loss 0.14 mse loss 0.04 dice loss 0.12\n",
            "pred -9.81 11.61 ce loss 0.11 mse loss 0.03 dice loss 0.14\n",
            "pred -8.99 12.15 ce loss 0.11 mse loss 0.03 dice loss 0.13\n",
            "pred -10.3 7.92 ce loss 0.14 mse loss 0.04 dice loss 0.13\n",
            "pred -9.4 11.78 ce loss 0.11 mse loss 0.03 dice loss 0.13\n",
            "pred -11.15 8.21 ce loss 0.18 mse loss 0.05 dice loss 0.15\n",
            "pred -8.83 12.95 ce loss 0.11 mse loss 0.03 dice loss 0.13\n",
            "pred -10.46 8.54 ce loss 0.14 mse loss 0.04 dice loss 0.12\n",
            "pred -10.51 8.19 ce loss 0.14 mse loss 0.04 dice loss 0.12\n",
            "pred -8.8 11.94 ce loss 0.11 mse loss 0.03 dice loss 0.13\n",
            "pred -10.59 8.36 ce loss 0.13 mse loss 0.04 dice loss 0.12\n",
            "pred -8.88 10.84 ce loss 0.12 mse loss 0.03 dice loss 0.13\n",
            "pred -10.26 11.55 ce loss 0.1 mse loss 0.03 dice loss 0.13\n",
            "pred -12.11 8.11 ce loss 0.15 mse loss 0.05 dice loss 0.13\n",
            "pred -11.58 7.95 ce loss 0.12 mse loss 0.04 dice loss 0.11\n",
            "pred -10.86 12.19 ce loss 0.1 mse loss 0.03 dice loss 0.12\n",
            "pred -12.16 11.69 ce loss 0.1 mse loss 0.03 dice loss 0.12\n",
            "pred -12.51 9.97 ce loss 0.14 mse loss 0.04 dice loss 0.12\n",
            "pred -11.67 8.32 ce loss 0.13 mse loss 0.04 dice loss 0.12\n",
            "pred -10.51 11.12 ce loss 0.1 mse loss 0.03 dice loss 0.12\n",
            "pred -11.68 7.74 ce loss 0.15 mse loss 0.05 dice loss 0.13\n",
            "pred -9.68 12.01 ce loss 0.1 mse loss 0.03 dice loss 0.12\n",
            "pred -11.6 7.57 ce loss 0.15 mse loss 0.04 dice loss 0.12\n",
            "pred -11.68 12.38 ce loss 0.1 mse loss 0.03 dice loss 0.12\n",
            "pred -12.7 8.78 ce loss 0.12 mse loss 0.03 dice loss 0.11\n",
            "pred -10.4 12.94 ce loss 0.11 mse loss 0.03 dice loss 0.13\n",
            "pred -10.04 12.45 ce loss 0.09 mse loss 0.03 dice loss 0.12\n",
            "pred -10.63 8.74 ce loss 0.12 mse loss 0.04 dice loss 0.11\n",
            "pred -13.11 8.96 ce loss 0.14 mse loss 0.04 dice loss 0.12\n",
            "pred -10.12 14.8 ce loss 0.09 mse loss 0.02 dice loss 0.11\n",
            "pred -13.49 8.03 ce loss 0.14 mse loss 0.04 dice loss 0.12\n",
            "pred -9.83 12.97 ce loss 0.11 mse loss 0.03 dice loss 0.12\n",
            "pred -9.71 12.78 ce loss 0.1 mse loss 0.03 dice loss 0.12\n",
            "pred -12.2 9.69 ce loss 0.13 mse loss 0.04 dice loss 0.11\n",
            "pred -11.06 9.36 ce loss 0.14 mse loss 0.04 dice loss 0.12\n",
            "pred -9.46 12.8 ce loss 0.09 mse loss 0.03 dice loss 0.11\n",
            "pred -12.25 8.24 ce loss 0.13 mse loss 0.04 dice loss 0.11\n",
            "pred -10.78 11.88 ce loss 0.09 mse loss 0.03 dice loss 0.11\n",
            "pred -9.4 14.28 ce loss 0.09 mse loss 0.03 dice loss 0.11\n",
            "pred -10.95 7.99 ce loss 0.12 mse loss 0.04 dice loss 0.11\n",
            "pred -12.39 9.39 ce loss 0.11 mse loss 0.03 dice loss 0.1\n",
            "pred -9.62 14.24 ce loss 0.09 mse loss 0.02 dice loss 0.11\n",
            "pred -10.34 12.83 ce loss 0.08 mse loss 0.02 dice loss 0.11\n",
            "pred -11.52 9.46 ce loss 0.15 mse loss 0.05 dice loss 0.12\n",
            "pred -13.46 9.22 ce loss 0.12 mse loss 0.03 dice loss 0.11\n",
            "pred -10.39 14.5 ce loss 0.09 mse loss 0.02 dice loss 0.11\n",
            "pred -11.8 9.7 ce loss 0.11 mse loss 0.03 dice loss 0.1\n",
            "pred -10.54 14.65 ce loss 0.09 mse loss 0.03 dice loss 0.11\n",
            "pred -9.86 12.48 ce loss 0.1 mse loss 0.03 dice loss 0.11\n",
            "pred -12.86 9.15 ce loss 0.16 mse loss 0.05 dice loss 0.12\n",
            "pred -10.4 13.83 ce loss 0.08 mse loss 0.02 dice loss 0.1\n",
            "pred -13.66 10.12 ce loss 0.13 mse loss 0.04 dice loss 0.11\n",
            "pred -13.05 8.26 ce loss 0.13 mse loss 0.04 dice loss 0.11\n",
            "pred -11.54 12.67 ce loss 0.09 mse loss 0.02 dice loss 0.1\n",
            "pred -12.78 8.92 ce loss 0.11 mse loss 0.03 dice loss 0.09\n",
            "pred -10.8 13.1 ce loss 0.09 mse loss 0.03 dice loss 0.11\n",
            "pred -10.4 13.71 ce loss 0.09 mse loss 0.03 dice loss 0.11\n",
            "pred -12.15 8.89 ce loss 0.1 mse loss 0.03 dice loss 0.1\n",
            "pred -10.98 14.08 ce loss 0.09 mse loss 0.02 dice loss 0.1\n",
            "pred -13.26 9.5 ce loss 0.11 mse loss 0.03 dice loss 0.1\n",
            "pred -10.23 12.98 ce loss 0.08 mse loss 0.02 dice loss 0.1\n",
            "pred -13.87 9.64 ce loss 0.11 mse loss 0.03 dice loss 0.1\n",
            "pred -13.66 9.36 ce loss 0.12 mse loss 0.03 dice loss 0.1\n",
            "pred -10.97 12.74 ce loss 0.09 mse loss 0.03 dice loss 0.11\n",
            "pred -14.32 8.69 ce loss 0.15 mse loss 0.05 dice loss 0.12\n",
            "pred -11.73 14.49 ce loss 0.09 mse loss 0.02 dice loss 0.11\n",
            "pred -11.72 14.84 ce loss 0.11 mse loss 0.03 dice loss 0.13\n",
            "pred -13.61 10.19 ce loss 0.13 mse loss 0.04 dice loss 0.11\n",
            "pred -11.83 14.13 ce loss 0.08 mse loss 0.02 dice loss 0.1\n",
            "pred -17.53 7.94 ce loss 0.14 mse loss 0.04 dice loss 0.12\n",
            "pred -14.1 9.32 ce loss 0.12 mse loss 0.03 dice loss 0.11\n",
            "pred -12.61 13.64 ce loss 0.12 mse loss 0.04 dice loss 0.13\n",
            "pred -13.3 8.39 ce loss 0.12 mse loss 0.03 dice loss 0.1\n",
            "pred -10.88 14.45 ce loss 0.1 mse loss 0.03 dice loss 0.11\n",
            "pred -12.08 9.08 ce loss 0.14 mse loss 0.04 dice loss 0.11\n",
            "pred -12.2 13.74 ce loss 0.1 mse loss 0.03 dice loss 0.11\n",
            "pred -15.29 8.82 ce loss 0.14 mse loss 0.04 dice loss 0.11\n",
            "pred -13.15 13.51 ce loss 0.09 mse loss 0.03 dice loss 0.11\n",
            "pred -12.72 14.05 ce loss 0.09 mse loss 0.02 dice loss 0.11\n",
            "pred -12.84 8.78 ce loss 0.15 mse loss 0.04 dice loss 0.11\n",
            "pred -13.88 8.75 ce loss 0.13 mse loss 0.04 dice loss 0.1\n",
            "pred -12.88 14.65 ce loss 0.09 mse loss 0.02 dice loss 0.1\n",
            "pred -12.2 12.25 ce loss 0.1 mse loss 0.03 dice loss 0.11\n",
            "pred -12.11 9.51 ce loss 0.14 mse loss 0.05 dice loss 0.12\n",
            "pred -11.16 12.77 ce loss 0.1 mse loss 0.03 dice loss 0.12\n",
            "pred -12.39 8.81 ce loss 0.16 mse loss 0.05 dice loss 0.12\n",
            "pred -13.33 9.59 ce loss 0.12 mse loss 0.04 dice loss 0.1\n",
            "pred -11.93 13.63 ce loss 0.09 mse loss 0.02 dice loss 0.1\n",
            "pred -13.05 14.61 ce loss 0.09 mse loss 0.03 dice loss 0.1\n",
            "pred -16.47 8.63 ce loss 0.17 mse loss 0.05 dice loss 0.13\n",
            "pred -11.09 16.27 ce loss 0.09 mse loss 0.02 dice loss 0.1\n",
            "pred -12.13 9.68 ce loss 0.11 mse loss 0.03 dice loss 0.1\n",
            "pred -12.63 14.51 ce loss 0.08 mse loss 0.02 dice loss 0.1\n",
            "pred -11.92 9.16 ce loss 0.1 mse loss 0.03 dice loss 0.09\n",
            "pred -12.52 14.13 ce loss 0.12 mse loss 0.04 dice loss 0.13\n",
            "pred -10.9 9.9 ce loss 0.13 mse loss 0.04 dice loss 0.11\n",
            "pred -11.24 13.44 ce loss 0.09 mse loss 0.03 dice loss 0.1\n",
            "pred -13.15 9.86 ce loss 0.11 mse loss 0.03 dice loss 0.09\n",
            "pred -12.16 13.73 ce loss 0.09 mse loss 0.03 dice loss 0.1\n",
            "pred -13.31 10.16 ce loss 0.1 mse loss 0.03 dice loss 0.09\n",
            "pred -13.13 9.97 ce loss 0.11 mse loss 0.03 dice loss 0.09\n",
            "pred -11.28 14.72 ce loss 0.08 mse loss 0.02 dice loss 0.1\n",
            "pred -13.48 9.81 ce loss 0.1 mse loss 0.03 dice loss 0.09\n",
            "pred -12.02 14.76 ce loss 0.09 mse loss 0.03 dice loss 0.1\n",
            "pred -12.02 14.06 ce loss 0.09 mse loss 0.03 dice loss 0.1\n",
            "pred -13.97 8.54 ce loss 0.11 mse loss 0.03 dice loss 0.1\n",
            "pred -11.78 15.18 ce loss 0.08 mse loss 0.02 dice loss 0.1\n",
            "pred -12.68 9.75 ce loss 0.11 mse loss 0.03 dice loss 0.09\n",
            "pred -13.0 10.74 ce loss 0.1 mse loss 0.03 dice loss 0.09\n",
            "pred -14.17 14.84 ce loss 0.08 mse loss 0.02 dice loss 0.1\n",
            "pred -14.46 9.17 ce loss 0.1 mse loss 0.03 dice loss 0.09\n",
            "pred -11.37 14.26 ce loss 0.08 mse loss 0.02 dice loss 0.1\n",
            "pred -16.27 10.45 ce loss 0.13 mse loss 0.04 dice loss 0.1\n",
            "pred -12.08 16.76 ce loss 0.07 mse loss 0.02 dice loss 0.09\n",
            "pred -12.14 15.43 ce loss 0.08 mse loss 0.02 dice loss 0.1\n",
            "pred -14.85 11.01 ce loss 0.09 mse loss 0.03 dice loss 0.08\n",
            "pred -12.01 15.01 ce loss 0.1 mse loss 0.03 dice loss 0.12\n",
            "pred -13.55 9.9 ce loss 0.11 mse loss 0.03 dice loss 0.09\n",
            "pred -12.22 16.49 ce loss 0.09 mse loss 0.03 dice loss 0.1\n",
            "pred -12.33 10.25 ce loss 0.12 mse loss 0.04 dice loss 0.1\n",
            "pred -12.18 15.8 ce loss 0.09 mse loss 0.03 dice loss 0.1\n",
            "pred -13.84 10.29 ce loss 0.12 mse loss 0.04 dice loss 0.1\n",
            "pred -14.29 15.82 ce loss 0.08 mse loss 0.02 dice loss 0.09\n",
            "pred -14.06 11.8 ce loss 0.17 mse loss 0.05 dice loss 0.13\n",
            "pred -12.35 15.74 ce loss 0.1 mse loss 0.03 dice loss 0.11\n",
            "pred -12.97 10.55 ce loss 0.12 mse loss 0.04 dice loss 0.1\n",
            "pred -11.8 14.5 ce loss 0.07 mse loss 0.02 dice loss 0.09\n",
            "pred -13.6 9.01 ce loss 0.1 mse loss 0.03 dice loss 0.08\n",
            "pred -11.3 13.4 ce loss 0.09 mse loss 0.03 dice loss 0.1\n",
            "pred -12.49 9.28 ce loss 0.1 mse loss 0.03 dice loss 0.09\n",
            "pred -11.4 15.17 ce loss 0.07 mse loss 0.02 dice loss 0.09\n",
            "pred -14.38 9.13 ce loss 0.13 mse loss 0.04 dice loss 0.1\n",
            "pred -14.4 9.09 ce loss 0.11 mse loss 0.03 dice loss 0.1\n",
            "pred -11.81 14.53 ce loss 0.08 mse loss 0.02 dice loss 0.09\n",
            "pred -12.92 13.73 ce loss 0.08 mse loss 0.02 dice loss 0.09\n",
            "pred -14.85 9.29 ce loss 0.11 mse loss 0.03 dice loss 0.09\n",
            "pred -14.52 8.98 ce loss 0.11 mse loss 0.03 dice loss 0.09\n",
            "pred -13.81 16.32 ce loss 0.09 mse loss 0.03 dice loss 0.1\n",
            "pred -13.23 15.5 ce loss 0.09 mse loss 0.02 dice loss 0.1\n",
            "pred -12.58 10.83 ce loss 0.1 mse loss 0.03 dice loss 0.09\n",
            "pred -13.76 9.76 ce loss 0.11 mse loss 0.03 dice loss 0.09\n",
            "pred -12.9 15.08 ce loss 0.07 mse loss 0.02 dice loss 0.09\n",
            "pred -12.63 17.33 ce loss 0.09 mse loss 0.03 dice loss 0.1\n",
            "pred -15.69 11.57 ce loss 0.13 mse loss 0.04 dice loss 0.1\n",
            "pred -13.23 9.56 ce loss 0.1 mse loss 0.03 dice loss 0.08\n",
            "pred -11.44 14.4 ce loss 0.07 mse loss 0.02 dice loss 0.08\n",
            "pred -12.84 10.4 ce loss 0.11 mse loss 0.03 dice loss 0.09\n",
            "pred -14.3 15.02 ce loss 0.08 mse loss 0.02 dice loss 0.09\n",
            "pred -12.58 16.61 ce loss 0.09 mse loss 0.02 dice loss 0.1\n",
            "pred -16.57 9.98 ce loss 0.1 mse loss 0.03 dice loss 0.09\n",
            "pred -11.97 16.43 ce loss 0.07 mse loss 0.02 dice loss 0.08\n",
            "pred -14.56 9.75 ce loss 0.1 mse loss 0.03 dice loss 0.08\n",
            "pred -11.98 15.91 ce loss 0.08 mse loss 0.02 dice loss 0.09\n",
            "pred -14.61 10.02 ce loss 0.09 mse loss 0.02 dice loss 0.08\n",
            "pred -13.84 16.0 ce loss 0.09 mse loss 0.02 dice loss 0.09\n",
            "pred -16.02 9.45 ce loss 0.1 mse loss 0.03 dice loss 0.08\n",
            "pred -14.21 9.8 ce loss 0.1 mse loss 0.03 dice loss 0.09\n",
            "pred -12.82 16.13 ce loss 0.06 mse loss 0.02 dice loss 0.08\n",
            "pred -14.96 10.15 ce loss 0.1 mse loss 0.03 dice loss 0.08\n",
            "pred -12.9 15.96 ce loss 0.08 mse loss 0.02 dice loss 0.09\n",
            "pred -15.37 9.37 ce loss 0.11 mse loss 0.03 dice loss 0.09\n",
            "pred -12.43 15.33 ce loss 0.09 mse loss 0.03 dice loss 0.1\n",
            "pred -11.62 16.4 ce loss 0.07 mse loss 0.02 dice loss 0.08\n",
            "pred -14.75 10.81 ce loss 0.08 mse loss 0.02 dice loss 0.07\n",
            "pred -12.7 15.09 ce loss 0.08 mse loss 0.02 dice loss 0.09\n",
            "pred -14.3 10.83 ce loss 0.1 mse loss 0.03 dice loss 0.08\n",
            "pred -13.17 11.2 ce loss 0.11 mse loss 0.03 dice loss 0.09\n",
            "pred -12.85 16.14 ce loss 0.08 mse loss 0.02 dice loss 0.09\n",
            "pred -13.95 15.9 ce loss 0.1 mse loss 0.03 dice loss 0.11\n",
            "pred -15.38 9.1 ce loss 0.13 mse loss 0.04 dice loss 0.1\n",
            "pred -12.4 16.56 ce loss 0.07 mse loss 0.02 dice loss 0.08\n",
            "pred -14.34 10.45 ce loss 0.09 mse loss 0.03 dice loss 0.08\n",
            "pred -13.21 11.63 ce loss 0.08 mse loss 0.02 dice loss 0.07\n",
            "pred -12.41 17.44 ce loss 0.07 mse loss 0.02 dice loss 0.09\n",
            "pred -15.22 9.72 ce loss 0.08 mse loss 0.02 dice loss 0.07\n",
            "pred -14.82 15.42 ce loss 0.08 mse loss 0.02 dice loss 0.08\n",
            "pred -13.72 10.11 ce loss 0.08 mse loss 0.02 dice loss 0.07\n",
            "pred -12.45 15.71 ce loss 0.09 mse loss 0.03 dice loss 0.09\n",
            "pred -13.26 16.09 ce loss 0.09 mse loss 0.03 dice loss 0.1\n",
            "pred -13.67 11.28 ce loss 0.1 mse loss 0.03 dice loss 0.08\n",
            "pred -12.0 15.57 ce loss 0.09 mse loss 0.03 dice loss 0.1\n",
            "pred -14.22 10.28 ce loss 0.09 mse loss 0.03 dice loss 0.08\n",
            "pred -13.6 16.79 ce loss 0.07 mse loss 0.02 dice loss 0.08\n",
            "pred -16.15 11.44 ce loss 0.12 mse loss 0.03 dice loss 0.08\n",
            "pred -13.01 17.5 ce loss 0.08 mse loss 0.02 dice loss 0.09\n",
            "pred -15.85 10.14 ce loss 0.1 mse loss 0.03 dice loss 0.08\n",
            "pred -14.36 10.29 ce loss 0.08 mse loss 0.02 dice loss 0.07\n",
            "pred -12.24 15.82 ce loss 0.07 mse loss 0.02 dice loss 0.08\n",
            "pred -13.14 11.05 ce loss 0.09 mse loss 0.03 dice loss 0.08\n",
            "pred -13.54 16.06 ce loss 0.08 mse loss 0.02 dice loss 0.09\n",
            "pred -12.54 15.97 ce loss 0.06 mse loss 0.02 dice loss 0.08\n",
            "pred -13.56 10.58 ce loss 0.12 mse loss 0.04 dice loss 0.09\n",
            "pred -12.54 15.08 ce loss 0.07 mse loss 0.02 dice loss 0.08\n",
            "pred -14.85 9.26 ce loss 0.16 mse loss 0.05 dice loss 0.11\n",
            "pred -14.84 10.76 ce loss 0.07 mse loss 0.02 dice loss 0.07\n",
            "pred -12.02 15.7 ce loss 0.08 mse loss 0.02 dice loss 0.09\n",
            "pred -14.97 10.47 ce loss 0.11 mse loss 0.04 dice loss 0.09\n",
            "pred -13.11 15.48 ce loss 0.09 mse loss 0.02 dice loss 0.09\n",
            "pred -12.56 16.78 ce loss 0.08 mse loss 0.02 dice loss 0.09\n",
            "pred -14.99 12.13 ce loss 0.1 mse loss 0.03 dice loss 0.08\n",
            "pred -12.23 15.13 ce loss 0.07 mse loss 0.02 dice loss 0.08\n",
            "pred -15.04 10.13 ce loss 0.09 mse loss 0.03 dice loss 0.07\n",
            "pred -12.42 16.0 ce loss 0.07 mse loss 0.02 dice loss 0.08\n",
            "pred -14.57 10.54 ce loss 0.1 mse loss 0.03 dice loss 0.08\n",
            "pred -13.06 10.47 ce loss 0.08 mse loss 0.02 dice loss 0.07\n",
            "pred -14.39 16.5 ce loss 0.07 mse loss 0.02 dice loss 0.09\n",
            "pred -13.85 17.21 ce loss 0.07 mse loss 0.02 dice loss 0.09\n",
            "pred -14.62 11.02 ce loss 0.1 mse loss 0.03 dice loss 0.08\n",
            "pred -15.19 16.92 ce loss 0.1 mse loss 0.03 dice loss 0.1\n",
            "pred -13.65 11.7 ce loss 0.07 mse loss 0.02 dice loss 0.07\n",
            "pred -14.59 9.77 ce loss 0.09 mse loss 0.03 dice loss 0.08\n",
            "pred -15.14 17.84 ce loss 0.09 mse loss 0.03 dice loss 0.1\n",
            "pred -14.52 10.66 ce loss 0.09 mse loss 0.03 dice loss 0.07\n",
            "pred -13.58 16.24 ce loss 0.07 mse loss 0.02 dice loss 0.08\n",
            "pred -14.25 15.97 ce loss 0.08 mse loss 0.02 dice loss 0.09\n",
            "pred -14.56 10.58 ce loss 0.11 mse loss 0.03 dice loss 0.09\n",
            "pred -15.97 10.45 ce loss 0.12 mse loss 0.04 dice loss 0.09\n",
            "pred -13.52 17.26 ce loss 0.07 mse loss 0.02 dice loss 0.08\n",
            "pred -12.91 15.45 ce loss 0.07 mse loss 0.02 dice loss 0.09\n",
            "pred -15.09 11.51 ce loss 0.1 mse loss 0.03 dice loss 0.09\n",
            "pred -14.12 15.99 ce loss 0.08 mse loss 0.02 dice loss 0.09\n",
            "pred -13.86 11.06 ce loss 0.14 mse loss 0.05 dice loss 0.12\n",
            "pred -14.84 11.11 ce loss 0.1 mse loss 0.03 dice loss 0.09\n",
            "pred -13.13 18.54 ce loss 0.07 mse loss 0.02 dice loss 0.08\n",
            "pred -15.97 9.82 ce loss 0.12 mse loss 0.04 dice loss 0.08\n",
            "pred -14.64 17.57 ce loss 0.09 mse loss 0.02 dice loss 0.09\n",
            "pred -13.65 16.13 ce loss 0.11 mse loss 0.03 dice loss 0.1\n",
            "pred -15.02 11.0 ce loss 0.13 mse loss 0.04 dice loss 0.09\n",
            "pred -15.5 9.72 ce loss 0.08 mse loss 0.02 dice loss 0.07\n",
            "pred -14.08 14.98 ce loss 0.08 mse loss 0.02 dice loss 0.09\n",
            "pred -15.08 13.2 ce loss 0.12 mse loss 0.04 dice loss 0.09\n",
            "pred -15.56 15.86 ce loss 0.11 mse loss 0.04 dice loss 0.12\n",
            "pred -14.66 16.14 ce loss 0.08 mse loss 0.02 dice loss 0.09\n",
            "pred -14.4 9.56 ce loss 0.09 mse loss 0.03 dice loss 0.07\n",
            "pred -13.76 16.45 ce loss 0.06 mse loss 0.02 dice loss 0.08\n",
            "pred -18.74 9.96 ce loss 0.1 mse loss 0.03 dice loss 0.08\n",
            "pred -14.01 19.42 ce loss 0.09 mse loss 0.03 dice loss 0.09\n",
            "pred -16.33 9.45 ce loss 0.11 mse loss 0.03 dice loss 0.08\n",
            "pred -14.15 10.3 ce loss 0.1 mse loss 0.03 dice loss 0.08\n",
            "pred -13.6 18.02 ce loss 0.07 mse loss 0.02 dice loss 0.08\n",
            "pred -14.48 18.49 ce loss 0.07 mse loss 0.02 dice loss 0.08\n",
            "pred -12.76 10.69 ce loss 0.09 mse loss 0.03 dice loss 0.08\n",
            "pred -13.48 10.31 ce loss 0.09 mse loss 0.03 dice loss 0.08\n",
            "pred -14.37 14.57 ce loss 0.07 mse loss 0.02 dice loss 0.08\n",
            "pred -15.6 10.67 ce loss 0.08 mse loss 0.02 dice loss 0.08\n",
            "pred -14.38 17.76 ce loss 0.07 mse loss 0.02 dice loss 0.08\n",
            "pred -14.32 18.68 ce loss 0.08 mse loss 0.02 dice loss 0.09\n",
            "pred -16.21 12.25 ce loss 0.11 mse loss 0.03 dice loss 0.08\n",
            "pred -14.63 17.44 ce loss 0.08 mse loss 0.02 dice loss 0.09\n",
            "pred -15.46 11.26 ce loss 0.12 mse loss 0.04 dice loss 0.09\n",
            "pred -14.34 17.28 ce loss 0.08 mse loss 0.02 dice loss 0.09\n",
            "pred -16.15 10.8 ce loss 0.08 mse loss 0.03 dice loss 0.07\n",
            "pred -16.13 10.61 ce loss 0.1 mse loss 0.03 dice loss 0.08\n",
            "pred -13.11 15.83 ce loss 0.06 mse loss 0.02 dice loss 0.07\n",
            "pred -16.6 9.96 ce loss 0.09 mse loss 0.02 dice loss 0.07\n",
            "pred -15.36 18.25 ce loss 0.08 mse loss 0.02 dice loss 0.08\n"
          ]
        },
        {
          "name": "stderr",
          "output_type": "stream",
          "text": [
            "/usr/local/lib/python3.8/dist-packages/pytorch_lightning/trainer/call.py:54: Detected KeyboardInterrupt, attempting graceful shutdown...\n"
          ]
        }
      ],
      "source": [
        "from pytorch_lightning import Trainer\n",
        "\n",
        "trainer = Trainer(\n",
        "    default_root_dir=\"run\",\n",
        "    limit_train_batches=1.0,\n",
        "    num_sanity_val_steps=0,\n",
        "    max_epochs=1,\n",
        "    enable_checkpointing=False,\n",
        ")\n",
        "\n",
        "trainer.fit(slime, datamodule=data_module)"
      ]
    },
    {
      "cell_type": "code",
      "execution_count": 31,
      "metadata": {
        "id": "UbFajwxfrs0m"
      },
      "outputs": [
        {
          "data": {
            "text/plain": [
              "0"
            ]
          },
          "execution_count": 31,
          "metadata": {},
          "output_type": "execute_result"
        }
      ],
      "source": [
        "slime.cuda(); 0"
      ]
    },
    {
      "cell_type": "code",
      "execution_count": 32,
      "metadata": {
        "colab": {
          "base_uri": "https://localhost:8080/",
          "height": 449
        },
        "id": "YM4p6T8_x6Za",
        "outputId": "e82d4b78-5084-4055-8e37-f5bf8cefaa3d"
      },
      "outputs": [
        {
          "data": {
            "image/png": "[encoded data removed]",
            "text/plain": [
              "<Figure size 432x288 with 2 Axes>"
            ]
          },
          "metadata": {
            "needs_background": "light"
          },
          "output_type": "display_data"
        },
        {
          "data": {
            "image/png": "[encoded data removed]",
            "text/plain": [
              "<Figure size 432x288 with 2 Axes>"
            ]
          },
          "metadata": {
            "needs_background": "light"
          },
          "output_type": "display_data"
        },
        {
          "data": {
            "image/png": "[encoded data removed]",
            "text/plain": [
              "<Figure size 432x288 with 2 Axes>"
            ]
          },
          "metadata": {
            "needs_background": "light"
          },
          "output_type": "display_data"
        },
        {
          "data": {
            "image/png": "[encoded data removed]",
            "text/plain": [
              "<Figure size 432x288 with 2 Axes>"
            ]
          },
          "metadata": {
            "needs_background": "light"
          },
          "output_type": "display_data"
        }
      ],
      "source": [
        "import matplotlib.pyplot as plt\n",
        "def sigmoid(x):\n",
        "    return 1 / (1 + np.exp(-x))\n",
        "for i in range(4):\n",
        "    a = sigmoid(slime.latest_preds[-1-i].swapaxes(1,2).reshape((-1,slime.text_tokens,64,64))[0,1])\n",
        "    plt.imshow(a)\n",
        "    plt.colorbar()\n",
        "    plt.show()"
      ]
    },
    {
      "cell_type": "code",
      "execution_count": 33,
      "metadata": {
        "colab": {
          "base_uri": "https://localhost:8080/",
          "height": 847
        },
        "id": "HQQ3-WNo8B8s",
        "outputId": "4a50b8da-d2fe-45ee-87f1-d5ac8b715749"
      },
      "outputs": [
        {
          "ename": "OutOfMemoryError",
          "evalue": "CUDA out of memory. Tried to allocate 320.00 MiB. GPU 0 has a total capacty of 11.76 GiB of which 281.75 MiB is free. Process 425892 has 11.35 GiB memory in use. Of the allocated memory 10.90 GiB is allocated by PyTorch, and 299.52 MiB is reserved by PyTorch but unallocated. If reserved but unallocated memory is large try setting max_split_size_mb to avoid fragmentation.  See documentation for Memory Management and PYTORCH_CUDA_ALLOC_CONF",
          "output_type": "error",
          "traceback": [
            "\u001b[0;31m---------------------------------------------------------------------------\u001b[0m",
            "\u001b[0;31mOutOfMemoryError\u001b[0m                          Traceback (most recent call last)",
            "\u001b[1;32m/root/slime-experiments/slime-lightning copy.ipynb Cell 14\u001b[0m in \u001b[0;36m<cell line: 5>\u001b[0;34m()\u001b[0m\n\u001b[1;32m      <a href='vscode-notebook-cell://ssh-remote%2Bpc-ssh.andrewhealey.rip/root/slime-experiments/slime-lightning%20copy.ipynb#X16sdnNjb2RlLXJlbW90ZQ%3D%3D?line=3'>4</a>\u001b[0m out_masks\u001b[39m=\u001b[39m[]\n\u001b[1;32m      <a href='vscode-notebook-cell://ssh-remote%2Bpc-ssh.andrewhealey.rip/root/slime-experiments/slime-lightning%20copy.ipynb#X16sdnNjb2RlLXJlbW90ZQ%3D%3D?line=4'>5</a>\u001b[0m \u001b[39mfor\u001b[39;00m i,batch \u001b[39min\u001b[39;00m \u001b[39menumerate\u001b[39m(loader):\n\u001b[0;32m----> <a href='vscode-notebook-cell://ssh-remote%2Bpc-ssh.andrewhealey.rip/root/slime-experiments/slime-lightning%20copy.ipynb#X16sdnNjb2RlLXJlbW90ZQ%3D%3D?line=5'>6</a>\u001b[0m   out_mask \u001b[39m=\u001b[39m slime\u001b[39m.\u001b[39;49mpredict_step(batch,i)\u001b[39m.\u001b[39mcpu()\u001b[39m.\u001b[39mnumpy()\n\u001b[1;32m      <a href='vscode-notebook-cell://ssh-remote%2Bpc-ssh.andrewhealey.rip/root/slime-experiments/slime-lightning%20copy.ipynb#X16sdnNjb2RlLXJlbW90ZQ%3D%3D?line=6'>7</a>\u001b[0m   out_masks\u001b[39m.\u001b[39mappend(out_mask)\n\u001b[1;32m      <a href='vscode-notebook-cell://ssh-remote%2Bpc-ssh.andrewhealey.rip/root/slime-experiments/slime-lightning%20copy.ipynb#X16sdnNjb2RlLXJlbW90ZQ%3D%3D?line=8'>9</a>\u001b[0m \u001b[39mimport\u001b[39;00m \u001b[39mmatplotlib\u001b[39;00m\u001b[39m.\u001b[39;00m\u001b[39mpyplot\u001b[39;00m \u001b[39mas\u001b[39;00m \u001b[39mplt\u001b[39;00m\n",
            "File \u001b[0;32m/usr/local/lib/python3.8/dist-packages/torch/utils/_contextlib.py:115\u001b[0m, in \u001b[0;36mcontext_decorator.<locals>.decorate_context\u001b[0;34m(*args, **kwargs)\u001b[0m\n\u001b[1;32m    112\u001b[0m \u001b[39m@functools\u001b[39m\u001b[39m.\u001b[39mwraps(func)\n\u001b[1;32m    113\u001b[0m \u001b[39mdef\u001b[39;00m \u001b[39mdecorate_context\u001b[39m(\u001b[39m*\u001b[39margs, \u001b[39m*\u001b[39m\u001b[39m*\u001b[39mkwargs):\n\u001b[1;32m    114\u001b[0m     \u001b[39mwith\u001b[39;00m ctx_factory():\n\u001b[0;32m--> 115\u001b[0m         \u001b[39mreturn\u001b[39;00m func(\u001b[39m*\u001b[39;49margs, \u001b[39m*\u001b[39;49m\u001b[39m*\u001b[39;49mkwargs)\n",
            "File \u001b[0;32m~/slime-experiments/slime/slime.py:339\u001b[0m, in \u001b[0;36mSLiME.predict_step\u001b[0;34m(self, batch, batch_idx, gt_dim)\u001b[0m\n\u001b[1;32m    336\u001b[0m \u001b[39m# SLIME: sample timestamps from [5,100] as the paper recommends\u001b[39;00m\n\u001b[1;32m    337\u001b[0m timesteps \u001b[39m=\u001b[39m \u001b[39mself\u001b[39m\u001b[39m.\u001b[39mtest_timestep \u001b[39m*\u001b[39m torch\u001b[39m.\u001b[39mones((bsz,), device\u001b[39m=\u001b[39m\u001b[39mself\u001b[39m\u001b[39m.\u001b[39mdevice)\u001b[39m.\u001b[39mlong()\n\u001b[0;32m--> 339\u001b[0m _,cross_attn_maps,self_attn_maps \u001b[39m=\u001b[39m \u001b[39mself\u001b[39;49m\u001b[39m.\u001b[39;49msd\u001b[39m.\u001b[39;49mtraining_step(\n\u001b[1;32m    340\u001b[0m     latents,\n\u001b[1;32m    341\u001b[0m     timesteps,\n\u001b[1;32m    342\u001b[0m     input_text_embeds,\n\u001b[1;32m    343\u001b[0m )\n\u001b[1;32m    345\u001b[0m pred \u001b[39m=\u001b[39m \u001b[39mself\u001b[39m\u001b[39m.\u001b[39mattn_maps_to_mask(\n\u001b[1;32m    346\u001b[0m     cross_attn_maps,\n\u001b[1;32m    347\u001b[0m     self_attn_maps,\n\u001b[1;32m    348\u001b[0m     bsz,gt_dims,\n\u001b[1;32m    349\u001b[0m )\n\u001b[1;32m    351\u001b[0m \u001b[39m# return argmax of predictions\u001b[39;00m\n",
            "File \u001b[0;32m~/slime-experiments/slime/sd.py:121\u001b[0m, in \u001b[0;36mStableDiffusion.training_step\u001b[0;34m(self, latents, timesteps, text_embeds)\u001b[0m\n\u001b[1;32m    115\u001b[0m encoder_hidden_states \u001b[39m=\u001b[39m text_embeds\n\u001b[1;32m    117\u001b[0m \u001b[39m# Predict the noise residual\u001b[39;00m\n\u001b[1;32m    118\u001b[0m \u001b[39m# SLIME: we extract CA and SA from Unet\u001b[39;00m\n\u001b[1;32m    119\u001b[0m \u001b[39m# cross_maps and self_maps are in-scope, use them\u001b[39;00m\n\u001b[0;32m--> 121\u001b[0m noise_pred \u001b[39m=\u001b[39m \u001b[39mself\u001b[39;49m\u001b[39m.\u001b[39;49munet(noisy_latents, timesteps, encoder_hidden_states)\u001b[39m.\u001b[39msample\n\u001b[1;32m    123\u001b[0m \u001b[39m# Get the target for loss depending on the prediction type\u001b[39;00m\n\u001b[1;32m    124\u001b[0m \u001b[39mif\u001b[39;00m \u001b[39mself\u001b[39m\u001b[39m.\u001b[39mnoise_scheduler\u001b[39m.\u001b[39mconfig\u001b[39m.\u001b[39mprediction_type \u001b[39m==\u001b[39m \u001b[39m\"\u001b[39m\u001b[39mepsilon\u001b[39m\u001b[39m\"\u001b[39m:\n",
            "File \u001b[0;32m/usr/local/lib/python3.8/dist-packages/torch/nn/modules/module.py:1518\u001b[0m, in \u001b[0;36mModule._wrapped_call_impl\u001b[0;34m(self, *args, **kwargs)\u001b[0m\n\u001b[1;32m   1516\u001b[0m     \u001b[39mreturn\u001b[39;00m \u001b[39mself\u001b[39m\u001b[39m.\u001b[39m_compiled_call_impl(\u001b[39m*\u001b[39margs, \u001b[39m*\u001b[39m\u001b[39m*\u001b[39mkwargs)  \u001b[39m# type: ignore[misc]\u001b[39;00m\n\u001b[1;32m   1517\u001b[0m \u001b[39melse\u001b[39;00m:\n\u001b[0;32m-> 1518\u001b[0m     \u001b[39mreturn\u001b[39;00m \u001b[39mself\u001b[39;49m\u001b[39m.\u001b[39;49m_call_impl(\u001b[39m*\u001b[39;49margs, \u001b[39m*\u001b[39;49m\u001b[39m*\u001b[39;49mkwargs)\n",
            "File \u001b[0;32m/usr/local/lib/python3.8/dist-packages/torch/nn/modules/module.py:1527\u001b[0m, in \u001b[0;36mModule._call_impl\u001b[0;34m(self, *args, **kwargs)\u001b[0m\n\u001b[1;32m   1522\u001b[0m \u001b[39m# If we don't have any hooks, we want to skip the rest of the logic in\u001b[39;00m\n\u001b[1;32m   1523\u001b[0m \u001b[39m# this function, and just call forward.\u001b[39;00m\n\u001b[1;32m   1524\u001b[0m \u001b[39mif\u001b[39;00m \u001b[39mnot\u001b[39;00m (\u001b[39mself\u001b[39m\u001b[39m.\u001b[39m_backward_hooks \u001b[39mor\u001b[39;00m \u001b[39mself\u001b[39m\u001b[39m.\u001b[39m_backward_pre_hooks \u001b[39mor\u001b[39;00m \u001b[39mself\u001b[39m\u001b[39m.\u001b[39m_forward_hooks \u001b[39mor\u001b[39;00m \u001b[39mself\u001b[39m\u001b[39m.\u001b[39m_forward_pre_hooks\n\u001b[1;32m   1525\u001b[0m         \u001b[39mor\u001b[39;00m _global_backward_pre_hooks \u001b[39mor\u001b[39;00m _global_backward_hooks\n\u001b[1;32m   1526\u001b[0m         \u001b[39mor\u001b[39;00m _global_forward_hooks \u001b[39mor\u001b[39;00m _global_forward_pre_hooks):\n\u001b[0;32m-> 1527\u001b[0m     \u001b[39mreturn\u001b[39;00m forward_call(\u001b[39m*\u001b[39;49margs, \u001b[39m*\u001b[39;49m\u001b[39m*\u001b[39;49mkwargs)\n\u001b[1;32m   1529\u001b[0m \u001b[39mtry\u001b[39;00m:\n\u001b[1;32m   1530\u001b[0m     result \u001b[39m=\u001b[39m \u001b[39mNone\u001b[39;00m\n",
            "File \u001b[0;32m/usr/local/lib/python3.8/dist-packages/diffusers/models/unet_2d_condition.py:1131\u001b[0m, in \u001b[0;36mUNet2DConditionModel.forward\u001b[0;34m(self, sample, timestep, encoder_hidden_states, class_labels, timestep_cond, attention_mask, cross_attention_kwargs, added_cond_kwargs, down_block_additional_residuals, mid_block_additional_residual, down_intrablock_additional_residuals, encoder_attention_mask, return_dict)\u001b[0m\n\u001b[1;32m   1128\u001b[0m     upsample_size \u001b[39m=\u001b[39m down_block_res_samples[\u001b[39m-\u001b[39m\u001b[39m1\u001b[39m]\u001b[39m.\u001b[39mshape[\u001b[39m2\u001b[39m:]\n\u001b[1;32m   1130\u001b[0m \u001b[39mif\u001b[39;00m \u001b[39mhasattr\u001b[39m(upsample_block, \u001b[39m\"\u001b[39m\u001b[39mhas_cross_attention\u001b[39m\u001b[39m\"\u001b[39m) \u001b[39mand\u001b[39;00m upsample_block\u001b[39m.\u001b[39mhas_cross_attention:\n\u001b[0;32m-> 1131\u001b[0m     sample \u001b[39m=\u001b[39m upsample_block(\n\u001b[1;32m   1132\u001b[0m         hidden_states\u001b[39m=\u001b[39;49msample,\n\u001b[1;32m   1133\u001b[0m         temb\u001b[39m=\u001b[39;49memb,\n\u001b[1;32m   1134\u001b[0m         res_hidden_states_tuple\u001b[39m=\u001b[39;49mres_samples,\n\u001b[1;32m   1135\u001b[0m         encoder_hidden_states\u001b[39m=\u001b[39;49mencoder_hidden_states,\n\u001b[1;32m   1136\u001b[0m         cross_attention_kwargs\u001b[39m=\u001b[39;49mcross_attention_kwargs,\n\u001b[1;32m   1137\u001b[0m         upsample_size\u001b[39m=\u001b[39;49mupsample_size,\n\u001b[1;32m   1138\u001b[0m         attention_mask\u001b[39m=\u001b[39;49mattention_mask,\n\u001b[1;32m   1139\u001b[0m         encoder_attention_mask\u001b[39m=\u001b[39;49mencoder_attention_mask,\n\u001b[1;32m   1140\u001b[0m     )\n\u001b[1;32m   1141\u001b[0m \u001b[39melse\u001b[39;00m:\n\u001b[1;32m   1142\u001b[0m     sample \u001b[39m=\u001b[39m upsample_block(\n\u001b[1;32m   1143\u001b[0m         hidden_states\u001b[39m=\u001b[39msample,\n\u001b[1;32m   1144\u001b[0m         temb\u001b[39m=\u001b[39memb,\n\u001b[0;32m   (...)\u001b[0m\n\u001b[1;32m   1147\u001b[0m         scale\u001b[39m=\u001b[39mlora_scale,\n\u001b[1;32m   1148\u001b[0m     )\n",
            "File \u001b[0;32m/usr/local/lib/python3.8/dist-packages/torch/nn/modules/module.py:1518\u001b[0m, in \u001b[0;36mModule._wrapped_call_impl\u001b[0;34m(self, *args, **kwargs)\u001b[0m\n\u001b[1;32m   1516\u001b[0m     \u001b[39mreturn\u001b[39;00m \u001b[39mself\u001b[39m\u001b[39m.\u001b[39m_compiled_call_impl(\u001b[39m*\u001b[39margs, \u001b[39m*\u001b[39m\u001b[39m*\u001b[39mkwargs)  \u001b[39m# type: ignore[misc]\u001b[39;00m\n\u001b[1;32m   1517\u001b[0m \u001b[39melse\u001b[39;00m:\n\u001b[0;32m-> 1518\u001b[0m     \u001b[39mreturn\u001b[39;00m \u001b[39mself\u001b[39;49m\u001b[39m.\u001b[39;49m_call_impl(\u001b[39m*\u001b[39;49margs, \u001b[39m*\u001b[39;49m\u001b[39m*\u001b[39;49mkwargs)\n",
            "File \u001b[0;32m/usr/local/lib/python3.8/dist-packages/torch/nn/modules/module.py:1527\u001b[0m, in \u001b[0;36mModule._call_impl\u001b[0;34m(self, *args, **kwargs)\u001b[0m\n\u001b[1;32m   1522\u001b[0m \u001b[39m# If we don't have any hooks, we want to skip the rest of the logic in\u001b[39;00m\n\u001b[1;32m   1523\u001b[0m \u001b[39m# this function, and just call forward.\u001b[39;00m\n\u001b[1;32m   1524\u001b[0m \u001b[39mif\u001b[39;00m \u001b[39mnot\u001b[39;00m (\u001b[39mself\u001b[39m\u001b[39m.\u001b[39m_backward_hooks \u001b[39mor\u001b[39;00m \u001b[39mself\u001b[39m\u001b[39m.\u001b[39m_backward_pre_hooks \u001b[39mor\u001b[39;00m \u001b[39mself\u001b[39m\u001b[39m.\u001b[39m_forward_hooks \u001b[39mor\u001b[39;00m \u001b[39mself\u001b[39m\u001b[39m.\u001b[39m_forward_pre_hooks\n\u001b[1;32m   1525\u001b[0m         \u001b[39mor\u001b[39;00m _global_backward_pre_hooks \u001b[39mor\u001b[39;00m _global_backward_hooks\n\u001b[1;32m   1526\u001b[0m         \u001b[39mor\u001b[39;00m _global_forward_hooks \u001b[39mor\u001b[39;00m _global_forward_pre_hooks):\n\u001b[0;32m-> 1527\u001b[0m     \u001b[39mreturn\u001b[39;00m forward_call(\u001b[39m*\u001b[39;49margs, \u001b[39m*\u001b[39;49m\u001b[39m*\u001b[39;49mkwargs)\n\u001b[1;32m   1529\u001b[0m \u001b[39mtry\u001b[39;00m:\n\u001b[1;32m   1530\u001b[0m     result \u001b[39m=\u001b[39m \u001b[39mNone\u001b[39;00m\n",
            "File \u001b[0;32m/usr/local/lib/python3.8/dist-packages/diffusers/models/unet_2d_blocks.py:2354\u001b[0m, in \u001b[0;36mCrossAttnUpBlock2D.forward\u001b[0;34m(self, hidden_states, res_hidden_states_tuple, temb, encoder_hidden_states, cross_attention_kwargs, upsample_size, attention_mask, encoder_attention_mask)\u001b[0m\n\u001b[1;32m   2352\u001b[0m     \u001b[39melse\u001b[39;00m:\n\u001b[1;32m   2353\u001b[0m         hidden_states \u001b[39m=\u001b[39m resnet(hidden_states, temb, scale\u001b[39m=\u001b[39mlora_scale)\n\u001b[0;32m-> 2354\u001b[0m         hidden_states \u001b[39m=\u001b[39m attn(\n\u001b[1;32m   2355\u001b[0m             hidden_states,\n\u001b[1;32m   2356\u001b[0m             encoder_hidden_states\u001b[39m=\u001b[39;49mencoder_hidden_states,\n\u001b[1;32m   2357\u001b[0m             cross_attention_kwargs\u001b[39m=\u001b[39;49mcross_attention_kwargs,\n\u001b[1;32m   2358\u001b[0m             attention_mask\u001b[39m=\u001b[39;49mattention_mask,\n\u001b[1;32m   2359\u001b[0m             encoder_attention_mask\u001b[39m=\u001b[39;49mencoder_attention_mask,\n\u001b[1;32m   2360\u001b[0m             return_dict\u001b[39m=\u001b[39;49m\u001b[39mFalse\u001b[39;49;00m,\n\u001b[1;32m   2361\u001b[0m         )[\u001b[39m0\u001b[39m]\n\u001b[1;32m   2363\u001b[0m \u001b[39mif\u001b[39;00m \u001b[39mself\u001b[39m\u001b[39m.\u001b[39mupsamplers \u001b[39mis\u001b[39;00m \u001b[39mnot\u001b[39;00m \u001b[39mNone\u001b[39;00m:\n\u001b[1;32m   2364\u001b[0m     \u001b[39mfor\u001b[39;00m upsampler \u001b[39min\u001b[39;00m \u001b[39mself\u001b[39m\u001b[39m.\u001b[39mupsamplers:\n",
            "File \u001b[0;32m/usr/local/lib/python3.8/dist-packages/torch/nn/modules/module.py:1518\u001b[0m, in \u001b[0;36mModule._wrapped_call_impl\u001b[0;34m(self, *args, **kwargs)\u001b[0m\n\u001b[1;32m   1516\u001b[0m     \u001b[39mreturn\u001b[39;00m \u001b[39mself\u001b[39m\u001b[39m.\u001b[39m_compiled_call_impl(\u001b[39m*\u001b[39margs, \u001b[39m*\u001b[39m\u001b[39m*\u001b[39mkwargs)  \u001b[39m# type: ignore[misc]\u001b[39;00m\n\u001b[1;32m   1517\u001b[0m \u001b[39melse\u001b[39;00m:\n\u001b[0;32m-> 1518\u001b[0m     \u001b[39mreturn\u001b[39;00m \u001b[39mself\u001b[39;49m\u001b[39m.\u001b[39;49m_call_impl(\u001b[39m*\u001b[39;49margs, \u001b[39m*\u001b[39;49m\u001b[39m*\u001b[39;49mkwargs)\n",
            "File \u001b[0;32m/usr/local/lib/python3.8/dist-packages/torch/nn/modules/module.py:1527\u001b[0m, in \u001b[0;36mModule._call_impl\u001b[0;34m(self, *args, **kwargs)\u001b[0m\n\u001b[1;32m   1522\u001b[0m \u001b[39m# If we don't have any hooks, we want to skip the rest of the logic in\u001b[39;00m\n\u001b[1;32m   1523\u001b[0m \u001b[39m# this function, and just call forward.\u001b[39;00m\n\u001b[1;32m   1524\u001b[0m \u001b[39mif\u001b[39;00m \u001b[39mnot\u001b[39;00m (\u001b[39mself\u001b[39m\u001b[39m.\u001b[39m_backward_hooks \u001b[39mor\u001b[39;00m \u001b[39mself\u001b[39m\u001b[39m.\u001b[39m_backward_pre_hooks \u001b[39mor\u001b[39;00m \u001b[39mself\u001b[39m\u001b[39m.\u001b[39m_forward_hooks \u001b[39mor\u001b[39;00m \u001b[39mself\u001b[39m\u001b[39m.\u001b[39m_forward_pre_hooks\n\u001b[1;32m   1525\u001b[0m         \u001b[39mor\u001b[39;00m _global_backward_pre_hooks \u001b[39mor\u001b[39;00m _global_backward_hooks\n\u001b[1;32m   1526\u001b[0m         \u001b[39mor\u001b[39;00m _global_forward_hooks \u001b[39mor\u001b[39;00m _global_forward_pre_hooks):\n\u001b[0;32m-> 1527\u001b[0m     \u001b[39mreturn\u001b[39;00m forward_call(\u001b[39m*\u001b[39;49margs, \u001b[39m*\u001b[39;49m\u001b[39m*\u001b[39;49mkwargs)\n\u001b[1;32m   1529\u001b[0m \u001b[39mtry\u001b[39;00m:\n\u001b[1;32m   1530\u001b[0m     result \u001b[39m=\u001b[39m \u001b[39mNone\u001b[39;00m\n",
            "File \u001b[0;32m/usr/local/lib/python3.8/dist-packages/diffusers/models/transformer_2d.py:334\u001b[0m, in \u001b[0;36mTransformer2DModel.forward\u001b[0;34m(self, hidden_states, encoder_hidden_states, timestep, class_labels, cross_attention_kwargs, attention_mask, encoder_attention_mask, return_dict)\u001b[0m\n\u001b[1;32m    322\u001b[0m         hidden_states \u001b[39m=\u001b[39m torch\u001b[39m.\u001b[39mutils\u001b[39m.\u001b[39mcheckpoint\u001b[39m.\u001b[39mcheckpoint(\n\u001b[1;32m    323\u001b[0m             block,\n\u001b[1;32m    324\u001b[0m             hidden_states,\n\u001b[0;32m   (...)\u001b[0m\n\u001b[1;32m    331\u001b[0m             use_reentrant\u001b[39m=\u001b[39m\u001b[39mFalse\u001b[39;00m,\n\u001b[1;32m    332\u001b[0m         )\n\u001b[1;32m    333\u001b[0m     \u001b[39melse\u001b[39;00m:\n\u001b[0;32m--> 334\u001b[0m         hidden_states \u001b[39m=\u001b[39m block(\n\u001b[1;32m    335\u001b[0m             hidden_states,\n\u001b[1;32m    336\u001b[0m             attention_mask\u001b[39m=\u001b[39;49mattention_mask,\n\u001b[1;32m    337\u001b[0m             encoder_hidden_states\u001b[39m=\u001b[39;49mencoder_hidden_states,\n\u001b[1;32m    338\u001b[0m             encoder_attention_mask\u001b[39m=\u001b[39;49mencoder_attention_mask,\n\u001b[1;32m    339\u001b[0m             timestep\u001b[39m=\u001b[39;49mtimestep,\n\u001b[1;32m    340\u001b[0m             cross_attention_kwargs\u001b[39m=\u001b[39;49mcross_attention_kwargs,\n\u001b[1;32m    341\u001b[0m             class_labels\u001b[39m=\u001b[39;49mclass_labels,\n\u001b[1;32m    342\u001b[0m         )\n\u001b[1;32m    344\u001b[0m \u001b[39m# 3. Output\u001b[39;00m\n\u001b[1;32m    345\u001b[0m \u001b[39mif\u001b[39;00m \u001b[39mself\u001b[39m\u001b[39m.\u001b[39mis_input_continuous:\n",
            "File \u001b[0;32m/usr/local/lib/python3.8/dist-packages/torch/nn/modules/module.py:1518\u001b[0m, in \u001b[0;36mModule._wrapped_call_impl\u001b[0;34m(self, *args, **kwargs)\u001b[0m\n\u001b[1;32m   1516\u001b[0m     \u001b[39mreturn\u001b[39;00m \u001b[39mself\u001b[39m\u001b[39m.\u001b[39m_compiled_call_impl(\u001b[39m*\u001b[39margs, \u001b[39m*\u001b[39m\u001b[39m*\u001b[39mkwargs)  \u001b[39m# type: ignore[misc]\u001b[39;00m\n\u001b[1;32m   1517\u001b[0m \u001b[39melse\u001b[39;00m:\n\u001b[0;32m-> 1518\u001b[0m     \u001b[39mreturn\u001b[39;00m \u001b[39mself\u001b[39;49m\u001b[39m.\u001b[39;49m_call_impl(\u001b[39m*\u001b[39;49margs, \u001b[39m*\u001b[39;49m\u001b[39m*\u001b[39;49mkwargs)\n",
            "File \u001b[0;32m/usr/local/lib/python3.8/dist-packages/torch/nn/modules/module.py:1527\u001b[0m, in \u001b[0;36mModule._call_impl\u001b[0;34m(self, *args, **kwargs)\u001b[0m\n\u001b[1;32m   1522\u001b[0m \u001b[39m# If we don't have any hooks, we want to skip the rest of the logic in\u001b[39;00m\n\u001b[1;32m   1523\u001b[0m \u001b[39m# this function, and just call forward.\u001b[39;00m\n\u001b[1;32m   1524\u001b[0m \u001b[39mif\u001b[39;00m \u001b[39mnot\u001b[39;00m (\u001b[39mself\u001b[39m\u001b[39m.\u001b[39m_backward_hooks \u001b[39mor\u001b[39;00m \u001b[39mself\u001b[39m\u001b[39m.\u001b[39m_backward_pre_hooks \u001b[39mor\u001b[39;00m \u001b[39mself\u001b[39m\u001b[39m.\u001b[39m_forward_hooks \u001b[39mor\u001b[39;00m \u001b[39mself\u001b[39m\u001b[39m.\u001b[39m_forward_pre_hooks\n\u001b[1;32m   1525\u001b[0m         \u001b[39mor\u001b[39;00m _global_backward_pre_hooks \u001b[39mor\u001b[39;00m _global_backward_hooks\n\u001b[1;32m   1526\u001b[0m         \u001b[39mor\u001b[39;00m _global_forward_hooks \u001b[39mor\u001b[39;00m _global_forward_pre_hooks):\n\u001b[0;32m-> 1527\u001b[0m     \u001b[39mreturn\u001b[39;00m forward_call(\u001b[39m*\u001b[39;49margs, \u001b[39m*\u001b[39;49m\u001b[39m*\u001b[39;49mkwargs)\n\u001b[1;32m   1529\u001b[0m \u001b[39mtry\u001b[39;00m:\n\u001b[1;32m   1530\u001b[0m     result \u001b[39m=\u001b[39m \u001b[39mNone\u001b[39;00m\n",
            "File \u001b[0;32m/usr/local/lib/python3.8/dist-packages/diffusers/models/attention.py:237\u001b[0m, in \u001b[0;36mBasicTransformerBlock.forward\u001b[0;34m(self, hidden_states, attention_mask, encoder_hidden_states, encoder_attention_mask, timestep, cross_attention_kwargs, class_labels)\u001b[0m\n\u001b[1;32m    234\u001b[0m cross_attention_kwargs \u001b[39m=\u001b[39m cross_attention_kwargs\u001b[39m.\u001b[39mcopy() \u001b[39mif\u001b[39;00m cross_attention_kwargs \u001b[39mis\u001b[39;00m \u001b[39mnot\u001b[39;00m \u001b[39mNone\u001b[39;00m \u001b[39melse\u001b[39;00m {}\n\u001b[1;32m    235\u001b[0m gligen_kwargs \u001b[39m=\u001b[39m cross_attention_kwargs\u001b[39m.\u001b[39mpop(\u001b[39m\"\u001b[39m\u001b[39mgligen\u001b[39m\u001b[39m\"\u001b[39m, \u001b[39mNone\u001b[39;00m)\n\u001b[0;32m--> 237\u001b[0m attn_output \u001b[39m=\u001b[39m \u001b[39mself\u001b[39;49m\u001b[39m.\u001b[39;49mattn1(\n\u001b[1;32m    238\u001b[0m     norm_hidden_states,\n\u001b[1;32m    239\u001b[0m     encoder_hidden_states\u001b[39m=\u001b[39;49mencoder_hidden_states \u001b[39mif\u001b[39;49;00m \u001b[39mself\u001b[39;49m\u001b[39m.\u001b[39;49monly_cross_attention \u001b[39melse\u001b[39;49;00m \u001b[39mNone\u001b[39;49;00m,\n\u001b[1;32m    240\u001b[0m     attention_mask\u001b[39m=\u001b[39;49mattention_mask,\n\u001b[1;32m    241\u001b[0m     \u001b[39m*\u001b[39;49m\u001b[39m*\u001b[39;49mcross_attention_kwargs,\n\u001b[1;32m    242\u001b[0m )\n\u001b[1;32m    243\u001b[0m \u001b[39mif\u001b[39;00m \u001b[39mself\u001b[39m\u001b[39m.\u001b[39muse_ada_layer_norm_zero:\n\u001b[1;32m    244\u001b[0m     attn_output \u001b[39m=\u001b[39m gate_msa\u001b[39m.\u001b[39munsqueeze(\u001b[39m1\u001b[39m) \u001b[39m*\u001b[39m attn_output\n",
            "File \u001b[0;32m/usr/local/lib/python3.8/dist-packages/torch/nn/modules/module.py:1518\u001b[0m, in \u001b[0;36mModule._wrapped_call_impl\u001b[0;34m(self, *args, **kwargs)\u001b[0m\n\u001b[1;32m   1516\u001b[0m     \u001b[39mreturn\u001b[39;00m \u001b[39mself\u001b[39m\u001b[39m.\u001b[39m_compiled_call_impl(\u001b[39m*\u001b[39margs, \u001b[39m*\u001b[39m\u001b[39m*\u001b[39mkwargs)  \u001b[39m# type: ignore[misc]\u001b[39;00m\n\u001b[1;32m   1517\u001b[0m \u001b[39melse\u001b[39;00m:\n\u001b[0;32m-> 1518\u001b[0m     \u001b[39mreturn\u001b[39;00m \u001b[39mself\u001b[39;49m\u001b[39m.\u001b[39;49m_call_impl(\u001b[39m*\u001b[39;49margs, \u001b[39m*\u001b[39;49m\u001b[39m*\u001b[39;49mkwargs)\n",
            "File \u001b[0;32m/usr/local/lib/python3.8/dist-packages/torch/nn/modules/module.py:1527\u001b[0m, in \u001b[0;36mModule._call_impl\u001b[0;34m(self, *args, **kwargs)\u001b[0m\n\u001b[1;32m   1522\u001b[0m \u001b[39m# If we don't have any hooks, we want to skip the rest of the logic in\u001b[39;00m\n\u001b[1;32m   1523\u001b[0m \u001b[39m# this function, and just call forward.\u001b[39;00m\n\u001b[1;32m   1524\u001b[0m \u001b[39mif\u001b[39;00m \u001b[39mnot\u001b[39;00m (\u001b[39mself\u001b[39m\u001b[39m.\u001b[39m_backward_hooks \u001b[39mor\u001b[39;00m \u001b[39mself\u001b[39m\u001b[39m.\u001b[39m_backward_pre_hooks \u001b[39mor\u001b[39;00m \u001b[39mself\u001b[39m\u001b[39m.\u001b[39m_forward_hooks \u001b[39mor\u001b[39;00m \u001b[39mself\u001b[39m\u001b[39m.\u001b[39m_forward_pre_hooks\n\u001b[1;32m   1525\u001b[0m         \u001b[39mor\u001b[39;00m _global_backward_pre_hooks \u001b[39mor\u001b[39;00m _global_backward_hooks\n\u001b[1;32m   1526\u001b[0m         \u001b[39mor\u001b[39;00m _global_forward_hooks \u001b[39mor\u001b[39;00m _global_forward_pre_hooks):\n\u001b[0;32m-> 1527\u001b[0m     \u001b[39mreturn\u001b[39;00m forward_call(\u001b[39m*\u001b[39;49margs, \u001b[39m*\u001b[39;49m\u001b[39m*\u001b[39;49mkwargs)\n\u001b[1;32m   1529\u001b[0m \u001b[39mtry\u001b[39;00m:\n\u001b[1;32m   1530\u001b[0m     result \u001b[39m=\u001b[39m \u001b[39mNone\u001b[39;00m\n",
            "File \u001b[0;32m/usr/local/lib/python3.8/dist-packages/diffusers/models/attention_processor.py:522\u001b[0m, in \u001b[0;36mAttention.forward\u001b[0;34m(self, hidden_states, encoder_hidden_states, attention_mask, **cross_attention_kwargs)\u001b[0m\n\u001b[1;32m    503\u001b[0m \u001b[39mr\u001b[39m\u001b[39m\"\"\"\u001b[39;00m\n\u001b[1;32m    504\u001b[0m \u001b[39mThe forward method of the `Attention` class.\u001b[39;00m\n\u001b[1;32m    505\u001b[0m \n\u001b[0;32m   (...)\u001b[0m\n\u001b[1;32m    517\u001b[0m \u001b[39m    `torch.Tensor`: The output of the attention layer.\u001b[39;00m\n\u001b[1;32m    518\u001b[0m \u001b[39m\"\"\"\u001b[39;00m\n\u001b[1;32m    519\u001b[0m \u001b[39m# The `Attention` class can call different attention processors / attention functions\u001b[39;00m\n\u001b[1;32m    520\u001b[0m \u001b[39m# here we simply pass along all tensors to the selected processor class\u001b[39;00m\n\u001b[1;32m    521\u001b[0m \u001b[39m# For standard processors that are defined here, `**cross_attention_kwargs` is empty\u001b[39;00m\n\u001b[0;32m--> 522\u001b[0m \u001b[39mreturn\u001b[39;00m \u001b[39mself\u001b[39;49m\u001b[39m.\u001b[39;49mprocessor(\n\u001b[1;32m    523\u001b[0m     \u001b[39mself\u001b[39;49m,\n\u001b[1;32m    524\u001b[0m     hidden_states,\n\u001b[1;32m    525\u001b[0m     encoder_hidden_states\u001b[39m=\u001b[39;49mencoder_hidden_states,\n\u001b[1;32m    526\u001b[0m     attention_mask\u001b[39m=\u001b[39;49mattention_mask,\n\u001b[1;32m    527\u001b[0m     \u001b[39m*\u001b[39;49m\u001b[39m*\u001b[39;49mcross_attention_kwargs,\n\u001b[1;32m    528\u001b[0m )\n",
            "File \u001b[0;32m~/slime-experiments/slime/attn_processor.py:65\u001b[0m, in \u001b[0;36mCustomAttnProcessor.__call__\u001b[0;34m(self, attn, hidden_states, encoder_hidden_states, attention_mask, temb, scale)\u001b[0m\n\u001b[1;32m     62\u001b[0m key \u001b[39m=\u001b[39m attn\u001b[39m.\u001b[39mhead_to_batch_dim(key)\n\u001b[1;32m     63\u001b[0m value \u001b[39m=\u001b[39m attn\u001b[39m.\u001b[39mhead_to_batch_dim(value)\n\u001b[0;32m---> 65\u001b[0m attention_probs \u001b[39m=\u001b[39m attn\u001b[39m.\u001b[39;49mget_attention_scores(query, key, attention_mask)\n\u001b[1;32m     67\u001b[0m \u001b[39m#\u001b[39;00m\n\u001b[1;32m     68\u001b[0m \u001b[39m# This is the only SLIME modification\u001b[39;00m\n\u001b[1;32m     69\u001b[0m \u001b[39m#\u001b[39;00m\n\u001b[1;32m     70\u001b[0m \u001b[39mself\u001b[39m\u001b[39m.\u001b[39marr_to_write[\u001b[39mself\u001b[39m\u001b[39m.\u001b[39marr_to_write_idx] \u001b[39m=\u001b[39m attention_probs\n",
            "File \u001b[0;32m/usr/local/lib/python3.8/dist-packages/diffusers/models/attention_processor.py:598\u001b[0m, in \u001b[0;36mAttention.get_attention_scores\u001b[0;34m(self, query, key, attention_mask)\u001b[0m\n\u001b[1;32m    595\u001b[0m     baddbmm_input \u001b[39m=\u001b[39m attention_mask\n\u001b[1;32m    596\u001b[0m     beta \u001b[39m=\u001b[39m \u001b[39m1\u001b[39m\n\u001b[0;32m--> 598\u001b[0m attention_scores \u001b[39m=\u001b[39m torch\u001b[39m.\u001b[39;49mbaddbmm(\n\u001b[1;32m    599\u001b[0m     baddbmm_input,\n\u001b[1;32m    600\u001b[0m     query,\n\u001b[1;32m    601\u001b[0m     key\u001b[39m.\u001b[39;49mtranspose(\u001b[39m-\u001b[39;49m\u001b[39m1\u001b[39;49m, \u001b[39m-\u001b[39;49m\u001b[39m2\u001b[39;49m),\n\u001b[1;32m    602\u001b[0m     beta\u001b[39m=\u001b[39;49mbeta,\n\u001b[1;32m    603\u001b[0m     alpha\u001b[39m=\u001b[39;49m\u001b[39mself\u001b[39;49m\u001b[39m.\u001b[39;49mscale,\n\u001b[1;32m    604\u001b[0m )\n\u001b[1;32m    605\u001b[0m \u001b[39mdel\u001b[39;00m baddbmm_input\n\u001b[1;32m    607\u001b[0m \u001b[39mif\u001b[39;00m \u001b[39mself\u001b[39m\u001b[39m.\u001b[39mupcast_softmax:\n",
            "\u001b[0;31mOutOfMemoryError\u001b[0m: CUDA out of memory. Tried to allocate 320.00 MiB. GPU 0 has a total capacty of 11.76 GiB of which 281.75 MiB is free. Process 425892 has 11.35 GiB memory in use. Of the allocated memory 10.90 GiB is allocated by PyTorch, and 299.52 MiB is reserved by PyTorch but unallocated. If reserved but unallocated memory is large try setting max_split_size_mb to avoid fragmentation.  See documentation for Memory Management and PYTORCH_CUDA_ALLOC_CONF"
          ]
        }
      ],
      "source": [
        "#@title Infer on test set\n",
        "out_mask = None\n",
        "loader = data_module.test_dataloader()\n",
        "out_masks=[]\n",
        "for i,batch in enumerate(loader):\n",
        "  out_mask = slime.predict_step(batch,i).cpu().numpy()\n",
        "  out_masks.append(out_mask)\n",
        "\n",
        "import matplotlib.pyplot as plt\n",
        "for out_mask in out_masks:\n",
        "  for j in range(len(out_mask)):\n",
        "    plt.imshow(sigmoid(out_mask[j,:,1].reshape((64,64))))\n",
        "    plt.colorbar()\n",
        "    plt.show()"
      ]
    },
    {
      "cell_type": "code",
      "execution_count": null,
      "metadata": {},
      "outputs": [
        {
          "data": {
            "image/png": "[encoded data removed]",
            "text/plain": [
              "<Figure size 432x288 with 2 Axes>"
            ]
          },
          "metadata": {
            "needs_background": "light"
          },
          "output_type": "display_data"
        },
        {
          "data": {
            "image/png": "[encoded data removed]",
            "text/plain": [
              "<Figure size 432x288 with 2 Axes>"
            ]
          },
          "metadata": {
            "needs_background": "light"
          },
          "output_type": "display_data"
        },
        {
          "name": "stdout",
          "output_type": "stream",
          "text": [
            "tensor([0.7261, 0.9753, 0.9753, 0.9753, 0.9753, 0.9753, 0.9753, 0.9753, 0.9753,\n",
            "        0.9753, 0.9753, 0.9753, 0.9753, 0.9753, 0.9753, 0.9753],\n",
            "       device='cuda:0')\n"
          ]
        }
      ],
      "source": [
        "preds = slime.latest_means\n",
        "# print([(pred.shape,pred.mean(axis=1)) for pred in preds])\n",
        "\n",
        "for pred in preds:\n",
        "    for i in range(pred.shape[1]):\n",
        "        plt.imshow(pred[0,i].reshape((64,64)))\n",
        "        plt.colorbar()\n",
        "        plt.show()\n",
        "\n",
        "print(slime.cross_layer_multiplier.weight.data)"
      ]
    },
    {
      "cell_type": "code",
      "execution_count": null,
      "metadata": {},
      "outputs": [
        {
          "name": "stdout",
          "output_type": "stream",
          "text": [
            "[(20, 256, 4)]\n",
            "Layer 0\n"
          ]
        },
        {
          "data": {
            "image/png": "[encoded data removed]",
            "text/plain": [
              "<Figure size 432x288 with 2 Axes>"
            ]
          },
          "metadata": {
            "needs_background": "light"
          },
          "output_type": "display_data"
        },
        {
          "data": {
            "image/png": "[encoded data removed]",
            "text/plain": [
              "<Figure size 432x288 with 2 Axes>"
            ]
          },
          "metadata": {
            "needs_background": "light"
          },
          "output_type": "display_data"
        },
        {
          "data": {
            "image/png": "[encoded data removed]",
            "text/plain": [
              "<Figure size 432x288 with 2 Axes>"
            ]
          },
          "metadata": {
            "needs_background": "light"
          },
          "output_type": "display_data"
        },
        {
          "data": {
            "image/png": "[encoded data removed]",
            "text/plain": [
              "<Figure size 432x288 with 2 Axes>"
            ]
          },
          "metadata": {
            "needs_background": "light"
          },
          "output_type": "display_data"
        },
        {
          "name": "stdout",
          "output_type": "stream",
          "text": [
            "tensor([0.7261, 0.9753, 0.9753, 0.9753, 0.9753, 0.9753, 0.9753, 0.9753, 0.9753,\n",
            "        0.9753, 0.9753, 0.9753, 0.9753, 0.9753, 0.9753, 0.9753],\n",
            "       device='cuda:0')\n"
          ]
        }
      ],
      "source": [
        "xattns = slime.latest_xattns\n",
        "print([(xattn.shape) for xattn in xattns])\n",
        "\n",
        "for i,xattn in enumerate(xattns):\n",
        "    print(\"Layer\",i)\n",
        "    img_tokens = xattn.shape[1]\n",
        "    img_dim = int(math.sqrt(img_tokens))\n",
        "    reshaped = xattn.mean(axis=0,keepdims=True).reshape((img_dim,img_dim,-1))\n",
        "    for j in range(reshaped.shape[-1]):\n",
        "        plt.imshow(reshaped[...,j],cmap=\"gray\")\n",
        "        plt.colorbar()\n",
        "        plt.show()\n",
        "\n",
        "print(slime.cross_layer_multiplier.weight.data)"
      ]
    },
    {
      "cell_type": "code",
      "execution_count": null,
      "metadata": {
        "id": "_SfOQS29r0q6"
      },
      "outputs": [
        {
          "name": "stdout",
          "output_type": "stream",
          "text": [
            "/bin/bash: line 0: cd: /content/slime-experiments/: No such file or directory\n"
          ]
        }
      ],
      "source": [
        "!cd /content/slime-experiments/ && git diff"
      ]
    }
  ],
  "metadata": {
    "accelerator": "GPU",
    "colab": {
      "gpuType": "T4",
      "provenance": []
    },
    "kernelspec": {
      "display_name": "Python 3",
      "name": "python3"
    },
    "language_info": {
      "codemirror_mode": {
        "name": "ipython",
        "version": 3
      },
      "file_extension": ".py",
      "mimetype": "text/x-python",
      "name": "python",
      "nbconvert_exporter": "python",
      "pygments_lexer": "ipython3",
      "version": "3.8.10"
    },
    "orig_nbformat": 4,
    "widgets": {
      "application/vnd.jupyter.widget-state+json": {
        "1d50c28ae9b645adb692128f663ee40c": {
          "model_module": "@jupyter-widgets/controls",
          "model_module_version": "1.5.0",
          "model_name": "ProgressStyleModel",
          "state": {
            "_model_module": "@jupyter-widgets/controls",
            "_model_module_version": "1.5.0",
            "_model_name": "ProgressStyleModel",
            "_view_count": null,
            "_view_module": "@jupyter-widgets/base",
            "_view_module_version": "1.2.0",
            "_view_name": "StyleView",
            "bar_color": null,
            "description_width": ""
          }
        },
        "1ef4b2520aae48b3bd830a1d3f179f89": {
          "model_module": "@jupyter-widgets/base",
          "model_module_version": "1.2.0",
          "model_name": "LayoutModel",
          "state": {
            "_model_module": "@jupyter-widgets/base",
            "_model_module_version": "1.2.0",
            "_model_name": "LayoutModel",
            "_view_count": null,
            "_view_module": "@jupyter-widgets/base",
            "_view_module_version": "1.2.0",
            "_view_name": "LayoutView",
            "align_content": null,
            "align_items": null,
            "align_self": null,
            "border": null,
            "bottom": null,
            "display": null,
            "flex": "2",
            "flex_flow": null,
            "grid_area": null,
            "grid_auto_columns": null,
            "grid_auto_flow": null,
            "grid_auto_rows": null,
            "grid_column": null,
            "grid_gap": null,
            "grid_row": null,
            "grid_template_areas": null,
            "grid_template_columns": null,
            "grid_template_rows": null,
            "height": null,
            "justify_content": null,
            "justify_items": null,
            "left": null,
            "margin": null,
            "max_height": null,
            "max_width": null,
            "min_height": null,
            "min_width": null,
            "object_fit": null,
            "object_position": null,
            "order": null,
            "overflow": null,
            "overflow_x": null,
            "overflow_y": null,
            "padding": null,
            "right": null,
            "top": null,
            "visibility": null,
            "width": null
          }
        },
        "2fe6200bf7064a189e3790f7797c7fbb": {
          "model_module": "@jupyter-widgets/controls",
          "model_module_version": "1.5.0",
          "model_name": "HBoxModel",
          "state": {
            "_dom_classes": [],
            "_model_module": "@jupyter-widgets/controls",
            "_model_module_version": "1.5.0",
            "_model_name": "HBoxModel",
            "_view_count": null,
            "_view_module": "@jupyter-widgets/controls",
            "_view_module_version": "1.5.0",
            "_view_name": "HBoxView",
            "box_style": "",
            "children": [
              "IPY_MODEL_d539050cc54f45c288d912144d081d76",
              "IPY_MODEL_5e4c349b29f14b2d85c5e16e78d352ea",
              "IPY_MODEL_817355e86f614485977a900b659a2fed"
            ],
            "layout": "IPY_MODEL_dc36d39ee4294f8abcc589a88ebc4ceb"
          }
        },
        "39dea76fbc3545658df84b33787383ba": {
          "model_module": "@jupyter-widgets/controls",
          "model_module_version": "1.5.0",
          "model_name": "DescriptionStyleModel",
          "state": {
            "_model_module": "@jupyter-widgets/controls",
            "_model_module_version": "1.5.0",
            "_model_name": "DescriptionStyleModel",
            "_view_count": null,
            "_view_module": "@jupyter-widgets/base",
            "_view_module_version": "1.2.0",
            "_view_name": "StyleView",
            "description_width": ""
          }
        },
        "5e4c349b29f14b2d85c5e16e78d352ea": {
          "model_module": "@jupyter-widgets/controls",
          "model_module_version": "1.5.0",
          "model_name": "FloatProgressModel",
          "state": {
            "_dom_classes": [],
            "_model_module": "@jupyter-widgets/controls",
            "_model_module_version": "1.5.0",
            "_model_name": "FloatProgressModel",
            "_view_count": null,
            "_view_module": "@jupyter-widgets/controls",
            "_view_module_version": "1.5.0",
            "_view_name": "ProgressView",
            "bar_style": "success",
            "description": "",
            "description_tooltip": null,
            "layout": "IPY_MODEL_1ef4b2520aae48b3bd830a1d3f179f89",
            "max": 1,
            "min": 0,
            "orientation": "horizontal",
            "style": "IPY_MODEL_1d50c28ae9b645adb692128f663ee40c",
            "value": 0
          }
        },
        "6607f73936b44302a81d3f3d3ba28310": {
          "model_module": "@jupyter-widgets/base",
          "model_module_version": "1.2.0",
          "model_name": "LayoutModel",
          "state": {
            "_model_module": "@jupyter-widgets/base",
            "_model_module_version": "1.2.0",
            "_model_name": "LayoutModel",
            "_view_count": null,
            "_view_module": "@jupyter-widgets/base",
            "_view_module_version": "1.2.0",
            "_view_name": "LayoutView",
            "align_content": null,
            "align_items": null,
            "align_self": null,
            "border": null,
            "bottom": null,
            "display": null,
            "flex": null,
            "flex_flow": null,
            "grid_area": null,
            "grid_auto_columns": null,
            "grid_auto_flow": null,
            "grid_auto_rows": null,
            "grid_column": null,
            "grid_gap": null,
            "grid_row": null,
            "grid_template_areas": null,
            "grid_template_columns": null,
            "grid_template_rows": null,
            "height": null,
            "justify_content": null,
            "justify_items": null,
            "left": null,
            "margin": null,
            "max_height": null,
            "max_width": null,
            "min_height": null,
            "min_width": null,
            "object_fit": null,
            "object_position": null,
            "order": null,
            "overflow": null,
            "overflow_x": null,
            "overflow_y": null,
            "padding": null,
            "right": null,
            "top": null,
            "visibility": null,
            "width": null
          }
        },
        "817355e86f614485977a900b659a2fed": {
          "model_module": "@jupyter-widgets/controls",
          "model_module_version": "1.5.0",
          "model_name": "HTMLModel",
          "state": {
            "_dom_classes": [],
            "_model_module": "@jupyter-widgets/controls",
            "_model_module_version": "1.5.0",
            "_model_name": "HTMLModel",
            "_view_count": null,
            "_view_module": "@jupyter-widgets/controls",
            "_view_module_version": "1.5.0",
            "_view_name": "HTMLView",
            "description": "",
            "description_tooltip": null,
            "layout": "IPY_MODEL_c905811dc695483293ba977f973fef8c",
            "placeholder": "​",
            "style": "IPY_MODEL_b28003169cce426a875cb82e42cd3c90",
            "value": " 0/? [00:00&lt;?, ?it/s, v_num=4]"
          }
        },
        "b28003169cce426a875cb82e42cd3c90": {
          "model_module": "@jupyter-widgets/controls",
          "model_module_version": "1.5.0",
          "model_name": "DescriptionStyleModel",
          "state": {
            "_model_module": "@jupyter-widgets/controls",
            "_model_module_version": "1.5.0",
            "_model_name": "DescriptionStyleModel",
            "_view_count": null,
            "_view_module": "@jupyter-widgets/base",
            "_view_module_version": "1.2.0",
            "_view_name": "StyleView",
            "description_width": ""
          }
        },
        "c905811dc695483293ba977f973fef8c": {
          "model_module": "@jupyter-widgets/base",
          "model_module_version": "1.2.0",
          "model_name": "LayoutModel",
          "state": {
            "_model_module": "@jupyter-widgets/base",
            "_model_module_version": "1.2.0",
            "_model_name": "LayoutModel",
            "_view_count": null,
            "_view_module": "@jupyter-widgets/base",
            "_view_module_version": "1.2.0",
            "_view_name": "LayoutView",
            "align_content": null,
            "align_items": null,
            "align_self": null,
            "border": null,
            "bottom": null,
            "display": null,
            "flex": null,
            "flex_flow": null,
            "grid_area": null,
            "grid_auto_columns": null,
            "grid_auto_flow": null,
            "grid_auto_rows": null,
            "grid_column": null,
            "grid_gap": null,
            "grid_row": null,
            "grid_template_areas": null,
            "grid_template_columns": null,
            "grid_template_rows": null,
            "height": null,
            "justify_content": null,
            "justify_items": null,
            "left": null,
            "margin": null,
            "max_height": null,
            "max_width": null,
            "min_height": null,
            "min_width": null,
            "object_fit": null,
            "object_position": null,
            "order": null,
            "overflow": null,
            "overflow_x": null,
            "overflow_y": null,
            "padding": null,
            "right": null,
            "top": null,
            "visibility": null,
            "width": null
          }
        },
        "d539050cc54f45c288d912144d081d76": {
          "model_module": "@jupyter-widgets/controls",
          "model_module_version": "1.5.0",
          "model_name": "HTMLModel",
          "state": {
            "_dom_classes": [],
            "_model_module": "@jupyter-widgets/controls",
            "_model_module_version": "1.5.0",
            "_model_name": "HTMLModel",
            "_view_count": null,
            "_view_module": "@jupyter-widgets/controls",
            "_view_module_version": "1.5.0",
            "_view_name": "HTMLView",
            "description": "",
            "description_tooltip": null,
            "layout": "IPY_MODEL_6607f73936b44302a81d3f3d3ba28310",
            "placeholder": "​",
            "style": "IPY_MODEL_39dea76fbc3545658df84b33787383ba",
            "value": "Epoch 499: "
          }
        },
        "dc36d39ee4294f8abcc589a88ebc4ceb": {
          "model_module": "@jupyter-widgets/base",
          "model_module_version": "1.2.0",
          "model_name": "LayoutModel",
          "state": {
            "_model_module": "@jupyter-widgets/base",
            "_model_module_version": "1.2.0",
            "_model_name": "LayoutModel",
            "_view_count": null,
            "_view_module": "@jupyter-widgets/base",
            "_view_module_version": "1.2.0",
            "_view_name": "LayoutView",
            "align_content": null,
            "align_items": null,
            "align_self": null,
            "border": null,
            "bottom": null,
            "display": "inline-flex",
            "flex": null,
            "flex_flow": "row wrap",
            "grid_area": null,
            "grid_auto_columns": null,
            "grid_auto_flow": null,
            "grid_auto_rows": null,
            "grid_column": null,
            "grid_gap": null,
            "grid_row": null,
            "grid_template_areas": null,
            "grid_template_columns": null,
            "grid_template_rows": null,
            "height": null,
            "justify_content": null,
            "justify_items": null,
            "left": null,
            "margin": null,
            "max_height": null,
            "max_width": null,
            "min_height": null,
            "min_width": null,
            "object_fit": null,
            "object_position": null,
            "order": null,
            "overflow": null,
            "overflow_x": null,
            "overflow_y": null,
            "padding": null,
            "right": null,
            "top": null,
            "visibility": null,
            "width": "100%"
          }
        }
      }
    }
  },
  "nbformat": 4,
  "nbformat_minor": 0
}
