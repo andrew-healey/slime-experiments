{
  "cells": [
    {
      "cell_type": "code",
      "execution_count": 1,
      "metadata": {
        "id": "HiGHZ1qiq_9q"
      },
      "outputs": [],
      "source": [
        "%load_ext autoreload\n",
        "%autoreload 2"
      ]
    },
    {
      "cell_type": "code",
      "execution_count": 2,
      "metadata": {
        "id": "OIu3N4tGnEgv"
      },
      "outputs": [],
      "source": [
        "should_skip = True"
      ]
    },
    {
      "cell_type": "code",
      "execution_count": 3,
      "metadata": {
        "cellView": "form",
        "id": "n0vWJ_IynEgv"
      },
      "outputs": [],
      "source": [
        "#@title Install libraries\n",
        "if not should_skip:\n",
        "  !pip install -U -qq git+https://github.com/huggingface/diffusers.git\n",
        "  !pip install -qq accelerate transformers ftfy\n",
        "  !pip install -q gpustat gdown\n",
        "  !pip install -q pytorch_lightning"
      ]
    },
    {
      "cell_type": "code",
      "execution_count": 4,
      "metadata": {
        "cellView": "form",
        "id": "vey7mPaRnEgw"
      },
      "outputs": [],
      "source": [
        "#@title Import required libraries\n",
        "import argparse\n",
        "import itertools\n",
        "import math\n",
        "import os\n",
        "import random\n",
        "\n",
        "import numpy as np\n",
        "import torch\n",
        "import torch.nn.functional as F\n",
        "import torchvision.transforms.functional as TVF\n",
        "import torch.utils.checkpoint\n",
        "from torch.utils.data import Dataset\n",
        "\n",
        "import PIL\n",
        "from accelerate import Accelerator\n",
        "from accelerate.logging import get_logger\n",
        "from accelerate.utils import set_seed\n",
        "import sys\n",
        "\n",
        "# https://github.com/huggingface/diffusers/blob/main/src/diffusers/models/unet_2d_condition.py#L175-L182\n",
        "from diffusers import AutoencoderKL, DDPMScheduler, PNDMScheduler, StableDiffusionPipeline, UNet2DConditionModel\n",
        "from diffusers.optimization import get_scheduler\n",
        "from diffusers.pipelines.stable_diffusion import StableDiffusionSafetyChecker\n",
        "from PIL import Image\n",
        "from torchvision import transforms\n",
        "from tqdm.auto import tqdm\n",
        "from transformers import CLIPFeatureExtractor, CLIPTextModel, CLIPTokenizer\n",
        "\n",
        "def image_grid(imgs, rows, cols):\n",
        "    assert len(imgs) == rows*cols\n",
        "\n",
        "    w, h = imgs[0].size\n",
        "    grid = Image.new('RGB', size=(cols*w, rows*h))\n",
        "    grid_w, grid_h = grid.size\n",
        "\n",
        "    for i, img in enumerate(imgs):\n",
        "        grid.paste(img, box=(i%cols*w, i//cols*h))\n",
        "    return grid"
      ]
    },
    {
      "cell_type": "code",
      "execution_count": 5,
      "metadata": {
        "cellView": "form",
        "colab": {
          "base_uri": "https://localhost:8080/"
        },
        "id": "TlbAj5_onEgw",
        "outputId": "5d7b3d8b-0f86-456b-e4fa-b1ab2ca50426"
      },
      "outputs": [],
      "source": [
        "if not should_skip:\n",
        "    #@markdown Add here the URLs to the images of the concept you are adding. 3-5 should be fine\n",
        "    train_urls = [\n",
        "        \"https://huggingface.co/datasets/valhalla/images/resolve/main/2.jpeg\",\n",
        "        \"https://huggingface.co/datasets/valhalla/images/resolve/main/3.jpeg\",\n",
        "    ]\n",
        "    test_urls = [\n",
        "        \"https://huggingface.co/datasets/valhalla/images/resolve/main/5.jpeg\",\n",
        "        \"https://huggingface.co/datasets/valhalla/images/resolve/main/6.jpeg\",\n",
        "        ## You can add additional images here\n",
        "    ]\n",
        "#@title Download\n",
        "import requests\n",
        "import glob\n",
        "from io import BytesIO\n",
        "\n",
        "def download_image(url):\n",
        "  try:\n",
        "    response = requests.get(url)\n",
        "  except:\n",
        "    return None\n",
        "  return Image.open(BytesIO(response.content)).convert(\"RGB\")\n",
        "\n",
        "if not should_skip:\n",
        "    for save_path,urls in [(\"./my_concept\",train_urls),(\"./my_concept_test\",test_urls)]:\n",
        "      images = list(filter(None,[download_image(url) for url in urls]))\n",
        "      if not os.path.exists(save_path):\n",
        "        os.mkdir(save_path)\n",
        "      [image.save(f\"{save_path}/{i}.jpeg\") for i, image in enumerate(images)]\n",
        "\n",
        "\n",
        "if not should_skip:\n",
        "    !gdown --id 1I8RMKQhPXntlRKorVNZ6yyNpfaOp8wNv\n",
        "    mask_path=\"./my_concept_gt\"\n",
        "    !mkdir $mask_path/\n",
        "\n",
        "    with open(\"my_concept_gt.zip\",\"r\") as f:\n",
        "        pass\n",
        "    !unzip -o my_concept_gt.zip"
      ]
    },
    {
      "cell_type": "code",
      "execution_count": 6,
      "metadata": {
        "colab": {
          "base_uri": "https://localhost:8080/"
        },
        "id": "zobTtmaarUxr",
        "outputId": "88ef2419-e38b-460b-f2f8-f6d618d85302"
      },
      "outputs": [],
      "source": [
        "# %cd /content/\n",
        "# sys.path.append(\"/content/slime-experiments/\")"
      ]
    },
    {
      "cell_type": "code",
      "execution_count": 7,
      "metadata": {
        "colab": {
          "base_uri": "https://localhost:8080/"
        },
        "id": "S7EY-HMInhWK",
        "outputId": "bbdf3606-38af-403b-93e2-3e9f5a10ddcf"
      },
      "outputs": [],
      "source": [
        "# !rm -rf slime-experiments/\n",
        "# !git clone https://github.com/andrew-healey/slime-experiments\n",
        "# !cd slime-experiments && git rev-parse --short HEAD"
      ]
    },
    {
      "cell_type": "code",
      "execution_count": 8,
      "metadata": {
        "id": "18OU0iWXnEgw"
      },
      "outputs": [],
      "source": [
        "from slime.slime import SLiME\n",
        "from slime.data.single_class import BinarySegmentationDataset,SegmentationDataModule"
      ]
    },
    {
      "cell_type": "code",
      "execution_count": 9,
      "metadata": {
        "id": "gjK_JKcsnEgw"
      },
      "outputs": [],
      "source": [
        "train_dataset = BinarySegmentationDataset(\n",
        "    data_root=\"my_concept\",\n",
        "    mask_root=\"my_concept_gt\",\n",
        ")\n",
        "test_dataset = BinarySegmentationDataset(\n",
        "    data_root=\"my_concept_test\",\n",
        "    mask_root=None\n",
        ")\n",
        "\n",
        "data_module = SegmentationDataModule(\n",
        "    train_dataset,\n",
        "    test_dataset,\n",
        "    iters_per_epoch=200,\n",
        "    batch_size=1,\n",
        ")"
      ]
    },
    {
      "cell_type": "code",
      "execution_count": 10,
      "metadata": {
        "colab": {
          "base_uri": "https://localhost:8080/"
        },
        "id": "5xVozx20nEgw",
        "outputId": "109d1ce9-2c7f-4348-92d7-288ae1714707"
      },
      "outputs": [
        {
          "name": "stderr",
          "output_type": "stream",
          "text": [
            "/usr/local/lib/python3.8/dist-packages/diffusers/configuration_utils.py:239: FutureWarning: It is deprecated to pass a pretrained model name or path to `from_config`.If you were trying to load a scheduler, please use <class 'diffusers.schedulers.scheduling_ddpm.DDPMScheduler'>.from_pretrained(...) instead. Otherwise, please make sure to pass a configuration dictionary instead. This functionality will be removed in v1.0.0.\n",
            "  deprecate(\"config-passed-as-path\", \"1.0.0\", deprecation_message, standard_warn=False)\n"
          ]
        }
      ],
      "source": [
        "slime = SLiME(\n",
        "    use_self_attn=False,\n",
        "    alpha=0.0,\n",
        "    gamma=1.0,\n",
        "    multiplier_lr=0.05,\n",
        "    cross_attn_nums=[8]\n",
        ").cuda()"
      ]
    },
    {
      "cell_type": "code",
      "execution_count": 11,
      "metadata": {
        "colab": {
          "base_uri": "https://localhost:8080/",
          "height": 414,
          "referenced_widgets": [
            "2fe6200bf7064a189e3790f7797c7fbb",
            "d539050cc54f45c288d912144d081d76",
            "5e4c349b29f14b2d85c5e16e78d352ea",
            "817355e86f614485977a900b659a2fed",
            "dc36d39ee4294f8abcc589a88ebc4ceb",
            "6607f73936b44302a81d3f3d3ba28310",
            "39dea76fbc3545658df84b33787383ba",
            "1ef4b2520aae48b3bd830a1d3f179f89",
            "1d50c28ae9b645adb692128f663ee40c",
            "c905811dc695483293ba977f973fef8c",
            "b28003169cce426a875cb82e42cd3c90"
          ]
        },
        "id": "dKcY9CXqnEgw",
        "outputId": "3be2171b-d52d-4163-d7b2-28fd5d29886e"
      },
      "outputs": [
        {
          "name": "stderr",
          "output_type": "stream",
          "text": [
            "GPU available: True (cuda), used: True\n",
            "TPU available: False, using: 0 TPU cores\n",
            "IPU available: False, using: 0 IPUs\n",
            "HPU available: False, using: 0 HPUs\n",
            "`Trainer(limit_train_batches=1.0)` was configured so 100% of the batches per epoch will be used..\n",
            "You are using a CUDA device ('NVIDIA GeForce RTX 3060') that has Tensor Cores. To properly utilize them, you should set `torch.set_float32_matmul_precision('medium' | 'high')` which will trade-off precision for performance. For more details, read https://pytorch.org/docs/stable/generated/torch.set_float32_matmul_precision.html#torch.set_float32_matmul_precision\n",
            "LOCAL_RANK: 0 - CUDA_VISIBLE_DEVICES: [0]\n",
            "\n",
            "  | Name                   | Type            | Params\n",
            "-----------------------------------------------------------\n",
            "0 | sd                     | StableDiffusion | 900 M \n",
            "1 | cross_layer_multiplier | Multiplier      | 32    \n",
            "2 | self_layer_multiplier  | Multiplier      | 32    \n",
            "3 | cross_map_multiplier   | Multiplier      | 4     \n",
            "4 | pred_map_multiplier    | Multiplier      | 4     \n",
            "5 | cross_norm             | BatchNorm2d     | 10    \n",
            "  | other params           | n/a             | 2.0 K \n",
            "-----------------------------------------------------------\n",
            "2.1 K     Trainable params\n",
            "900 M     Non-trainable params\n",
            "900 M     Total params\n",
            "3,600.306 Total estimated model params size (MB)\n"
          ]
        },
        {
          "data": {
            "application/vnd.jupyter.widget-view+json": {
              "model_id": "334931b4a22f4ca39844c03d8d70f8af",
              "version_major": 2,
              "version_minor": 0
            },
            "text/plain": [
              "Training: |          | 0/? [00:00<?, ?it/s]"
            ]
          },
          "metadata": {},
          "output_type": "display_data"
        },
        {
          "name": "stdout",
          "output_type": "stream",
          "text": [
            "pred 0.0 0.0 ce loss 0.69 mse loss 0.25 dice loss 0.56\n",
            "pred 0.14 0.14 ce loss 0.73 mse loss 0.27 dice loss 0.63\n",
            "pred 0.28 0.28 ce loss 0.73 mse loss 0.27 dice loss 0.54\n",
            "pred 0.44 0.46 ce loss 0.82 mse loss 0.31 dice loss 0.62\n",
            "pred 0.61 0.63 ce loss 0.81 mse loss 0.3 dice loss 0.51\n",
            "pred 0.79 0.83 ce loss 0.95 mse loss 0.37 dice loss 0.6\n",
            "pred 0.94 1.0 ce loss 1.02 mse loss 0.4 dice loss 0.6\n",
            "pred 1.07 1.12 ce loss 0.95 mse loss 0.37 dice loss 0.48\n",
            "pred 1.18 1.25 ce loss 1.0 mse loss 0.38 dice loss 0.48\n",
            "pred 1.27 1.39 ce loss 1.19 mse loss 0.46 dice loss 0.59\n",
            "pred 1.3 1.44 ce loss 1.05 mse loss 0.4 dice loss 0.47\n",
            "pred 1.3 1.45 ce loss 1.21 mse loss 0.47 dice loss 0.58\n",
            "pred 1.25 1.44 ce loss 1.18 mse loss 0.46 dice loss 0.58\n",
            "pred 1.19 1.33 ce loss 1.0 mse loss 0.38 dice loss 0.48\n",
            "pred 1.1 1.32 ce loss 1.11 mse loss 0.43 dice loss 0.59\n",
            "pred 1.03 1.24 ce loss 0.94 mse loss 0.36 dice loss 0.48\n",
            "pred 0.97 1.18 ce loss 0.92 mse loss 0.35 dice loss 0.48\n",
            "pred 0.88 1.11 ce loss 1.02 mse loss 0.4 dice loss 0.59\n",
            "pred 0.84 1.11 ce loss 0.88 mse loss 0.34 dice loss 0.49\n",
            "pred 0.79 1.06 ce loss 0.98 mse loss 0.38 dice loss 0.59\n",
            "pred 0.78 1.07 ce loss 0.86 mse loss 0.33 dice loss 0.49\n",
            "pred 0.74 1.04 ce loss 0.96 mse loss 0.38 dice loss 0.59\n",
            "pred 0.71 1.05 ce loss 0.96 mse loss 0.37 dice loss 0.59\n",
            "pred 0.72 1.1 ce loss 0.84 mse loss 0.32 dice loss 0.49\n",
            "pred 0.71 1.13 ce loss 0.84 mse loss 0.32 dice loss 0.49\n",
            "pred 0.68 1.11 ce loss 0.96 mse loss 0.37 dice loss 0.59\n",
            "pred 0.68 1.19 ce loss 0.97 mse loss 0.38 dice loss 0.59\n",
            "pred 0.7 1.21 ce loss 0.85 mse loss 0.32 dice loss 0.48\n",
            "pred 0.73 1.31 ce loss 0.85 mse loss 0.32 dice loss 0.48\n",
            "pred 0.7 1.28 ce loss 0.99 mse loss 0.39 dice loss 0.58\n",
            "pred 0.7 1.39 ce loss 1.0 mse loss 0.39 dice loss 0.58\n",
            "pred 0.75 1.45 ce loss 0.86 mse loss 0.33 dice loss 0.47\n",
            "pred 0.68 1.48 ce loss 1.02 mse loss 0.4 dice loss 0.58\n",
            "pred 0.73 1.64 ce loss 0.87 mse loss 0.33 dice loss 0.46\n",
            "pred 0.66 1.56 ce loss 1.02 mse loss 0.4 dice loss 0.57\n",
            "pred 0.66 1.66 ce loss 0.85 mse loss 0.33 dice loss 0.47\n",
            "pred 0.64 1.71 ce loss 0.85 mse loss 0.32 dice loss 0.46\n",
            "pred 0.6 1.77 ce loss 1.03 mse loss 0.4 dice loss 0.57\n",
            "pred 0.51 1.82 ce loss 1.02 mse loss 0.4 dice loss 0.57\n",
            "pred 0.55 1.92 ce loss 0.82 mse loss 0.31 dice loss 0.45\n",
            "pred 0.46 1.87 ce loss 0.99 mse loss 0.38 dice loss 0.56\n",
            "pred 0.47 2.01 ce loss 0.8 mse loss 0.3 dice loss 0.45\n",
            "pred 0.41 2.02 ce loss 0.96 mse loss 0.37 dice loss 0.56\n",
            "pred 0.4 2.06 ce loss 0.77 mse loss 0.29 dice loss 0.45\n",
            "pred 0.31 2.08 ce loss 0.94 mse loss 0.36 dice loss 0.55\n",
            "pred 0.27 2.25 ce loss 0.75 mse loss 0.28 dice loss 0.44\n",
            "pred 0.21 2.27 ce loss 0.91 mse loss 0.35 dice loss 0.54\n",
            "pred 0.22 2.35 ce loss 0.74 mse loss 0.27 dice loss 0.44\n",
            "pred 0.13 2.35 ce loss 0.72 mse loss 0.27 dice loss 0.44\n",
            "pred 0.1 2.52 ce loss 0.88 mse loss 0.33 dice loss 0.53\n",
            "pred 0.07 2.46 ce loss 0.87 mse loss 0.33 dice loss 0.53\n",
            "pred 0.02 2.71 ce loss 0.71 mse loss 0.26 dice loss 0.43\n",
            "pred -0.04 2.79 ce loss 0.84 mse loss 0.31 dice loss 0.52\n",
            "pred -0.1 3.09 ce loss 0.7 mse loss 0.26 dice loss 0.43\n",
            "pred -0.12 3.04 ce loss 0.85 mse loss 0.31 dice loss 0.52\n",
            "pred -0.07 3.42 ce loss 0.68 mse loss 0.25 dice loss 0.42\n",
            "pred -0.14 3.04 ce loss 0.82 mse loss 0.3 dice loss 0.52\n",
            "pred -0.32 3.99 ce loss 0.68 mse loss 0.24 dice loss 0.41\n",
            "pred -0.4 4.2 ce loss 0.66 mse loss 0.24 dice loss 0.41\n",
            "pred -0.35 4.07 ce loss 0.86 mse loss 0.3 dice loss 0.5\n",
            "pred -0.4 4.48 ce loss 0.64 mse loss 0.23 dice loss 0.4\n",
            "pred -0.32 4.0 ce loss 0.81 mse loss 0.29 dice loss 0.5\n",
            "pred -0.32 4.01 ce loss 0.8 mse loss 0.28 dice loss 0.5\n",
            "pred -0.62 4.9 ce loss 0.62 mse loss 0.22 dice loss 0.4\n",
            "pred -0.59 5.01 ce loss 0.62 mse loss 0.22 dice loss 0.4\n",
            "pred -0.47 4.51 ce loss 0.82 mse loss 0.28 dice loss 0.49\n",
            "pred -0.67 5.02 ce loss 0.61 mse loss 0.22 dice loss 0.4\n",
            "pred -0.55 5.05 ce loss 0.84 mse loss 0.28 dice loss 0.49\n",
            "pred -0.8 5.45 ce loss 0.61 mse loss 0.21 dice loss 0.39\n",
            "pred -0.58 5.18 ce loss 0.85 mse loss 0.27 dice loss 0.48\n",
            "pred -0.51 4.98 ce loss 0.81 mse loss 0.27 dice loss 0.49\n",
            "pred -0.87 5.31 ce loss 0.6 mse loss 0.21 dice loss 0.39\n",
            "pred -0.88 5.61 ce loss 0.6 mse loss 0.21 dice loss 0.39\n",
            "pred -0.49 4.68 ce loss 0.76 mse loss 0.25 dice loss 0.5\n",
            "pred -0.9 5.5 ce loss 0.6 mse loss 0.21 dice loss 0.39\n",
            "pred -0.63 5.24 ce loss 0.8 mse loss 0.27 dice loss 0.48\n",
            "pred -1.01 6.02 ce loss 0.61 mse loss 0.21 dice loss 0.39\n",
            "pred -0.87 6.07 ce loss 0.96 mse loss 0.29 dice loss 0.48\n",
            "pred -0.98 6.66 ce loss 0.62 mse loss 0.21 dice loss 0.39\n",
            "pred -0.85 6.43 ce loss 0.98 mse loss 0.28 dice loss 0.48\n",
            "pred -0.85 6.46 ce loss 0.62 mse loss 0.21 dice loss 0.38\n",
            "pred -0.83 6.15 ce loss 0.98 mse loss 0.29 dice loss 0.48\n",
            "pred -0.79 5.97 ce loss 0.96 mse loss 0.28 dice loss 0.47\n",
            "pred -1.01 6.26 ce loss 0.61 mse loss 0.21 dice loss 0.38\n",
            "pred -0.85 5.86 ce loss 0.96 mse loss 0.28 dice loss 0.47\n",
            "pred -0.94 5.94 ce loss 0.6 mse loss 0.21 dice loss 0.38\n",
            "pred -0.78 5.87 ce loss 0.92 mse loss 0.28 dice loss 0.47\n",
            "pred -0.98 5.94 ce loss 0.6 mse loss 0.2 dice loss 0.38\n",
            "pred -0.78 5.4 ce loss 0.89 mse loss 0.28 dice loss 0.47\n",
            "pred -0.78 5.77 ce loss 0.6 mse loss 0.2 dice loss 0.38\n",
            "pred -0.78 5.62 ce loss 0.6 mse loss 0.2 dice loss 0.38\n",
            "pred -0.67 4.78 ce loss 0.82 mse loss 0.27 dice loss 0.48\n",
            "pred -0.68 4.68 ce loss 0.82 mse loss 0.27 dice loss 0.48\n",
            "pred -0.82 5.17 ce loss 0.59 mse loss 0.2 dice loss 0.39\n",
            "pred -0.7 4.88 ce loss 0.8 mse loss 0.26 dice loss 0.47\n",
            "pred -0.84 5.15 ce loss 0.58 mse loss 0.2 dice loss 0.39\n",
            "pred -0.76 4.87 ce loss 0.58 mse loss 0.2 dice loss 0.39\n",
            "pred -0.62 4.26 ce loss 0.77 mse loss 0.26 dice loss 0.48\n",
            "pred -0.65 5.0 ce loss 0.59 mse loss 0.2 dice loss 0.39\n",
            "pred -0.61 4.33 ce loss 0.78 mse loss 0.26 dice loss 0.48\n",
            "pred -0.67 4.74 ce loss 0.82 mse loss 0.27 dice loss 0.47\n",
            "pred -0.72 5.25 ce loss 0.59 mse loss 0.2 dice loss 0.38\n",
            "pred -0.67 5.4 ce loss 0.59 mse loss 0.2 dice loss 0.38\n",
            "pred -0.69 4.8 ce loss 0.82 mse loss 0.27 dice loss 0.47\n",
            "pred -0.76 5.61 ce loss 0.59 mse loss 0.2 dice loss 0.38\n",
            "pred -0.69 4.83 ce loss 0.79 mse loss 0.26 dice loss 0.47\n",
            "pred -0.69 5.22 ce loss 0.58 mse loss 0.2 dice loss 0.38\n",
            "pred -0.72 5.04 ce loss 0.82 mse loss 0.27 dice loss 0.47\n",
            "pred -0.72 5.36 ce loss 0.58 mse loss 0.2 dice loss 0.38\n",
            "pred -0.71 5.11 ce loss 0.81 mse loss 0.27 dice loss 0.47\n",
            "pred -0.71 4.93 ce loss 0.77 mse loss 0.26 dice loss 0.47\n",
            "pred -0.75 5.38 ce loss 0.58 mse loss 0.2 dice loss 0.38\n",
            "pred -0.64 4.69 ce loss 0.75 mse loss 0.25 dice loss 0.47\n",
            "pred -0.83 5.24 ce loss 0.57 mse loss 0.2 dice loss 0.38\n",
            "pred -0.76 5.7 ce loss 0.59 mse loss 0.2 dice loss 0.38\n",
            "pred -0.6 4.82 ce loss 0.72 mse loss 0.24 dice loss 0.47\n",
            "pred -0.74 5.42 ce loss 0.75 mse loss 0.25 dice loss 0.47\n",
            "pred -0.78 6.07 ce loss 0.59 mse loss 0.2 dice loss 0.38\n",
            "pred -1.04 6.13 ce loss 0.59 mse loss 0.2 dice loss 0.38\n",
            "pred -0.86 6.02 ce loss 0.86 mse loss 0.27 dice loss 0.47\n",
            "pred -0.76 5.66 ce loss 0.78 mse loss 0.25 dice loss 0.46\n",
            "pred -0.89 6.63 ce loss 0.6 mse loss 0.2 dice loss 0.37\n",
            "pred -0.96 6.72 ce loss 0.6 mse loss 0.2 dice loss 0.37\n",
            "pred -0.85 6.02 ce loss 0.8 mse loss 0.25 dice loss 0.46\n",
            "pred -1.1 6.64 ce loss 0.59 mse loss 0.2 dice loss 0.37\n",
            "pred -0.66 5.53 ce loss 0.75 mse loss 0.24 dice loss 0.47\n",
            "pred -1.02 6.95 ce loss 0.59 mse loss 0.2 dice loss 0.37\n",
            "pred -0.8 5.85 ce loss 0.78 mse loss 0.25 dice loss 0.46\n",
            "pred -0.72 5.54 ce loss 0.74 mse loss 0.24 dice loss 0.47\n",
            "pred -1.04 6.91 ce loss 0.59 mse loss 0.2 dice loss 0.37\n",
            "pred -1.06 6.91 ce loss 0.59 mse loss 0.2 dice loss 0.37\n",
            "pred -0.91 6.44 ce loss 0.85 mse loss 0.26 dice loss 0.46\n",
            "pred -0.94 6.35 ce loss 0.88 mse loss 0.27 dice loss 0.46\n",
            "pred -1.07 6.71 ce loss 0.59 mse loss 0.2 dice loss 0.37\n",
            "pred -0.96 7.03 ce loss 0.6 mse loss 0.2 dice loss 0.37\n",
            "pred -0.91 6.23 ce loss 0.81 mse loss 0.25 dice loss 0.46\n",
            "pred -1.14 6.7 ce loss 0.59 mse loss 0.2 dice loss 0.37\n",
            "pred -0.82 5.78 ce loss 0.77 mse loss 0.25 dice loss 0.46\n",
            "pred -1.04 6.31 ce loss 0.58 mse loss 0.2 dice loss 0.37\n",
            "pred -0.81 5.64 ce loss 0.75 mse loss 0.24 dice loss 0.47\n",
            "pred -0.72 5.37 ce loss 0.73 mse loss 0.24 dice loss 0.46\n",
            "pred -1.14 6.43 ce loss 0.58 mse loss 0.2 dice loss 0.37\n",
            "pred -0.65 5.2 ce loss 0.71 mse loss 0.24 dice loss 0.47\n",
            "pred -0.99 6.44 ce loss 0.57 mse loss 0.2 dice loss 0.37\n",
            "pred -1.02 6.34 ce loss 0.57 mse loss 0.2 dice loss 0.38\n",
            "pred -0.78 5.51 ce loss 0.74 mse loss 0.24 dice loss 0.46\n",
            "pred -0.96 6.73 ce loss 0.58 mse loss 0.2 dice loss 0.37\n",
            "pred -0.84 5.88 ce loss 0.77 mse loss 0.24 dice loss 0.46\n",
            "pred -0.81 5.86 ce loss 0.75 mse loss 0.24 dice loss 0.46\n",
            "pred -1.05 6.77 ce loss 0.58 mse loss 0.2 dice loss 0.37\n",
            "pred -1.01 7.0 ce loss 0.59 mse loss 0.2 dice loss 0.37\n",
            "pred -0.85 5.93 ce loss 0.76 mse loss 0.25 dice loss 0.46\n",
            "pred -0.9 5.96 ce loss 0.78 mse loss 0.25 dice loss 0.46\n",
            "pred -1.14 6.73 ce loss 0.58 mse loss 0.2 dice loss 0.37\n",
            "pred -0.79 5.72 ce loss 0.73 mse loss 0.24 dice loss 0.46\n",
            "pred -1.09 6.49 ce loss 0.57 mse loss 0.2 dice loss 0.37\n",
            "pred -0.84 6.1 ce loss 0.77 mse loss 0.24 dice loss 0.46\n",
            "pred -1.0 6.39 ce loss 0.57 mse loss 0.19 dice loss 0.37\n",
            "pred -1.16 6.82 ce loss 0.58 mse loss 0.2 dice loss 0.37\n",
            "pred -0.79 5.83 ce loss 0.74 mse loss 0.24 dice loss 0.46\n",
            "pred -1.05 6.89 ce loss 0.58 mse loss 0.2 dice loss 0.37\n",
            "pred -0.88 6.03 ce loss 0.75 mse loss 0.24 dice loss 0.46\n",
            "pred -0.81 5.8 ce loss 0.73 mse loss 0.24 dice loss 0.46\n",
            "pred -1.11 6.8 ce loss 0.58 mse loss 0.19 dice loss 0.37\n",
            "pred -1.05 7.02 ce loss 0.59 mse loss 0.2 dice loss 0.37\n",
            "pred -0.79 5.59 ce loss 0.71 mse loss 0.23 dice loss 0.46\n",
            "pred -1.09 6.99 ce loss 0.58 mse loss 0.2 dice loss 0.37\n",
            "pred -0.76 5.44 ce loss 0.7 mse loss 0.23 dice loss 0.46\n",
            "pred -1.14 7.22 ce loss 0.58 mse loss 0.19 dice loss 0.36\n",
            "pred -0.88 6.3 ce loss 0.75 mse loss 0.24 dice loss 0.46\n",
            "pred -0.99 6.57 ce loss 0.79 mse loss 0.25 dice loss 0.46\n",
            "pred -1.2 7.26 ce loss 0.58 mse loss 0.19 dice loss 0.37\n",
            "pred -1.12 7.09 ce loss 0.58 mse loss 0.19 dice loss 0.37\n",
            "pred -0.96 6.32 ce loss 0.73 mse loss 0.24 dice loss 0.46\n",
            "pred -0.78 5.62 ce loss 0.7 mse loss 0.23 dice loss 0.47\n",
            "pred -1.01 6.87 ce loss 0.57 mse loss 0.19 dice loss 0.37\n",
            "pred -1.17 7.37 ce loss 0.58 mse loss 0.2 dice loss 0.37\n",
            "pred -0.96 6.52 ce loss 0.79 mse loss 0.25 dice loss 0.46\n",
            "pred -1.15 7.58 ce loss 0.6 mse loss 0.2 dice loss 0.36\n",
            "pred -0.88 5.94 ce loss 0.74 mse loss 0.24 dice loss 0.46\n",
            "pred -1.16 7.41 ce loss 0.59 mse loss 0.2 dice loss 0.36\n",
            "pred -1.0 6.37 ce loss 0.75 mse loss 0.24 dice loss 0.46\n",
            "pred -1.13 7.4 ce loss 0.59 mse loss 0.19 dice loss 0.35\n",
            "pred -0.9 6.18 ce loss 0.75 mse loss 0.24 dice loss 0.46\n",
            "pred -1.11 7.24 ce loss 0.58 mse loss 0.19 dice loss 0.36\n",
            "pred -0.93 6.43 ce loss 0.75 mse loss 0.24 dice loss 0.46\n",
            "pred -0.93 6.0 ce loss 0.73 mse loss 0.24 dice loss 0.46\n",
            "pred -1.09 7.19 ce loss 0.58 mse loss 0.19 dice loss 0.35\n",
            "pred -1.2 7.21 ce loss 0.58 mse loss 0.19 dice loss 0.35\n",
            "pred -0.79 5.52 ce loss 0.69 mse loss 0.23 dice loss 0.46\n",
            "pred -0.83 5.82 ce loss 0.74 mse loss 0.24 dice loss 0.46\n",
            "pred -1.07 6.79 ce loss 0.55 mse loss 0.19 dice loss 0.35\n",
            "pred -0.82 5.53 ce loss 0.69 mse loss 0.23 dice loss 0.46\n",
            "pred -1.08 7.39 ce loss 0.61 mse loss 0.2 dice loss 0.34\n",
            "pred -0.93 6.3 ce loss 0.78 mse loss 0.25 dice loss 0.46\n",
            "pred -1.04 7.07 ce loss 0.59 mse loss 0.2 dice loss 0.34\n",
            "pred -1.06 7.06 ce loss 0.58 mse loss 0.19 dice loss 0.34\n",
            "pred -0.87 6.07 ce loss 0.73 mse loss 0.24 dice loss 0.46\n",
            "pred -1.14 7.09 ce loss 0.56 mse loss 0.19 dice loss 0.34\n",
            "pred -0.89 5.84 ce loss 0.68 mse loss 0.23 dice loss 0.47\n"
          ]
        },
        {
          "name": "stderr",
          "output_type": "stream",
          "text": [
            "`Trainer.fit` stopped: `max_epochs=50` reached.\n"
          ]
        }
      ],
      "source": [
        "from pytorch_lightning import Trainer\n",
        "\n",
        "trainer = Trainer(\n",
        "    default_root_dir=\"run\",\n",
        "    limit_train_batches=1.0,\n",
        "    num_sanity_val_steps=0,\n",
        "    max_epochs=50,\n",
        "    enable_checkpointing=False,\n",
        ")\n",
        "\n",
        "trainer.fit(slime, datamodule=data_module)"
      ]
    },
    {
      "cell_type": "code",
      "execution_count": 12,
      "metadata": {
        "id": "UbFajwxfrs0m"
      },
      "outputs": [
        {
          "data": {
            "text/plain": [
              "0"
            ]
          },
          "execution_count": 12,
          "metadata": {},
          "output_type": "execute_result"
        }
      ],
      "source": [
        "slime.cuda(); 0"
      ]
    },
    {
      "cell_type": "code",
      "execution_count": 13,
      "metadata": {
        "colab": {
          "base_uri": "https://localhost:8080/",
          "height": 449
        },
        "id": "YM4p6T8_x6Za",
        "outputId": "e82d4b78-5084-4055-8e37-f5bf8cefaa3d"
      },
      "outputs": [
        {
          "data": {
            "image/png": "[encoded data removed]",
            "text/plain": [
              "<Figure size 432x288 with 2 Axes>"
            ]
          },
          "metadata": {
            "needs_background": "light"
          },
          "output_type": "display_data"
        },
        {
          "data": {
            "image/png": "[encoded data removed]",
            "text/plain": [
              "<Figure size 432x288 with 2 Axes>"
            ]
          },
          "metadata": {
            "needs_background": "light"
          },
          "output_type": "display_data"
        },
        {
          "data": {
            "image/png": "[encoded data removed]",
            "text/plain": [
              "<Figure size 432x288 with 2 Axes>"
            ]
          },
          "metadata": {
            "needs_background": "light"
          },
          "output_type": "display_data"
        },
        {
          "data": {
            "image/png": "[encoded data removed]",
            "text/plain": [
              "<Figure size 432x288 with 2 Axes>"
            ]
          },
          "metadata": {
            "needs_background": "light"
          },
          "output_type": "display_data"
        }
      ],
      "source": [
        "import matplotlib.pyplot as plt\n",
        "def sigmoid(x):\n",
        "    return 1 / (1 + np.exp(-x))\n",
        "for i in range(4):\n",
        "    a = sigmoid(slime.latest_preds[-1-i].swapaxes(1,2).reshape((-1,slime.text_tokens,64,64))[0,1])\n",
        "    plt.imshow(a)\n",
        "    plt.colorbar()\n",
        "    plt.show()"
      ]
    },
    {
      "cell_type": "code",
      "execution_count": 14,
      "metadata": {},
      "outputs": [
        {
          "name": "stdout",
          "output_type": "stream",
          "text": [
            "torch.Size([64, 64, 1])\n"
          ]
        },
        {
          "data": {
            "text/plain": [
              "<matplotlib.image.AxesImage at 0x7f44f0d9d970>"
            ]
          },
          "execution_count": 14,
          "metadata": {},
          "output_type": "execute_result"
        },
        {
          "data": {
            "image/png": "[encoded data removed]",
            "text/plain": [
              "<Figure size 432x288 with 1 Axes>"
            ]
          },
          "metadata": {
            "needs_background": "light"
          },
          "output_type": "display_data"
        }
      ],
      "source": [
        "print(train_dataset[1][\"gt_masks_oh\"].shape)\n",
        "plt.imshow(train_dataset[1][\"gt_masks_oh\"])"
      ]
    },
    {
      "cell_type": "code",
      "execution_count": 15,
      "metadata": {
        "colab": {
          "base_uri": "https://localhost:8080/",
          "height": 847
        },
        "id": "HQQ3-WNo8B8s",
        "outputId": "4a50b8da-d2fe-45ee-87f1-d5ac8b715749"
      },
      "outputs": [
        {
          "data": {
            "image/png": "[encoded data removed]",
            "text/plain": [
              "<Figure size 432x288 with 1 Axes>"
            ]
          },
          "metadata": {
            "needs_background": "light"
          },
          "output_type": "display_data"
        },
        {
          "data": {
            "image/png": "[encoded data removed]",
            "text/plain": [
              "<Figure size 432x288 with 1 Axes>"
            ]
          },
          "metadata": {
            "needs_background": "light"
          },
          "output_type": "display_data"
        }
      ],
      "source": [
        "#@title Infer on test set\n",
        "out_mask = None\n",
        "loader = data_module.test_dataloader()\n",
        "out_masks=[]\n",
        "for i,batch in enumerate(loader):\n",
        "  out_mask = slime.predict_step(batch,i).cpu().numpy()\n",
        "  out_masks.append(out_mask)\n",
        "\n",
        "import matplotlib.pyplot as plt\n",
        "for out_mask in out_masks:\n",
        "  for j in range(len(out_mask)):\n",
        "    plt.imshow(out_mask[j,:,1].reshape((64,64)))\n",
        "    plt.show()"
      ]
    },
    {
      "cell_type": "code",
      "execution_count": 16,
      "metadata": {
        "id": "_SfOQS29r0q6"
      },
      "outputs": [
        {
          "name": "stdout",
          "output_type": "stream",
          "text": [
            "/bin/bash: line 0: cd: /content/slime-experiments/: No such file or directory\n"
          ]
        }
      ],
      "source": [
        "!cd /content/slime-experiments/ && git diff"
      ]
    }
  ],
  "metadata": {
    "accelerator": "GPU",
    "colab": {
      "gpuType": "T4",
      "provenance": []
    },
    "kernelspec": {
      "display_name": "Python 3",
      "name": "python3"
    },
    "language_info": {
      "codemirror_mode": {
        "name": "ipython",
        "version": 3
      },
      "file_extension": ".py",
      "mimetype": "text/x-python",
      "name": "python",
      "nbconvert_exporter": "python",
      "pygments_lexer": "ipython3",
      "version": "3.8.10"
    },
    "orig_nbformat": 4,
    "widgets": {
      "application/vnd.jupyter.widget-state+json": {
        "1d50c28ae9b645adb692128f663ee40c": {
          "model_module": "@jupyter-widgets/controls",
          "model_module_version": "1.5.0",
          "model_name": "ProgressStyleModel",
          "state": {
            "_model_module": "@jupyter-widgets/controls",
            "_model_module_version": "1.5.0",
            "_model_name": "ProgressStyleModel",
            "_view_count": null,
            "_view_module": "@jupyter-widgets/base",
            "_view_module_version": "1.2.0",
            "_view_name": "StyleView",
            "bar_color": null,
            "description_width": ""
          }
        },
        "1ef4b2520aae48b3bd830a1d3f179f89": {
          "model_module": "@jupyter-widgets/base",
          "model_module_version": "1.2.0",
          "model_name": "LayoutModel",
          "state": {
            "_model_module": "@jupyter-widgets/base",
            "_model_module_version": "1.2.0",
            "_model_name": "LayoutModel",
            "_view_count": null,
            "_view_module": "@jupyter-widgets/base",
            "_view_module_version": "1.2.0",
            "_view_name": "LayoutView",
            "align_content": null,
            "align_items": null,
            "align_self": null,
            "border": null,
            "bottom": null,
            "display": null,
            "flex": "2",
            "flex_flow": null,
            "grid_area": null,
            "grid_auto_columns": null,
            "grid_auto_flow": null,
            "grid_auto_rows": null,
            "grid_column": null,
            "grid_gap": null,
            "grid_row": null,
            "grid_template_areas": null,
            "grid_template_columns": null,
            "grid_template_rows": null,
            "height": null,
            "justify_content": null,
            "justify_items": null,
            "left": null,
            "margin": null,
            "max_height": null,
            "max_width": null,
            "min_height": null,
            "min_width": null,
            "object_fit": null,
            "object_position": null,
            "order": null,
            "overflow": null,
            "overflow_x": null,
            "overflow_y": null,
            "padding": null,
            "right": null,
            "top": null,
            "visibility": null,
            "width": null
          }
        },
        "2fe6200bf7064a189e3790f7797c7fbb": {
          "model_module": "@jupyter-widgets/controls",
          "model_module_version": "1.5.0",
          "model_name": "HBoxModel",
          "state": {
            "_dom_classes": [],
            "_model_module": "@jupyter-widgets/controls",
            "_model_module_version": "1.5.0",
            "_model_name": "HBoxModel",
            "_view_count": null,
            "_view_module": "@jupyter-widgets/controls",
            "_view_module_version": "1.5.0",
            "_view_name": "HBoxView",
            "box_style": "",
            "children": [
              "IPY_MODEL_d539050cc54f45c288d912144d081d76",
              "IPY_MODEL_5e4c349b29f14b2d85c5e16e78d352ea",
              "IPY_MODEL_817355e86f614485977a900b659a2fed"
            ],
            "layout": "IPY_MODEL_dc36d39ee4294f8abcc589a88ebc4ceb"
          }
        },
        "39dea76fbc3545658df84b33787383ba": {
          "model_module": "@jupyter-widgets/controls",
          "model_module_version": "1.5.0",
          "model_name": "DescriptionStyleModel",
          "state": {
            "_model_module": "@jupyter-widgets/controls",
            "_model_module_version": "1.5.0",
            "_model_name": "DescriptionStyleModel",
            "_view_count": null,
            "_view_module": "@jupyter-widgets/base",
            "_view_module_version": "1.2.0",
            "_view_name": "StyleView",
            "description_width": ""
          }
        },
        "5e4c349b29f14b2d85c5e16e78d352ea": {
          "model_module": "@jupyter-widgets/controls",
          "model_module_version": "1.5.0",
          "model_name": "FloatProgressModel",
          "state": {
            "_dom_classes": [],
            "_model_module": "@jupyter-widgets/controls",
            "_model_module_version": "1.5.0",
            "_model_name": "FloatProgressModel",
            "_view_count": null,
            "_view_module": "@jupyter-widgets/controls",
            "_view_module_version": "1.5.0",
            "_view_name": "ProgressView",
            "bar_style": "success",
            "description": "",
            "description_tooltip": null,
            "layout": "IPY_MODEL_1ef4b2520aae48b3bd830a1d3f179f89",
            "max": 1,
            "min": 0,
            "orientation": "horizontal",
            "style": "IPY_MODEL_1d50c28ae9b645adb692128f663ee40c",
            "value": 0
          }
        },
        "6607f73936b44302a81d3f3d3ba28310": {
          "model_module": "@jupyter-widgets/base",
          "model_module_version": "1.2.0",
          "model_name": "LayoutModel",
          "state": {
            "_model_module": "@jupyter-widgets/base",
            "_model_module_version": "1.2.0",
            "_model_name": "LayoutModel",
            "_view_count": null,
            "_view_module": "@jupyter-widgets/base",
            "_view_module_version": "1.2.0",
            "_view_name": "LayoutView",
            "align_content": null,
            "align_items": null,
            "align_self": null,
            "border": null,
            "bottom": null,
            "display": null,
            "flex": null,
            "flex_flow": null,
            "grid_area": null,
            "grid_auto_columns": null,
            "grid_auto_flow": null,
            "grid_auto_rows": null,
            "grid_column": null,
            "grid_gap": null,
            "grid_row": null,
            "grid_template_areas": null,
            "grid_template_columns": null,
            "grid_template_rows": null,
            "height": null,
            "justify_content": null,
            "justify_items": null,
            "left": null,
            "margin": null,
            "max_height": null,
            "max_width": null,
            "min_height": null,
            "min_width": null,
            "object_fit": null,
            "object_position": null,
            "order": null,
            "overflow": null,
            "overflow_x": null,
            "overflow_y": null,
            "padding": null,
            "right": null,
            "top": null,
            "visibility": null,
            "width": null
          }
        },
        "817355e86f614485977a900b659a2fed": {
          "model_module": "@jupyter-widgets/controls",
          "model_module_version": "1.5.0",
          "model_name": "HTMLModel",
          "state": {
            "_dom_classes": [],
            "_model_module": "@jupyter-widgets/controls",
            "_model_module_version": "1.5.0",
            "_model_name": "HTMLModel",
            "_view_count": null,
            "_view_module": "@jupyter-widgets/controls",
            "_view_module_version": "1.5.0",
            "_view_name": "HTMLView",
            "description": "",
            "description_tooltip": null,
            "layout": "IPY_MODEL_c905811dc695483293ba977f973fef8c",
            "placeholder": "​",
            "style": "IPY_MODEL_b28003169cce426a875cb82e42cd3c90",
            "value": " 0/? [00:00&lt;?, ?it/s, v_num=4]"
          }
        },
        "b28003169cce426a875cb82e42cd3c90": {
          "model_module": "@jupyter-widgets/controls",
          "model_module_version": "1.5.0",
          "model_name": "DescriptionStyleModel",
          "state": {
            "_model_module": "@jupyter-widgets/controls",
            "_model_module_version": "1.5.0",
            "_model_name": "DescriptionStyleModel",
            "_view_count": null,
            "_view_module": "@jupyter-widgets/base",
            "_view_module_version": "1.2.0",
            "_view_name": "StyleView",
            "description_width": ""
          }
        },
        "c905811dc695483293ba977f973fef8c": {
          "model_module": "@jupyter-widgets/base",
          "model_module_version": "1.2.0",
          "model_name": "LayoutModel",
          "state": {
            "_model_module": "@jupyter-widgets/base",
            "_model_module_version": "1.2.0",
            "_model_name": "LayoutModel",
            "_view_count": null,
            "_view_module": "@jupyter-widgets/base",
            "_view_module_version": "1.2.0",
            "_view_name": "LayoutView",
            "align_content": null,
            "align_items": null,
            "align_self": null,
            "border": null,
            "bottom": null,
            "display": null,
            "flex": null,
            "flex_flow": null,
            "grid_area": null,
            "grid_auto_columns": null,
            "grid_auto_flow": null,
            "grid_auto_rows": null,
            "grid_column": null,
            "grid_gap": null,
            "grid_row": null,
            "grid_template_areas": null,
            "grid_template_columns": null,
            "grid_template_rows": null,
            "height": null,
            "justify_content": null,
            "justify_items": null,
            "left": null,
            "margin": null,
            "max_height": null,
            "max_width": null,
            "min_height": null,
            "min_width": null,
            "object_fit": null,
            "object_position": null,
            "order": null,
            "overflow": null,
            "overflow_x": null,
            "overflow_y": null,
            "padding": null,
            "right": null,
            "top": null,
            "visibility": null,
            "width": null
          }
        },
        "d539050cc54f45c288d912144d081d76": {
          "model_module": "@jupyter-widgets/controls",
          "model_module_version": "1.5.0",
          "model_name": "HTMLModel",
          "state": {
            "_dom_classes": [],
            "_model_module": "@jupyter-widgets/controls",
            "_model_module_version": "1.5.0",
            "_model_name": "HTMLModel",
            "_view_count": null,
            "_view_module": "@jupyter-widgets/controls",
            "_view_module_version": "1.5.0",
            "_view_name": "HTMLView",
            "description": "",
            "description_tooltip": null,
            "layout": "IPY_MODEL_6607f73936b44302a81d3f3d3ba28310",
            "placeholder": "​",
            "style": "IPY_MODEL_39dea76fbc3545658df84b33787383ba",
            "value": "Epoch 499: "
          }
        },
        "dc36d39ee4294f8abcc589a88ebc4ceb": {
          "model_module": "@jupyter-widgets/base",
          "model_module_version": "1.2.0",
          "model_name": "LayoutModel",
          "state": {
            "_model_module": "@jupyter-widgets/base",
            "_model_module_version": "1.2.0",
            "_model_name": "LayoutModel",
            "_view_count": null,
            "_view_module": "@jupyter-widgets/base",
            "_view_module_version": "1.2.0",
            "_view_name": "LayoutView",
            "align_content": null,
            "align_items": null,
            "align_self": null,
            "border": null,
            "bottom": null,
            "display": "inline-flex",
            "flex": null,
            "flex_flow": "row wrap",
            "grid_area": null,
            "grid_auto_columns": null,
            "grid_auto_flow": null,
            "grid_auto_rows": null,
            "grid_column": null,
            "grid_gap": null,
            "grid_row": null,
            "grid_template_areas": null,
            "grid_template_columns": null,
            "grid_template_rows": null,
            "height": null,
            "justify_content": null,
            "justify_items": null,
            "left": null,
            "margin": null,
            "max_height": null,
            "max_width": null,
            "min_height": null,
            "min_width": null,
            "object_fit": null,
            "object_position": null,
            "order": null,
            "overflow": null,
            "overflow_x": null,
            "overflow_y": null,
            "padding": null,
            "right": null,
            "top": null,
            "visibility": null,
            "width": "100%"
          }
        }
      }
    }
  },
  "nbformat": 4,
  "nbformat_minor": 0
}
