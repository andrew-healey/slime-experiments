{
  "cells": [
    {
      "cell_type": "code",
      "execution_count": 1,
      "metadata": {
        "id": "HiGHZ1qiq_9q"
      },
      "outputs": [],
      "source": [
        "%load_ext autoreload\n",
        "%autoreload 2"
      ]
    },
    {
      "cell_type": "code",
      "execution_count": 2,
      "metadata": {
        "id": "OIu3N4tGnEgv"
      },
      "outputs": [],
      "source": [
        "should_skip = True"
      ]
    },
    {
      "cell_type": "code",
      "execution_count": 3,
      "metadata": {
        "cellView": "form",
        "id": "n0vWJ_IynEgv"
      },
      "outputs": [],
      "source": [
        "#@title Install libraries\n",
        "if not should_skip:\n",
        "  !pip install -U -qq git+https://github.com/huggingface/diffusers.git\n",
        "  !pip install -qq accelerate transformers ftfy\n",
        "  !pip install -q gpustat gdown\n",
        "  !pip install -q pytorch_lightning"
      ]
    },
    {
      "cell_type": "code",
      "execution_count": 4,
      "metadata": {
        "cellView": "form",
        "id": "vey7mPaRnEgw"
      },
      "outputs": [],
      "source": [
        "#@title Import required libraries\n",
        "import argparse\n",
        "import itertools\n",
        "import math\n",
        "import os\n",
        "import random\n",
        "\n",
        "import numpy as np\n",
        "import torch\n",
        "import torch.nn.functional as F\n",
        "import torchvision.transforms.functional as TVF\n",
        "import torch.utils.checkpoint\n",
        "from torch.utils.data import Dataset\n",
        "\n",
        "import PIL\n",
        "from accelerate import Accelerator\n",
        "from accelerate.logging import get_logger\n",
        "from accelerate.utils import set_seed\n",
        "import sys\n",
        "\n",
        "# https://github.com/huggingface/diffusers/blob/main/src/diffusers/models/unet_2d_condition.py#L175-L182\n",
        "from diffusers import AutoencoderKL, DDPMScheduler, PNDMScheduler, StableDiffusionPipeline, UNet2DConditionModel\n",
        "from diffusers.optimization import get_scheduler\n",
        "from diffusers.pipelines.stable_diffusion import StableDiffusionSafetyChecker\n",
        "from PIL import Image\n",
        "from torchvision import transforms\n",
        "from tqdm.auto import tqdm\n",
        "from transformers import CLIPFeatureExtractor, CLIPTextModel, CLIPTokenizer\n",
        "\n",
        "def image_grid(imgs, rows, cols):\n",
        "    assert len(imgs) == rows*cols\n",
        "\n",
        "    w, h = imgs[0].size\n",
        "    grid = Image.new('RGB', size=(cols*w, rows*h))\n",
        "    grid_w, grid_h = grid.size\n",
        "\n",
        "    for i, img in enumerate(imgs):\n",
        "        grid.paste(img, box=(i%cols*w, i//cols*h))\n",
        "    return grid"
      ]
    },
    {
      "cell_type": "code",
      "execution_count": 5,
      "metadata": {
        "cellView": "form",
        "colab": {
          "base_uri": "https://localhost:8080/"
        },
        "id": "TlbAj5_onEgw",
        "outputId": "5d7b3d8b-0f86-456b-e4fa-b1ab2ca50426"
      },
      "outputs": [],
      "source": [
        "if not should_skip:\n",
        "    #@markdown Add here the URLs to the images of the concept you are adding. 3-5 should be fine\n",
        "    train_urls = [\n",
        "        \"https://huggingface.co/datasets/valhalla/images/resolve/main/2.jpeg\",\n",
        "        \"https://huggingface.co/datasets/valhalla/images/resolve/main/3.jpeg\",\n",
        "    ]\n",
        "    test_urls = [\n",
        "        \"https://huggingface.co/datasets/valhalla/images/resolve/main/5.jpeg\",\n",
        "        \"https://huggingface.co/datasets/valhalla/images/resolve/main/6.jpeg\",\n",
        "        ## You can add additional images here\n",
        "    ]\n",
        "#@title Download\n",
        "import requests\n",
        "import glob\n",
        "from io import BytesIO\n",
        "\n",
        "def download_image(url):\n",
        "  try:\n",
        "    response = requests.get(url)\n",
        "  except:\n",
        "    return None\n",
        "  return Image.open(BytesIO(response.content)).convert(\"RGB\")\n",
        "\n",
        "if not should_skip:\n",
        "    for save_path,urls in [(\"./my_concept\",train_urls),(\"./my_concept_test\",test_urls)]:\n",
        "      images = list(filter(None,[download_image(url) for url in urls]))\n",
        "      if not os.path.exists(save_path):\n",
        "        os.mkdir(save_path)\n",
        "      [image.save(f\"{save_path}/{i}.jpeg\") for i, image in enumerate(images)]\n",
        "\n",
        "\n",
        "if not should_skip:\n",
        "    !gdown --id 1I8RMKQhPXntlRKorVNZ6yyNpfaOp8wNv\n",
        "    mask_path=\"./my_concept_gt\"\n",
        "    !mkdir $mask_path/\n",
        "\n",
        "    with open(\"my_concept_gt.zip\",\"r\") as f:\n",
        "        pass\n",
        "    !unzip -o my_concept_gt.zip"
      ]
    },
    {
      "cell_type": "code",
      "execution_count": 6,
      "metadata": {
        "colab": {
          "base_uri": "https://localhost:8080/"
        },
        "id": "zobTtmaarUxr",
        "outputId": "88ef2419-e38b-460b-f2f8-f6d618d85302"
      },
      "outputs": [],
      "source": [
        "# %cd /content/\n",
        "# sys.path.append(\"/content/slime-experiments/\")"
      ]
    },
    {
      "cell_type": "code",
      "execution_count": 7,
      "metadata": {
        "colab": {
          "base_uri": "https://localhost:8080/"
        },
        "id": "S7EY-HMInhWK",
        "outputId": "bbdf3606-38af-403b-93e2-3e9f5a10ddcf"
      },
      "outputs": [],
      "source": [
        "# !rm -rf slime-experiments/\n",
        "# !git clone https://github.com/andrew-healey/slime-experiments\n",
        "# !cd slime-experiments && git rev-parse --short HEAD"
      ]
    },
    {
      "cell_type": "code",
      "execution_count": 8,
      "metadata": {
        "id": "18OU0iWXnEgw"
      },
      "outputs": [],
      "source": [
        "from slime.slime import SLiME\n",
        "from slime.data.single_class import BinarySegmentationDataset,SegmentationDataModule"
      ]
    },
    {
      "cell_type": "code",
      "execution_count": 9,
      "metadata": {
        "id": "gjK_JKcsnEgw"
      },
      "outputs": [],
      "source": [
        "train_dataset = BinarySegmentationDataset(\n",
        "    data_root=\"my_concept\",\n",
        "    mask_root=\"my_concept_gt\",\n",
        ")\n",
        "test_dataset = BinarySegmentationDataset(\n",
        "    data_root=\"my_concept_test\",\n",
        "    mask_root=None\n",
        ")\n",
        "\n",
        "data_module = SegmentationDataModule(\n",
        "    train_dataset,\n",
        "    test_dataset,\n",
        "    iters_per_epoch=500,\n",
        "    batch_size=1,\n",
        ")"
      ]
    },
    {
      "cell_type": "code",
      "execution_count": 10,
      "metadata": {
        "colab": {
          "base_uri": "https://localhost:8080/"
        },
        "id": "5xVozx20nEgw",
        "outputId": "109d1ce9-2c7f-4348-92d7-288ae1714707"
      },
      "outputs": [
        {
          "name": "stderr",
          "output_type": "stream",
          "text": [
            "/usr/local/lib/python3.8/dist-packages/diffusers/configuration_utils.py:239: FutureWarning: It is deprecated to pass a pretrained model name or path to `from_config`.If you were trying to load a scheduler, please use <class 'diffusers.schedulers.scheduling_ddpm.DDPMScheduler'>.from_pretrained(...) instead. Otherwise, please make sure to pass a configuration dictionary instead. This functionality will be removed in v1.0.0.\n",
            "  deprecate(\"config-passed-as-path\", \"1.0.0\", deprecation_message, standard_warn=False)\n"
          ]
        }
      ],
      "source": [
        "slime = SLiME(\n",
        "    use_self_attn=False,\n",
        "    alpha=0.0,\n",
        "    gamma=10.0,\n",
        "    multiplier_lr=0.05,\n",
        "    cross_attn_nums=[12]\n",
        ").cuda()"
      ]
    },
    {
      "cell_type": "code",
      "execution_count": 11,
      "metadata": {
        "colab": {
          "base_uri": "https://localhost:8080/",
          "height": 414,
          "referenced_widgets": [
            "2fe6200bf7064a189e3790f7797c7fbb",
            "d539050cc54f45c288d912144d081d76",
            "5e4c349b29f14b2d85c5e16e78d352ea",
            "817355e86f614485977a900b659a2fed",
            "dc36d39ee4294f8abcc589a88ebc4ceb",
            "6607f73936b44302a81d3f3d3ba28310",
            "39dea76fbc3545658df84b33787383ba",
            "1ef4b2520aae48b3bd830a1d3f179f89",
            "1d50c28ae9b645adb692128f663ee40c",
            "c905811dc695483293ba977f973fef8c",
            "b28003169cce426a875cb82e42cd3c90"
          ]
        },
        "id": "dKcY9CXqnEgw",
        "outputId": "3be2171b-d52d-4163-d7b2-28fd5d29886e"
      },
      "outputs": [
        {
          "name": "stderr",
          "output_type": "stream",
          "text": [
            "GPU available: True (cuda), used: True\n",
            "TPU available: False, using: 0 TPU cores\n",
            "IPU available: False, using: 0 IPUs\n",
            "HPU available: False, using: 0 HPUs\n"
          ]
        },
        {
          "name": "stderr",
          "output_type": "stream",
          "text": [
            "`Trainer(limit_train_batches=1.0)` was configured so 100% of the batches per epoch will be used..\n",
            "You are using a CUDA device ('NVIDIA GeForce RTX 3060') that has Tensor Cores. To properly utilize them, you should set `torch.set_float32_matmul_precision('medium' | 'high')` which will trade-off precision for performance. For more details, read https://pytorch.org/docs/stable/generated/torch.set_float32_matmul_precision.html#torch.set_float32_matmul_precision\n",
            "LOCAL_RANK: 0 - CUDA_VISIBLE_DEVICES: [0]\n",
            "\n",
            "  | Name                   | Type            | Params\n",
            "-----------------------------------------------------------\n",
            "0 | sd                     | StableDiffusion | 900 M \n",
            "1 | cross_layer_multiplier | Multiplier      | 32    \n",
            "2 | self_layer_multiplier  | Multiplier      | 32    \n",
            "3 | cross_map_multiplier   | Multiplier      | 4     \n",
            "4 | pred_map_multiplier    | Multiplier      | 4     \n",
            "5 | cross_norm             | BatchNorm2d     | 2     \n",
            "  | other params           | n/a             | 2.0 K \n",
            "-----------------------------------------------------------\n",
            "2.1 K     Trainable params\n",
            "900 M     Non-trainable params\n",
            "900 M     Total params\n",
            "3,600.306 Total estimated model params size (MB)\n"
          ]
        },
        {
          "data": {
            "application/vnd.jupyter.widget-view+json": {
              "model_id": "dd82d2c0cfa744ed95ac730fc69b464b",
              "version_major": 2,
              "version_minor": 0
            },
            "text/plain": [
              "Training: |          | 0/? [00:00<?, ?it/s]"
            ]
          },
          "metadata": {},
          "output_type": "display_data"
        },
        {
          "name": "stdout",
          "output_type": "stream",
          "text": [
            "pred 0.0 0.0 ce loss 0.69 mse loss 0.25 dice loss 0.64\n",
            "pred 0.05 0.05 ce loss 0.7 mse loss 0.25 dice loss 0.56\n",
            "pred 0.1 0.11 ce loss 0.71 mse loss 0.26 dice loss 0.55\n",
            "pred 0.17 0.18 ce loss 0.74 mse loss 0.27 dice loss 0.63\n",
            "pred 0.23 0.26 ce loss 0.73 mse loss 0.27 dice loss 0.54\n",
            "pred 0.29 0.35 ce loss 0.78 mse loss 0.29 dice loss 0.62\n",
            "pred 0.39 0.46 ce loss 0.76 mse loss 0.28 dice loss 0.52\n",
            "pred 0.46 0.57 ce loss 0.84 mse loss 0.32 dice loss 0.61\n",
            "pred 0.54 0.69 ce loss 0.88 mse loss 0.34 dice loss 0.61\n",
            "pred 0.63 0.81 ce loss 0.83 mse loss 0.31 dice loss 0.5\n",
            "pred 0.71 0.95 ce loss 0.86 mse loss 0.33 dice loss 0.5\n",
            "pred 0.79 1.06 ce loss 1.0 mse loss 0.39 dice loss 0.59\n",
            "pred 0.86 1.2 ce loss 0.92 mse loss 0.35 dice loss 0.48\n",
            "pred 0.94 1.29 ce loss 1.08 mse loss 0.42 dice loss 0.59\n",
            "pred 0.99 1.37 ce loss 1.11 mse loss 0.43 dice loss 0.59\n",
            "pred 0.99 1.46 ce loss 0.97 mse loss 0.37 dice loss 0.47\n",
            "pred 1.01 1.47 ce loss 1.13 mse loss 0.44 dice loss 0.58\n",
            "pred 1.04 1.52 ce loss 0.97 mse loss 0.37 dice loss 0.47\n",
            "pred 0.98 1.51 ce loss 1.12 mse loss 0.44 dice loss 0.58\n",
            "pred 0.98 1.5 ce loss 0.95 mse loss 0.36 dice loss 0.47\n",
            "pred 0.87 1.48 ce loss 1.09 mse loss 0.43 dice loss 0.58\n",
            "pred 0.88 1.45 ce loss 0.91 mse loss 0.35 dice loss 0.47\n",
            "pred 0.8 1.49 ce loss 0.88 mse loss 0.34 dice loss 0.47\n",
            "pred 0.72 1.42 ce loss 1.03 mse loss 0.41 dice loss 0.58\n",
            "pred 0.72 1.46 ce loss 0.86 mse loss 0.33 dice loss 0.47\n",
            "pred 0.64 1.4 ce loss 1.01 mse loss 0.39 dice loss 0.58\n",
            "pred 0.56 1.39 ce loss 0.99 mse loss 0.39 dice loss 0.58\n",
            "pred 0.58 1.45 ce loss 0.82 mse loss 0.31 dice loss 0.47\n",
            "pred 0.54 1.49 ce loss 0.8 mse loss 0.3 dice loss 0.47\n",
            "pred 0.49 1.44 ce loss 0.95 mse loss 0.37 dice loss 0.58\n",
            "pred 0.48 1.49 ce loss 0.79 mse loss 0.3 dice loss 0.47\n",
            "pred 0.38 1.49 ce loss 0.95 mse loss 0.37 dice loss 0.58\n",
            "pred 0.33 1.48 ce loss 0.94 mse loss 0.37 dice loss 0.58\n",
            "pred 0.38 1.66 ce loss 0.77 mse loss 0.29 dice loss 0.46\n",
            "pred 0.36 1.81 ce loss 0.76 mse loss 0.28 dice loss 0.46\n",
            "pred 0.34 1.75 ce loss 0.94 mse loss 0.36 dice loss 0.57\n",
            "pred 0.28 1.67 ce loss 0.94 mse loss 0.37 dice loss 0.57\n",
            "pred 0.29 2.08 ce loss 0.76 mse loss 0.28 dice loss 0.45\n",
            "pred 0.26 1.93 ce loss 0.94 mse loss 0.36 dice loss 0.56\n",
            "pred 0.27 2.15 ce loss 0.75 mse loss 0.28 dice loss 0.45\n",
            "pred 0.26 2.28 ce loss 0.75 mse loss 0.28 dice loss 0.45\n",
            "pred 0.16 2.14 ce loss 0.96 mse loss 0.37 dice loss 0.55\n",
            "pred 0.22 2.53 ce loss 0.74 mse loss 0.28 dice loss 0.44\n",
            "pred 0.11 2.32 ce loss 0.96 mse loss 0.37 dice loss 0.55\n",
            "pred 0.11 2.56 ce loss 0.96 mse loss 0.37 dice loss 0.55\n",
            "pred 0.14 2.54 ce loss 0.72 mse loss 0.27 dice loss 0.44\n",
            "pred 0.12 2.89 ce loss 0.73 mse loss 0.27 dice loss 0.43\n",
            "pred 0.05 2.49 ce loss 0.94 mse loss 0.36 dice loss 0.54\n",
            "pred 0.02 2.81 ce loss 0.95 mse loss 0.36 dice loss 0.54\n",
            "pred 0.07 2.91 ce loss 0.71 mse loss 0.26 dice loss 0.43\n",
            "pred 0.02 3.07 ce loss 0.7 mse loss 0.26 dice loss 0.43\n",
            "pred -0.06 2.76 ce loss 0.9 mse loss 0.34 dice loss 0.53\n",
            "pred -0.04 3.13 ce loss 0.9 mse loss 0.34 dice loss 0.53\n",
            "pred -0.07 3.42 ce loss 0.69 mse loss 0.25 dice loss 0.42\n",
            "pred -0.05 3.36 ce loss 0.68 mse loss 0.25 dice loss 0.42\n",
            "pred -0.13 3.1 ce loss 0.87 mse loss 0.32 dice loss 0.52\n",
            "pred -0.12 3.11 ce loss 0.85 mse loss 0.32 dice loss 0.52\n",
            "pred -0.17 3.61 ce loss 0.67 mse loss 0.24 dice loss 0.42\n",
            "pred -0.12 2.98 ce loss 0.8 mse loss 0.3 dice loss 0.53\n",
            "pred -0.17 3.7 ce loss 0.67 mse loss 0.24 dice loss 0.42\n",
            "pred -0.27 3.98 ce loss 0.68 mse loss 0.24 dice loss 0.41\n",
            "pred -0.21 3.65 ce loss 0.83 mse loss 0.3 dice loss 0.51\n",
            "pred -0.2 3.53 ce loss 0.83 mse loss 0.3 dice loss 0.51\n",
            "pred -0.3 4.19 ce loss 0.68 mse loss 0.24 dice loss 0.41\n",
            "pred -0.32 4.1 ce loss 0.67 mse loss 0.24 dice loss 0.41\n",
            "pred -0.22 3.73 ce loss 0.8 mse loss 0.29 dice loss 0.51\n",
            "pred -0.29 4.14 ce loss 0.82 mse loss 0.29 dice loss 0.5\n",
            "pred -0.38 4.55 ce loss 0.67 mse loss 0.24 dice loss 0.41\n",
            "pred -0.37 4.45 ce loss 0.85 mse loss 0.29 dice loss 0.5\n",
            "pred -0.41 4.66 ce loss 0.66 mse loss 0.23 dice loss 0.41\n",
            "pred -0.41 4.68 ce loss 0.64 mse loss 0.23 dice loss 0.41\n",
            "pred -0.29 4.47 ce loss 0.8 mse loss 0.28 dice loss 0.49\n",
            "pred -0.37 4.8 ce loss 0.65 mse loss 0.23 dice loss 0.41\n",
            "pred -0.3 4.44 ce loss 0.78 mse loss 0.27 dice loss 0.5\n",
            "pred -0.44 4.81 ce loss 0.64 mse loss 0.23 dice loss 0.4\n",
            "pred -0.38 4.64 ce loss 0.82 mse loss 0.28 dice loss 0.49\n",
            "pred -0.36 4.74 ce loss 0.84 mse loss 0.28 dice loss 0.49\n",
            "pred -0.42 4.96 ce loss 0.64 mse loss 0.23 dice loss 0.4\n",
            "pred -0.43 5.05 ce loss 0.63 mse loss 0.22 dice loss 0.4\n",
            "pred -0.43 4.95 ce loss 0.84 mse loss 0.28 dice loss 0.49\n",
            "pred -0.46 5.18 ce loss 0.63 mse loss 0.22 dice loss 0.4\n",
            "pred -0.37 4.83 ce loss 0.82 mse loss 0.27 dice loss 0.49\n",
            "pred -0.44 4.92 ce loss 0.8 mse loss 0.27 dice loss 0.49\n",
            "pred -0.48 5.17 ce loss 0.61 mse loss 0.22 dice loss 0.4\n",
            "pred -0.34 4.81 ce loss 0.79 mse loss 0.26 dice loss 0.49\n",
            "pred -0.39 4.97 ce loss 0.6 mse loss 0.21 dice loss 0.4\n",
            "pred -0.31 4.85 ce loss 0.78 mse loss 0.26 dice loss 0.49\n",
            "pred -0.41 5.03 ce loss 0.59 mse loss 0.21 dice loss 0.4\n",
            "pred -0.39 5.01 ce loss 0.59 mse loss 0.21 dice loss 0.4\n",
            "pred -0.37 4.98 ce loss 0.76 mse loss 0.26 dice loss 0.48\n",
            "pred -0.35 4.96 ce loss 0.77 mse loss 0.26 dice loss 0.48\n",
            "pred -0.45 5.13 ce loss 0.59 mse loss 0.21 dice loss 0.4\n",
            "pred -0.41 5.27 ce loss 0.59 mse loss 0.21 dice loss 0.4\n",
            "pred -0.37 5.06 ce loss 0.77 mse loss 0.26 dice loss 0.48\n",
            "pred -0.46 5.59 ce loss 0.6 mse loss 0.21 dice loss 0.4\n",
            "pred -0.42 5.46 ce loss 0.8 mse loss 0.26 dice loss 0.48\n",
            "pred -0.33 5.01 ce loss 0.75 mse loss 0.25 dice loss 0.49\n",
            "pred -0.51 5.52 ce loss 0.6 mse loss 0.21 dice loss 0.4\n",
            "pred -0.54 5.74 ce loss 0.6 mse loss 0.21 dice loss 0.39\n",
            "pred -0.56 5.4 ce loss 0.82 mse loss 0.27 dice loss 0.48\n",
            "pred -0.53 5.88 ce loss 0.6 mse loss 0.21 dice loss 0.39\n",
            "pred -0.6 5.55 ce loss 0.81 mse loss 0.26 dice loss 0.48\n",
            "pred -0.59 5.74 ce loss 0.6 mse loss 0.21 dice loss 0.39\n",
            "pred -0.44 5.55 ce loss 0.79 mse loss 0.26 dice loss 0.48\n",
            "pred -0.42 5.54 ce loss 0.75 mse loss 0.25 dice loss 0.49\n",
            "pred -0.51 5.77 ce loss 0.6 mse loss 0.21 dice loss 0.39\n",
            "pred -0.55 6.0 ce loss 0.61 mse loss 0.21 dice loss 0.39\n",
            "pred -0.65 5.94 ce loss 0.88 mse loss 0.27 dice loss 0.48\n",
            "pred -0.61 6.01 ce loss 0.61 mse loss 0.21 dice loss 0.39\n",
            "pred -0.59 5.76 ce loss 0.88 mse loss 0.27 dice loss 0.48\n",
            "pred -0.68 5.79 ce loss 0.89 mse loss 0.27 dice loss 0.48\n",
            "pred -0.55 6.0 ce loss 0.61 mse loss 0.21 dice loss 0.39\n",
            "pred -0.68 5.76 ce loss 0.87 mse loss 0.27 dice loss 0.48\n",
            "pred -0.5 5.79 ce loss 0.6 mse loss 0.21 dice loss 0.39\n",
            "pred -0.58 5.65 ce loss 0.84 mse loss 0.27 dice loss 0.48\n",
            "pred -0.49 5.73 ce loss 0.59 mse loss 0.21 dice loss 0.39\n",
            "pred -0.5 5.41 ce loss 0.81 mse loss 0.26 dice loss 0.48\n",
            "pred -0.53 5.66 ce loss 0.58 mse loss 0.2 dice loss 0.39\n",
            "pred -0.52 5.48 ce loss 0.58 mse loss 0.2 dice loss 0.39\n",
            "pred -0.49 5.25 ce loss 0.76 mse loss 0.25 dice loss 0.48\n",
            "pred -0.41 5.58 ce loss 0.58 mse loss 0.2 dice loss 0.39\n",
            "pred -0.51 4.99 ce loss 0.73 mse loss 0.25 dice loss 0.48\n",
            "pred -0.23 4.38 ce loss 0.66 mse loss 0.23 dice loss 0.5\n",
            "pred -0.36 5.49 ce loss 0.58 mse loss 0.2 dice loss 0.39\n",
            "pred -0.44 5.19 ce loss 0.75 mse loss 0.25 dice loss 0.48\n",
            "pred -0.45 5.6 ce loss 0.58 mse loss 0.2 dice loss 0.39\n",
            "pred -0.46 5.41 ce loss 0.77 mse loss 0.26 dice loss 0.48\n",
            "pred -0.42 5.67 ce loss 0.59 mse loss 0.2 dice loss 0.39\n",
            "pred -0.4 5.76 ce loss 0.58 mse loss 0.2 dice loss 0.39\n",
            "pred -0.5 5.55 ce loss 0.8 mse loss 0.26 dice loss 0.48\n",
            "pred -0.41 5.88 ce loss 0.59 mse loss 0.21 dice loss 0.39\n",
            "pred -0.61 5.36 ce loss 0.8 mse loss 0.26 dice loss 0.48\n",
            "pred -0.52 5.85 ce loss 0.59 mse loss 0.21 dice loss 0.39\n",
            "pred -0.53 5.53 ce loss 0.78 mse loss 0.26 dice loss 0.48\n",
            "pred -0.42 5.65 ce loss 0.78 mse loss 0.26 dice loss 0.48\n",
            "pred -0.34 5.8 ce loss 0.59 mse loss 0.21 dice loss 0.39\n",
            "pred -0.4 5.35 ce loss 0.74 mse loss 0.25 dice loss 0.48\n",
            "pred -0.37 5.83 ce loss 0.59 mse loss 0.21 dice loss 0.39\n",
            "pred -0.46 5.31 ce loss 0.73 mse loss 0.25 dice loss 0.48\n",
            "pred -0.31 5.7 ce loss 0.58 mse loss 0.2 dice loss 0.39\n",
            "pred -0.35 5.5 ce loss 0.72 mse loss 0.24 dice loss 0.48\n",
            "pred -0.32 5.57 ce loss 0.58 mse loss 0.2 dice loss 0.39\n",
            "pred -0.4 5.34 ce loss 0.69 mse loss 0.24 dice loss 0.48\n",
            "pred -0.36 5.74 ce loss 0.58 mse loss 0.2 dice loss 0.39\n",
            "pred -0.26 5.09 ce loss 0.67 mse loss 0.24 dice loss 0.48\n",
            "pred -0.4 5.87 ce loss 0.59 mse loss 0.21 dice loss 0.38\n",
            "pred -0.32 5.97 ce loss 0.59 mse loss 0.21 dice loss 0.38\n",
            "pred -0.48 5.68 ce loss 0.75 mse loss 0.25 dice loss 0.47\n",
            "pred -0.4 5.7 ce loss 0.74 mse loss 0.25 dice loss 0.47\n",
            "pred -0.36 6.06 ce loss 0.6 mse loss 0.21 dice loss 0.38\n",
            "pred -0.42 5.85 ce loss 0.75 mse loss 0.25 dice loss 0.47\n",
            "pred -0.44 6.09 ce loss 0.6 mse loss 0.21 dice loss 0.38\n",
            "pred -0.32 6.1 ce loss 0.59 mse loss 0.21 dice loss 0.38\n",
            "pred -0.45 5.81 ce loss 0.73 mse loss 0.24 dice loss 0.47\n",
            "pred -0.42 5.76 ce loss 0.72 mse loss 0.24 dice loss 0.47\n",
            "pred -0.4 6.12 ce loss 0.58 mse loss 0.2 dice loss 0.38\n",
            "pred -0.27 5.69 ce loss 0.67 mse loss 0.23 dice loss 0.48\n",
            "pred -0.34 6.2 ce loss 0.59 mse loss 0.2 dice loss 0.38\n",
            "pred -0.42 6.02 ce loss 0.72 mse loss 0.24 dice loss 0.47\n",
            "pred -0.37 6.24 ce loss 0.59 mse loss 0.21 dice loss 0.38\n",
            "pred -0.39 6.4 ce loss 0.6 mse loss 0.21 dice loss 0.37\n",
            "pred -0.49 6.31 ce loss 0.79 mse loss 0.25 dice loss 0.47\n",
            "pred -0.59 6.32 ce loss 0.78 mse loss 0.25 dice loss 0.47\n",
            "pred -0.42 6.35 ce loss 0.59 mse loss 0.2 dice loss 0.38\n",
            "pred -0.45 6.13 ce loss 0.73 mse loss 0.24 dice loss 0.47\n",
            "pred -0.47 6.54 ce loss 0.58 mse loss 0.2 dice loss 0.38\n",
            "pred -0.43 6.41 ce loss 0.58 mse loss 0.2 dice loss 0.37\n",
            "pred -0.37 5.97 ce loss 0.68 mse loss 0.23 dice loss 0.47\n",
            "pred -0.44 6.33 ce loss 0.58 mse loss 0.2 dice loss 0.37\n",
            "pred -0.34 6.05 ce loss 0.68 mse loss 0.23 dice loss 0.47\n",
            "pred -0.28 5.85 ce loss 0.66 mse loss 0.23 dice loss 0.48\n",
            "pred -0.44 6.23 ce loss 0.57 mse loss 0.2 dice loss 0.38\n",
            "pred -0.48 6.63 ce loss 0.6 mse loss 0.21 dice loss 0.37\n",
            "pred -0.53 6.32 ce loss 0.72 mse loss 0.24 dice loss 0.47\n",
            "pred -0.43 6.38 ce loss 0.58 mse loss 0.21 dice loss 0.37\n",
            "pred -0.53 6.37 ce loss 0.72 mse loss 0.24 dice loss 0.47\n",
            "pred -0.48 6.54 ce loss 0.74 mse loss 0.24 dice loss 0.47\n",
            "pred -0.45 6.48 ce loss 0.59 mse loss 0.21 dice loss 0.37\n",
            "pred -0.51 6.38 ce loss 0.71 mse loss 0.24 dice loss 0.47\n",
            "pred -0.5 6.8 ce loss 0.59 mse loss 0.2 dice loss 0.37\n",
            "pred -0.59 6.73 ce loss 0.58 mse loss 0.2 dice loss 0.37\n",
            "pred -0.41 6.2 ce loss 0.68 mse loss 0.23 dice loss 0.47\n",
            "pred -0.5 6.71 ce loss 0.58 mse loss 0.2 dice loss 0.37\n",
            "pred -0.25 5.84 ce loss 0.64 mse loss 0.22 dice loss 0.48\n",
            "pred -0.54 6.94 ce loss 0.59 mse loss 0.2 dice loss 0.36\n",
            "pred -0.44 6.9 ce loss 0.7 mse loss 0.23 dice loss 0.47\n",
            "pred -0.6 6.95 ce loss 0.59 mse loss 0.21 dice loss 0.36\n",
            "pred -0.45 6.77 ce loss 0.69 mse loss 0.23 dice loss 0.47\n",
            "pred -0.44 6.66 ce loss 0.69 mse loss 0.23 dice loss 0.47\n",
            "pred -0.59 6.9 ce loss 0.6 mse loss 0.21 dice loss 0.36\n",
            "pred -0.57 6.75 ce loss 0.59 mse loss 0.21 dice loss 0.36\n",
            "pred -0.45 6.73 ce loss 0.66 mse loss 0.23 dice loss 0.47\n",
            "pred -0.62 6.98 ce loss 0.58 mse loss 0.2 dice loss 0.36\n",
            "pred -0.48 6.82 ce loss 0.68 mse loss 0.23 dice loss 0.47\n",
            "pred -0.51 7.09 ce loss 0.58 mse loss 0.2 dice loss 0.36\n",
            "pred -0.44 6.66 ce loss 0.64 mse loss 0.22 dice loss 0.47\n",
            "pred -0.41 6.99 ce loss 0.66 mse loss 0.23 dice loss 0.47\n",
            "pred -0.64 7.01 ce loss 0.56 mse loss 0.2 dice loss 0.36\n",
            "pred -0.48 6.9 ce loss 0.57 mse loss 0.2 dice loss 0.36\n",
            "pred -0.42 7.16 ce loss 0.65 mse loss 0.23 dice loss 0.47\n",
            "pred -0.7 7.27 ce loss 0.59 mse loss 0.2 dice loss 0.36\n",
            "pred -0.58 7.39 ce loss 0.68 mse loss 0.23 dice loss 0.47\n",
            "pred -0.58 7.43 ce loss 0.69 mse loss 0.23 dice loss 0.46\n",
            "pred -0.7 7.26 ce loss 0.59 mse loss 0.21 dice loss 0.35\n",
            "pred -0.42 7.26 ce loss 0.63 mse loss 0.22 dice loss 0.47\n",
            "pred -0.58 7.34 ce loss 0.58 mse loss 0.2 dice loss 0.35\n",
            "pred -0.66 7.36 ce loss 0.57 mse loss 0.2 dice loss 0.35\n",
            "pred -0.38 7.41 ce loss 0.63 mse loss 0.22 dice loss 0.47\n",
            "pred -0.69 7.54 ce loss 0.57 mse loss 0.2 dice loss 0.35\n",
            "pred -0.42 6.88 ce loss 0.61 mse loss 0.21 dice loss 0.47\n",
            "pred -0.77 7.49 ce loss 0.59 mse loss 0.2 dice loss 0.35\n",
            "pred -0.59 7.78 ce loss 0.7 mse loss 0.23 dice loss 0.46\n",
            "pred -0.8 7.69 ce loss 0.58 mse loss 0.2 dice loss 0.35\n",
            "pred -0.58 7.66 ce loss 0.68 mse loss 0.23 dice loss 0.46\n",
            "pred -0.57 7.94 ce loss 0.69 mse loss 0.23 dice loss 0.46\n",
            "pred -0.75 7.79 ce loss 0.59 mse loss 0.2 dice loss 0.35\n",
            "pred -0.44 7.46 ce loss 0.64 mse loss 0.22 dice loss 0.46\n",
            "pred -0.57 7.55 ce loss 0.56 mse loss 0.19 dice loss 0.35\n",
            "pred -0.73 7.65 ce loss 0.56 mse loss 0.19 dice loss 0.35\n",
            "pred -0.52 7.56 ce loss 0.61 mse loss 0.21 dice loss 0.47\n",
            "pred -0.77 7.6 ce loss 0.56 mse loss 0.2 dice loss 0.35\n",
            "pred -0.37 7.37 ce loss 0.6 mse loss 0.21 dice loss 0.47\n",
            "pred -0.63 7.63 ce loss 0.59 mse loss 0.21 dice loss 0.35\n",
            "pred -0.61 8.17 ce loss 0.67 mse loss 0.23 dice loss 0.46\n",
            "pred -0.58 7.75 ce loss 0.59 mse loss 0.2 dice loss 0.34\n",
            "pred -0.83 8.21 ce loss 0.69 mse loss 0.23 dice loss 0.46\n",
            "pred -0.56 7.99 ce loss 0.66 mse loss 0.23 dice loss 0.46\n",
            "pred -0.76 7.99 ce loss 0.58 mse loss 0.2 dice loss 0.34\n",
            "pred -0.6 8.34 ce loss 0.64 mse loss 0.22 dice loss 0.46\n",
            "pred -0.78 8.02 ce loss 0.57 mse loss 0.19 dice loss 0.34\n",
            "pred -0.49 8.21 ce loss 0.59 mse loss 0.21 dice loss 0.47\n",
            "pred -0.57 7.8 ce loss 0.55 mse loss 0.19 dice loss 0.35\n",
            "pred -0.51 8.42 ce loss 0.62 mse loss 0.21 dice loss 0.46\n",
            "pred -0.77 8.0 ce loss 0.57 mse loss 0.19 dice loss 0.34\n",
            "pred -0.81 7.86 ce loss 0.58 mse loss 0.2 dice loss 0.34\n",
            "pred -0.48 8.71 ce loss 0.62 mse loss 0.21 dice loss 0.46\n",
            "pred -0.84 8.08 ce loss 0.58 mse loss 0.2 dice loss 0.34\n",
            "pred -0.52 8.61 ce loss 0.61 mse loss 0.21 dice loss 0.46\n",
            "pred -0.52 8.32 ce loss 0.59 mse loss 0.21 dice loss 0.46\n",
            "pred -0.39 8.1 ce loss 0.57 mse loss 0.2 dice loss 0.34\n",
            "pred -0.54 8.54 ce loss 0.63 mse loss 0.22 dice loss 0.46\n",
            "pred -0.47 8.39 ce loss 0.59 mse loss 0.2 dice loss 0.34\n",
            "pred -0.52 8.69 ce loss 0.68 mse loss 0.23 dice loss 0.46\n",
            "pred -0.76 8.23 ce loss 0.58 mse loss 0.2 dice loss 0.34\n",
            "pred -0.59 8.51 ce loss 0.62 mse loss 0.21 dice loss 0.46\n",
            "pred -0.72 8.28 ce loss 0.56 mse loss 0.19 dice loss 0.34\n",
            "pred -0.64 8.86 ce loss 0.59 mse loss 0.2 dice loss 0.46\n",
            "pred -0.72 8.4 ce loss 0.55 mse loss 0.19 dice loss 0.34\n",
            "pred -0.7 8.46 ce loss 0.55 mse loss 0.19 dice loss 0.34\n",
            "pred -0.59 8.91 ce loss 0.59 mse loss 0.2 dice loss 0.46\n",
            "pred -0.6 8.87 ce loss 0.6 mse loss 0.21 dice loss 0.46\n",
            "pred -0.72 8.45 ce loss 0.56 mse loss 0.19 dice loss 0.34\n",
            "pred -0.47 8.37 ce loss 0.57 mse loss 0.19 dice loss 0.34\n",
            "pred -0.6 9.0 ce loss 0.64 mse loss 0.22 dice loss 0.46\n",
            "pred -0.43 8.43 ce loss 0.57 mse loss 0.2 dice loss 0.34\n",
            "pred -0.7 9.21 ce loss 0.61 mse loss 0.21 dice loss 0.45\n",
            "pred -0.63 9.2 ce loss 0.6 mse loss 0.21 dice loss 0.45\n",
            "pred -0.74 8.52 ce loss 0.55 mse loss 0.19 dice loss 0.33\n",
            "pred -0.68 9.18 ce loss 0.59 mse loss 0.21 dice loss 0.45\n",
            "pred -0.8 8.61 ce loss 0.55 mse loss 0.19 dice loss 0.33\n",
            "pred -0.75 8.51 ce loss 0.56 mse loss 0.19 dice loss 0.33\n",
            "pred -0.58 9.18 ce loss 0.58 mse loss 0.2 dice loss 0.46\n",
            "pred -0.81 8.91 ce loss 0.56 mse loss 0.19 dice loss 0.33\n",
            "pred -0.59 9.0 ce loss 0.6 mse loss 0.21 dice loss 0.45\n",
            "pred -0.88 8.67 ce loss 0.61 mse loss 0.2 dice loss 0.33\n",
            "pred -0.54 9.2 ce loss 0.58 mse loss 0.2 dice loss 0.46\n",
            "pred -0.82 8.88 ce loss 0.55 mse loss 0.19 dice loss 0.33\n",
            "pred -0.7 9.39 ce loss 0.6 mse loss 0.21 dice loss 0.45\n",
            "pred -0.75 9.4 ce loss 0.61 mse loss 0.21 dice loss 0.45\n",
            "pred -0.97 8.99 ce loss 0.55 mse loss 0.19 dice loss 0.33\n",
            "pred -0.92 8.92 ce loss 0.56 mse loss 0.19 dice loss 0.33\n",
            "pred -0.62 9.43 ce loss 0.6 mse loss 0.21 dice loss 0.45\n",
            "pred -0.74 9.5 ce loss 0.58 mse loss 0.2 dice loss 0.45\n",
            "pred -0.88 9.07 ce loss 0.55 mse loss 0.19 dice loss 0.33\n",
            "pred -0.81 8.99 ce loss 0.55 mse loss 0.19 dice loss 0.33\n",
            "pred -0.63 9.45 ce loss 0.57 mse loss 0.2 dice loss 0.45\n",
            "pred -0.66 9.51 ce loss 0.57 mse loss 0.2 dice loss 0.45\n",
            "pred -0.83 9.0 ce loss 0.56 mse loss 0.19 dice loss 0.33\n",
            "pred -0.57 9.51 ce loss 0.58 mse loss 0.2 dice loss 0.44\n",
            "pred -0.93 9.32 ce loss 0.59 mse loss 0.2 dice loss 0.32\n",
            "pred -1.06 9.24 ce loss 0.58 mse loss 0.2 dice loss 0.32\n",
            "pred -0.69 9.44 ce loss 0.58 mse loss 0.2 dice loss 0.44\n",
            "pred -0.74 9.3 ce loss 0.57 mse loss 0.2 dice loss 0.44\n",
            "pred -0.9 9.32 ce loss 0.52 mse loss 0.18 dice loss 0.33\n",
            "pred -0.76 9.83 ce loss 0.57 mse loss 0.2 dice loss 0.44\n",
            "pred -0.99 9.46 ce loss 0.54 mse loss 0.18 dice loss 0.33\n",
            "pred -0.68 10.09 ce loss 0.57 mse loss 0.2 dice loss 0.44\n",
            "pred -0.81 9.32 ce loss 0.53 mse loss 0.18 dice loss 0.32\n",
            "pred -0.92 9.34 ce loss 0.55 mse loss 0.19 dice loss 0.32\n",
            "pred -0.59 9.43 ce loss 0.57 mse loss 0.2 dice loss 0.44\n",
            "pred -0.69 10.0 ce loss 0.58 mse loss 0.2 dice loss 0.44\n",
            "pred -1.02 9.57 ce loss 0.57 mse loss 0.19 dice loss 0.32\n",
            "pred -0.95 9.67 ce loss 0.57 mse loss 0.19 dice loss 0.32\n",
            "pred -0.58 10.18 ce loss 0.57 mse loss 0.2 dice loss 0.44\n",
            "pred -0.7 10.14 ce loss 0.56 mse loss 0.2 dice loss 0.44\n",
            "pred -0.89 9.78 ce loss 0.53 mse loss 0.18 dice loss 0.33\n",
            "pred -0.96 9.89 ce loss 0.53 mse loss 0.18 dice loss 0.32\n",
            "pred -0.66 10.17 ce loss 0.58 mse loss 0.2 dice loss 0.43\n",
            "pred -1.13 9.94 ce loss 0.54 mse loss 0.18 dice loss 0.32\n",
            "pred -0.71 9.92 ce loss 0.57 mse loss 0.2 dice loss 0.43\n",
            "pred -1.05 9.87 ce loss 0.58 mse loss 0.2 dice loss 0.32\n",
            "pred -0.59 9.82 ce loss 0.55 mse loss 0.19 dice loss 0.44\n",
            "pred -0.68 9.71 ce loss 0.56 mse loss 0.19 dice loss 0.43\n",
            "pred -1.0 9.96 ce loss 0.53 mse loss 0.18 dice loss 0.32\n",
            "pred -1.1 10.06 ce loss 0.57 mse loss 0.19 dice loss 0.31\n",
            "pred -0.58 10.27 ce loss 0.57 mse loss 0.2 dice loss 0.43\n",
            "pred -1.06 10.16 ce loss 0.53 mse loss 0.18 dice loss 0.32\n",
            "pred -0.61 10.32 ce loss 0.56 mse loss 0.2 dice loss 0.43\n",
            "pred -0.79 10.06 ce loss 0.57 mse loss 0.2 dice loss 0.43\n",
            "pred -1.3 10.17 ce loss 0.55 mse loss 0.18 dice loss 0.31\n",
            "pred -0.71 10.3 ce loss 0.56 mse loss 0.19 dice loss 0.43\n",
            "pred -1.22 10.14 ce loss 0.52 mse loss 0.18 dice loss 0.31\n",
            "pred -0.6 10.63 ce loss 0.54 mse loss 0.19 dice loss 0.44\n",
            "pred -1.08 10.45 ce loss 0.53 mse loss 0.18 dice loss 0.31\n",
            "pred -0.7 10.2 ce loss 0.57 mse loss 0.2 dice loss 0.42\n",
            "pred -1.13 10.41 ce loss 0.56 mse loss 0.19 dice loss 0.31\n",
            "pred -1.19 10.49 ce loss 0.55 mse loss 0.18 dice loss 0.31\n",
            "pred -0.77 10.77 ce loss 0.56 mse loss 0.19 dice loss 0.42\n",
            "pred -0.87 10.6 ce loss 0.57 mse loss 0.19 dice loss 0.42\n",
            "pred -1.07 10.58 ce loss 0.5 mse loss 0.17 dice loss 0.31\n",
            "pred -1.03 10.57 ce loss 0.51 mse loss 0.17 dice loss 0.32\n",
            "pred -0.69 10.74 ce loss 0.54 mse loss 0.19 dice loss 0.42\n",
            "pred -0.82 10.56 ce loss 0.56 mse loss 0.19 dice loss 0.42\n",
            "pred -1.13 10.61 ce loss 0.57 mse loss 0.19 dice loss 0.31\n",
            "pred -0.72 10.28 ce loss 0.54 mse loss 0.19 dice loss 0.42\n",
            "pred -1.26 10.83 ce loss 0.54 mse loss 0.18 dice loss 0.31\n",
            "pred -0.83 10.34 ce loss 0.54 mse loss 0.19 dice loss 0.42\n",
            "pred -1.25 10.83 ce loss 0.52 mse loss 0.17 dice loss 0.31\n",
            "pred -1.22 10.86 ce loss 0.53 mse loss 0.17 dice loss 0.31\n",
            "pred -0.9 11.17 ce loss 0.57 mse loss 0.19 dice loss 0.42\n",
            "pred -1.25 10.89 ce loss 0.54 mse loss 0.18 dice loss 0.31\n",
            "pred -0.86 11.01 ce loss 0.56 mse loss 0.19 dice loss 0.41\n",
            "pred -1.01 10.87 ce loss 0.53 mse loss 0.18 dice loss 0.41\n",
            "pred -1.15 10.75 ce loss 0.52 mse loss 0.17 dice loss 0.31\n",
            "pred -1.33 10.95 ce loss 0.53 mse loss 0.18 dice loss 0.31\n",
            "pred -0.87 10.67 ce loss 0.52 mse loss 0.18 dice loss 0.42\n",
            "pred -0.76 10.43 ce loss 0.53 mse loss 0.18 dice loss 0.41\n",
            "pred -1.17 10.98 ce loss 0.53 mse loss 0.18 dice loss 0.31\n",
            "pred -0.83 10.69 ce loss 0.54 mse loss 0.19 dice loss 0.41\n",
            "pred -1.35 11.09 ce loss 0.51 mse loss 0.17 dice loss 0.3\n",
            "pred -1.41 11.21 ce loss 0.51 mse loss 0.17 dice loss 0.3\n",
            "pred -1.14 11.25 ce loss 0.55 mse loss 0.19 dice loss 0.41\n",
            "pred -1.09 11.31 ce loss 0.55 mse loss 0.19 dice loss 0.41\n",
            "pred -1.26 11.14 ce loss 0.5 mse loss 0.16 dice loss 0.31\n",
            "pred -1.19 11.29 ce loss 0.48 mse loss 0.16 dice loss 0.31\n",
            "pred -1.35 11.22 ce loss 0.52 mse loss 0.18 dice loss 0.41\n",
            "pred -1.25 11.31 ce loss 0.56 mse loss 0.18 dice loss 0.3\n",
            "pred -1.21 11.24 ce loss 0.53 mse loss 0.18 dice loss 0.41\n",
            "pred -1.27 11.41 ce loss 0.54 mse loss 0.18 dice loss 0.3\n",
            "pred -1.13 10.7 ce loss 0.51 mse loss 0.18 dice loss 0.41\n",
            "pred -1.52 11.39 ce loss 0.51 mse loss 0.17 dice loss 0.3\n",
            "pred -1.08 11.52 ce loss 0.52 mse loss 0.18 dice loss 0.41\n",
            "pred -1.2 11.33 ce loss 0.53 mse loss 0.18 dice loss 0.4\n",
            "pred -1.45 11.41 ce loss 0.5 mse loss 0.16 dice loss 0.3\n",
            "pred -1.11 11.29 ce loss 0.52 mse loss 0.18 dice loss 0.4\n",
            "pred -1.46 11.61 ce loss 0.49 mse loss 0.16 dice loss 0.3\n",
            "pred -1.23 11.61 ce loss 0.5 mse loss 0.17 dice loss 0.3\n",
            "pred -1.26 11.58 ce loss 0.52 mse loss 0.18 dice loss 0.4\n",
            "pred -1.41 11.62 ce loss 0.51 mse loss 0.17 dice loss 0.3\n",
            "pred -1.29 11.42 ce loss 0.51 mse loss 0.18 dice loss 0.4\n",
            "pred -1.38 11.73 ce loss 0.51 mse loss 0.17 dice loss 0.3\n",
            "pred -1.36 11.83 ce loss 0.52 mse loss 0.18 dice loss 0.4\n",
            "pred -1.2 11.52 ce loss 0.5 mse loss 0.17 dice loss 0.4\n",
            "pred -1.57 11.8 ce loss 0.48 mse loss 0.16 dice loss 0.3\n",
            "pred -1.66 11.9 ce loss 0.5 mse loss 0.16 dice loss 0.29\n",
            "pred -1.19 11.82 ce loss 0.51 mse loss 0.18 dice loss 0.4\n",
            "pred -1.25 11.91 ce loss 0.5 mse loss 0.17 dice loss 0.3\n",
            "pred -1.51 11.99 ce loss 0.55 mse loss 0.18 dice loss 0.4\n",
            "pred -1.49 11.96 ce loss 0.51 mse loss 0.17 dice loss 0.29\n",
            "pred -1.26 11.72 ce loss 0.51 mse loss 0.17 dice loss 0.4\n",
            "pred -1.26 11.69 ce loss 0.5 mse loss 0.17 dice loss 0.4\n",
            "pred -1.31 11.92 ce loss 0.45 mse loss 0.15 dice loss 0.31\n",
            "pred -1.52 12.15 ce loss 0.51 mse loss 0.17 dice loss 0.4\n",
            "pred -1.44 11.94 ce loss 0.54 mse loss 0.17 dice loss 0.29\n",
            "pred -1.44 12.0 ce loss 0.52 mse loss 0.18 dice loss 0.4\n",
            "pred -1.46 12.02 ce loss 0.5 mse loss 0.16 dice loss 0.29\n",
            "pred -1.62 11.99 ce loss 0.47 mse loss 0.16 dice loss 0.29\n",
            "pred -1.44 11.98 ce loss 0.49 mse loss 0.17 dice loss 0.4\n",
            "pred -1.23 12.08 ce loss 0.49 mse loss 0.17 dice loss 0.4\n",
            "pred -1.51 12.11 ce loss 0.49 mse loss 0.16 dice loss 0.29\n",
            "pred -1.46 12.22 ce loss 0.46 mse loss 0.15 dice loss 0.3\n",
            "pred -1.46 12.2 ce loss 0.52 mse loss 0.18 dice loss 0.39\n",
            "pred -1.59 12.34 ce loss 0.55 mse loss 0.18 dice loss 0.39\n",
            "pred -1.51 12.27 ce loss 0.51 mse loss 0.17 dice loss 0.29\n",
            "pred -1.57 12.21 ce loss 0.47 mse loss 0.15 dice loss 0.29\n",
            "pred -1.48 11.76 ce loss 0.48 mse loss 0.16 dice loss 0.4\n",
            "pred -1.13 11.98 ce loss 0.48 mse loss 0.16 dice loss 0.4\n",
            "pred -1.3 12.27 ce loss 0.47 mse loss 0.16 dice loss 0.29\n",
            "pred -1.31 12.3 ce loss 0.47 mse loss 0.16 dice loss 0.29\n",
            "pred -1.82 12.41 ce loss 0.55 mse loss 0.18 dice loss 0.39\n",
            "pred -1.82 12.43 ce loss 0.53 mse loss 0.18 dice loss 0.39\n",
            "pred -1.35 12.2 ce loss 0.48 mse loss 0.16 dice loss 0.29\n",
            "pred -1.45 12.34 ce loss 0.48 mse loss 0.16 dice loss 0.4\n",
            "pred -1.57 12.16 ce loss 0.45 mse loss 0.15 dice loss 0.29\n",
            "pred -1.31 12.41 ce loss 0.45 mse loss 0.15 dice loss 0.29\n",
            "pred -1.57 12.48 ce loss 0.48 mse loss 0.16 dice loss 0.39\n",
            "pred -1.58 12.5 ce loss 0.5 mse loss 0.17 dice loss 0.39\n",
            "pred -1.49 12.42 ce loss 0.55 mse loss 0.17 dice loss 0.29\n",
            "pred -1.86 12.46 ce loss 0.51 mse loss 0.17 dice loss 0.39\n",
            "pred -1.59 12.45 ce loss 0.5 mse loss 0.16 dice loss 0.29\n",
            "pred -1.57 12.51 ce loss 0.45 mse loss 0.15 dice loss 0.29\n",
            "pred -1.62 12.57 ce loss 0.47 mse loss 0.16 dice loss 0.39\n",
            "pred -1.36 12.54 ce loss 0.43 mse loss 0.14 dice loss 0.29\n",
            "pred -1.6 12.55 ce loss 0.49 mse loss 0.16 dice loss 0.39\n",
            "pred -1.72 12.83 ce loss 0.52 mse loss 0.17 dice loss 0.39\n",
            "pred -1.52 12.55 ce loss 0.47 mse loss 0.15 dice loss 0.28\n",
            "pred -1.8 12.68 ce loss 0.52 mse loss 0.17 dice loss 0.39\n",
            "pred -1.72 12.57 ce loss 0.47 mse loss 0.15 dice loss 0.28\n",
            "pred -1.57 12.7 ce loss 0.46 mse loss 0.15 dice loss 0.28\n",
            "pred -1.84 12.93 ce loss 0.48 mse loss 0.16 dice loss 0.39\n",
            "pred -1.23 12.64 ce loss 0.43 mse loss 0.14 dice loss 0.3\n",
            "pred -1.61 12.92 ce loss 0.48 mse loss 0.16 dice loss 0.39\n",
            "pred -1.63 12.88 ce loss 0.48 mse loss 0.16 dice loss 0.39\n",
            "pred -1.33 12.76 ce loss 0.47 mse loss 0.15 dice loss 0.28\n",
            "pred -1.32 12.83 ce loss 0.47 mse loss 0.15 dice loss 0.28\n",
            "pred -2.06 12.77 ce loss 0.51 mse loss 0.17 dice loss 0.39\n",
            "pred -1.86 12.8 ce loss 0.44 mse loss 0.15 dice loss 0.28\n",
            "pred -1.85 12.6 ce loss 0.5 mse loss 0.17 dice loss 0.39\n",
            "pred -1.75 12.84 ce loss 0.43 mse loss 0.14 dice loss 0.29\n",
            "pred -1.71 12.86 ce loss 0.48 mse loss 0.16 dice loss 0.39\n",
            "pred -1.8 12.82 ce loss 0.46 mse loss 0.15 dice loss 0.28\n",
            "pred -1.87 12.97 ce loss 0.48 mse loss 0.16 dice loss 0.39\n",
            "pred -2.09 12.87 ce loss 0.44 mse loss 0.14 dice loss 0.28\n",
            "pred -1.88 12.9 ce loss 0.48 mse loss 0.16 dice loss 0.39\n",
            "pred -1.74 13.18 ce loss 0.5 mse loss 0.17 dice loss 0.39\n",
            "pred -1.78 13.0 ce loss 0.47 mse loss 0.15 dice loss 0.28\n",
            "pred -1.77 12.98 ce loss 0.44 mse loss 0.14 dice loss 0.28\n",
            "pred -1.66 13.08 ce loss 0.47 mse loss 0.16 dice loss 0.39\n",
            "pred -1.36 12.95 ce loss 0.43 mse loss 0.14 dice loss 0.29\n",
            "pred -1.68 13.16 ce loss 0.47 mse loss 0.16 dice loss 0.39\n",
            "pred -1.88 13.04 ce loss 0.43 mse loss 0.14 dice loss 0.28\n",
            "pred -1.92 12.96 ce loss 0.48 mse loss 0.16 dice loss 0.38\n",
            "pred -2.14 13.21 ce loss 0.51 mse loss 0.17 dice loss 0.38\n",
            "pred -1.73 13.11 ce loss 0.5 mse loss 0.15 dice loss 0.28\n",
            "pred -1.86 13.11 ce loss 0.47 mse loss 0.15 dice loss 0.28\n",
            "pred -1.74 12.93 ce loss 0.47 mse loss 0.16 dice loss 0.39\n",
            "pred -1.78 13.08 ce loss 0.42 mse loss 0.14 dice loss 0.3\n",
            "pred -1.92 13.17 ce loss 0.48 mse loss 0.16 dice loss 0.38\n",
            "pred -1.41 13.16 ce loss 0.45 mse loss 0.15 dice loss 0.28\n",
            "pred -2.17 13.91 ce loss 0.49 mse loss 0.16 dice loss 0.38\n",
            "pred -1.97 13.26 ce loss 0.49 mse loss 0.16 dice loss 0.38\n",
            "pred -1.61 13.31 ce loss 0.46 mse loss 0.15 dice loss 0.28\n",
            "pred -1.72 13.28 ce loss 0.45 mse loss 0.14 dice loss 0.28\n",
            "pred -1.89 13.21 ce loss 0.46 mse loss 0.15 dice loss 0.38\n",
            "pred -1.76 13.2 ce loss 0.46 mse loss 0.15 dice loss 0.39\n",
            "pred -1.45 13.17 ce loss 0.41 mse loss 0.14 dice loss 0.28\n",
            "pred -1.48 13.2 ce loss 0.43 mse loss 0.14 dice loss 0.28\n",
            "pred -1.96 13.72 ce loss 0.51 mse loss 0.17 dice loss 0.38\n",
            "pred -1.51 13.29 ce loss 0.45 mse loss 0.15 dice loss 0.28\n",
            "pred -2.2 13.48 ce loss 0.52 mse loss 0.17 dice loss 0.38\n",
            "pred -1.74 13.52 ce loss 0.48 mse loss 0.16 dice loss 0.38\n",
            "pred -1.87 13.32 ce loss 0.42 mse loss 0.14 dice loss 0.27\n",
            "pred -1.53 13.5 ce loss 0.46 mse loss 0.15 dice loss 0.38\n",
            "pred -1.98 13.42 ce loss 0.41 mse loss 0.13 dice loss 0.28\n",
            "pred -1.92 13.45 ce loss 0.42 mse loss 0.14 dice loss 0.28\n",
            "pred -1.91 13.59 ce loss 0.46 mse loss 0.15 dice loss 0.38\n",
            "pred -2.08 13.54 ce loss 0.46 mse loss 0.15 dice loss 0.38\n",
            "pred -2.42 13.48 ce loss 0.47 mse loss 0.15 dice loss 0.27\n",
            "pred -1.81 13.38 ce loss 0.44 mse loss 0.14 dice loss 0.27\n",
            "pred -2.42 14.24 ce loss 0.49 mse loss 0.16 dice loss 0.38\n",
            "pred -1.67 13.47 ce loss 0.42 mse loss 0.13 dice loss 0.27\n",
            "pred -2.05 13.9 ce loss 0.5 mse loss 0.16 dice loss 0.38\n",
            "pred -1.93 13.46 ce loss 0.41 mse loss 0.13 dice loss 0.28\n",
            "pred -2.01 13.64 ce loss 0.47 mse loss 0.15 dice loss 0.38\n",
            "pred -1.59 13.48 ce loss 0.42 mse loss 0.14 dice loss 0.27\n",
            "pred -2.29 14.23 ce loss 0.47 mse loss 0.16 dice loss 0.38\n",
            "pred -1.79 13.59 ce loss 0.45 mse loss 0.14 dice loss 0.27\n",
            "pred -2.03 13.82 ce loss 0.46 mse loss 0.15 dice loss 0.38\n",
            "pred -2.02 13.84 ce loss 0.47 mse loss 0.15 dice loss 0.38\n",
            "pred -1.84 13.67 ce loss 0.41 mse loss 0.13 dice loss 0.27\n",
            "pred -2.02 13.68 ce loss 0.4 mse loss 0.13 dice loss 0.27\n",
            "pred -1.96 14.07 ce loss 0.46 mse loss 0.15 dice loss 0.38\n",
            "pred -2.2 13.86 ce loss 0.46 mse loss 0.15 dice loss 0.38\n",
            "pred -1.79 13.63 ce loss 0.44 mse loss 0.14 dice loss 0.27\n",
            "pred -2.17 13.71 ce loss 0.42 mse loss 0.14 dice loss 0.27\n",
            "pred -2.14 14.03 ce loss 0.47 mse loss 0.15 dice loss 0.38\n",
            "pred -2.2 14.54 ce loss 0.46 mse loss 0.15 dice loss 0.38\n",
            "pred -1.72 13.73 ce loss 0.41 mse loss 0.13 dice loss 0.3\n",
            "pred -1.66 13.79 ce loss 0.41 mse loss 0.13 dice loss 0.27\n",
            "pred -2.22 14.04 ce loss 0.49 mse loss 0.16 dice loss 0.38\n",
            "pred -1.93 13.7 ce loss 0.51 mse loss 0.15 dice loss 0.27\n",
            "pred -2.27 14.69 ce loss 0.48 mse loss 0.16 dice loss 0.38\n",
            "pred -2.07 14.2 ce loss 0.46 mse loss 0.15 dice loss 0.38\n",
            "pred -1.83 13.75 ce loss 0.51 mse loss 0.16 dice loss 0.28\n",
            "pred -1.91 13.96 ce loss 0.45 mse loss 0.15 dice loss 0.39\n",
            "pred -1.84 13.83 ce loss 0.4 mse loss 0.13 dice loss 0.29\n",
            "pred -1.82 13.83 ce loss 0.39 mse loss 0.13 dice loss 0.28\n",
            "pred -2.04 14.22 ce loss 0.48 mse loss 0.16 dice loss 0.38\n",
            "pred -1.77 13.84 ce loss 0.43 mse loss 0.14 dice loss 0.27\n",
            "pred -2.73 14.39 ce loss 0.54 mse loss 0.17 dice loss 0.38\n",
            "pred -1.83 13.87 ce loss 0.44 mse loss 0.14 dice loss 0.27\n",
            "pred -2.18 14.22 ce loss 0.5 mse loss 0.16 dice loss 0.38\n",
            "pred -2.02 14.38 ce loss 0.5 mse loss 0.16 dice loss 0.38\n",
            "pred -1.64 13.87 ce loss 0.4 mse loss 0.13 dice loss 0.28\n",
            "pred -1.98 14.14 ce loss 0.45 mse loss 0.15 dice loss 0.38\n",
            "pred -1.76 13.93 ce loss 0.39 mse loss 0.13 dice loss 0.27\n",
            "pred -2.04 14.57 ce loss 0.46 mse loss 0.15 dice loss 0.38\n",
            "pred -1.71 14.16 ce loss 0.41 mse loss 0.13 dice loss 0.27\n",
            "pred -2.24 14.27 ce loss 0.48 mse loss 0.16 dice loss 0.38\n"
          ]
        },
        {
          "name": "stderr",
          "output_type": "stream",
          "text": [
            "`Trainer.fit` stopped: `max_epochs=1` reached.\n"
          ]
        },
        {
          "name": "stdout",
          "output_type": "stream",
          "text": [
            "pred -2.06 14.05 ce loss 0.45 mse loss 0.14 dice loss 0.27\n"
          ]
        }
      ],
      "source": [
        "from pytorch_lightning import Trainer\n",
        "\n",
        "trainer = Trainer(\n",
        "    default_root_dir=\"run\",\n",
        "    limit_train_batches=1.0,\n",
        "    num_sanity_val_steps=0,\n",
        "    max_epochs=1,\n",
        "    enable_checkpointing=False,\n",
        ")\n",
        "\n",
        "trainer.fit(slime, datamodule=data_module)"
      ]
    },
    {
      "cell_type": "code",
      "execution_count": 12,
      "metadata": {
        "id": "UbFajwxfrs0m"
      },
      "outputs": [
        {
          "data": {
            "text/plain": [
              "0"
            ]
          },
          "execution_count": 12,
          "metadata": {},
          "output_type": "execute_result"
        }
      ],
      "source": [
        "slime.cuda(); 0"
      ]
    },
    {
      "cell_type": "code",
      "execution_count": 13,
      "metadata": {
        "colab": {
          "base_uri": "https://localhost:8080/",
          "height": 449
        },
        "id": "YM4p6T8_x6Za",
        "outputId": "e82d4b78-5084-4055-8e37-f5bf8cefaa3d"
      },
      "outputs": [
        {
          "data": {
            "image/png": "[encoded data removed]",
            "text/plain": [
              "<Figure size 432x288 with 2 Axes>"
            ]
          },
          "metadata": {
            "needs_background": "light"
          },
          "output_type": "display_data"
        },
        {
          "data": {
            "image/png": "[encoded data removed]",
            "text/plain": [
              "<Figure size 432x288 with 2 Axes>"
            ]
          },
          "metadata": {
            "needs_background": "light"
          },
          "output_type": "display_data"
        },
        {
          "data": {
            "image/png": "[encoded data removed]",
            "text/plain": [
              "<Figure size 432x288 with 2 Axes>"
            ]
          },
          "metadata": {
            "needs_background": "light"
          },
          "output_type": "display_data"
        },
        {
          "data": {
            "image/png": "[encoded data removed]",
            "text/plain": [
              "<Figure size 432x288 with 2 Axes>"
            ]
          },
          "metadata": {
            "needs_background": "light"
          },
          "output_type": "display_data"
        }
      ],
      "source": [
        "import matplotlib.pyplot as plt\n",
        "def sigmoid(x):\n",
        "    return 1 / (1 + np.exp(-x))\n",
        "for i in range(4):\n",
        "    a = sigmoid(slime.latest_preds[-1-i].swapaxes(1,2).reshape((-1,slime.text_tokens,64,64))[0,1])\n",
        "    plt.imshow(a)\n",
        "    plt.colorbar()\n",
        "    plt.show()"
      ]
    },
    {
      "cell_type": "code",
      "execution_count": 14,
      "metadata": {},
      "outputs": [
        {
          "name": "stdout",
          "output_type": "stream",
          "text": [
            "torch.Size([64, 64, 1])\n"
          ]
        },
        {
          "data": {
            "text/plain": [
              "<matplotlib.image.AxesImage at 0x7f23105bbcd0>"
            ]
          },
          "execution_count": 14,
          "metadata": {},
          "output_type": "execute_result"
        },
        {
          "data": {
            "image/png": "[encoded data removed]",
            "text/plain": [
              "<Figure size 432x288 with 1 Axes>"
            ]
          },
          "metadata": {
            "needs_background": "light"
          },
          "output_type": "display_data"
        }
      ],
      "source": [
        "print(train_dataset[1][\"gt_masks_oh\"].shape)\n",
        "plt.imshow(train_dataset[1][\"gt_masks_oh\"])"
      ]
    },
    {
      "cell_type": "code",
      "execution_count": 15,
      "metadata": {
        "colab": {
          "base_uri": "https://localhost:8080/",
          "height": 847
        },
        "id": "HQQ3-WNo8B8s",
        "outputId": "4a50b8da-d2fe-45ee-87f1-d5ac8b715749"
      },
      "outputs": [
        {
          "data": {
            "image/png": "[encoded data removed]",
            "text/plain": [
              "<Figure size 432x288 with 1 Axes>"
            ]
          },
          "metadata": {
            "needs_background": "light"
          },
          "output_type": "display_data"
        },
        {
          "data": {
            "image/png": "[encoded data removed]",
            "text/plain": [
              "<Figure size 432x288 with 1 Axes>"
            ]
          },
          "metadata": {
            "needs_background": "light"
          },
          "output_type": "display_data"
        }
      ],
      "source": [
        "#@title Infer on test set\n",
        "out_mask = None\n",
        "loader = data_module.test_dataloader()\n",
        "out_masks=[]\n",
        "for i,batch in enumerate(loader):\n",
        "  out_mask = slime.predict_step(batch,i).cpu().numpy()\n",
        "  out_masks.append(out_mask)\n",
        "\n",
        "import matplotlib.pyplot as plt\n",
        "for out_mask in out_masks:\n",
        "  for j in range(len(out_mask)):\n",
        "    plt.imshow(out_mask[j,:,1].reshape((64,64)))\n",
        "    plt.show()"
      ]
    },
    {
      "cell_type": "code",
      "execution_count": 16,
      "metadata": {
        "id": "_SfOQS29r0q6"
      },
      "outputs": [
        {
          "name": "stdout",
          "output_type": "stream",
          "text": [
            "/bin/bash: line 0: cd: /content/slime-experiments/: No such file or directory\n"
          ]
        }
      ],
      "source": [
        "!cd /content/slime-experiments/ && git diff"
      ]
    }
  ],
  "metadata": {
    "accelerator": "GPU",
    "colab": {
      "gpuType": "T4",
      "provenance": []
    },
    "kernelspec": {
      "display_name": "Python 3",
      "name": "python3"
    },
    "language_info": {
      "codemirror_mode": {
        "name": "ipython",
        "version": 3
      },
      "file_extension": ".py",
      "mimetype": "text/x-python",
      "name": "python",
      "nbconvert_exporter": "python",
      "pygments_lexer": "ipython3",
      "version": "3.8.10"
    },
    "orig_nbformat": 4,
    "widgets": {
      "application/vnd.jupyter.widget-state+json": {
        "1d50c28ae9b645adb692128f663ee40c": {
          "model_module": "@jupyter-widgets/controls",
          "model_module_version": "1.5.0",
          "model_name": "ProgressStyleModel",
          "state": {
            "_model_module": "@jupyter-widgets/controls",
            "_model_module_version": "1.5.0",
            "_model_name": "ProgressStyleModel",
            "_view_count": null,
            "_view_module": "@jupyter-widgets/base",
            "_view_module_version": "1.2.0",
            "_view_name": "StyleView",
            "bar_color": null,
            "description_width": ""
          }
        },
        "1ef4b2520aae48b3bd830a1d3f179f89": {
          "model_module": "@jupyter-widgets/base",
          "model_module_version": "1.2.0",
          "model_name": "LayoutModel",
          "state": {
            "_model_module": "@jupyter-widgets/base",
            "_model_module_version": "1.2.0",
            "_model_name": "LayoutModel",
            "_view_count": null,
            "_view_module": "@jupyter-widgets/base",
            "_view_module_version": "1.2.0",
            "_view_name": "LayoutView",
            "align_content": null,
            "align_items": null,
            "align_self": null,
            "border": null,
            "bottom": null,
            "display": null,
            "flex": "2",
            "flex_flow": null,
            "grid_area": null,
            "grid_auto_columns": null,
            "grid_auto_flow": null,
            "grid_auto_rows": null,
            "grid_column": null,
            "grid_gap": null,
            "grid_row": null,
            "grid_template_areas": null,
            "grid_template_columns": null,
            "grid_template_rows": null,
            "height": null,
            "justify_content": null,
            "justify_items": null,
            "left": null,
            "margin": null,
            "max_height": null,
            "max_width": null,
            "min_height": null,
            "min_width": null,
            "object_fit": null,
            "object_position": null,
            "order": null,
            "overflow": null,
            "overflow_x": null,
            "overflow_y": null,
            "padding": null,
            "right": null,
            "top": null,
            "visibility": null,
            "width": null
          }
        },
        "2fe6200bf7064a189e3790f7797c7fbb": {
          "model_module": "@jupyter-widgets/controls",
          "model_module_version": "1.5.0",
          "model_name": "HBoxModel",
          "state": {
            "_dom_classes": [],
            "_model_module": "@jupyter-widgets/controls",
            "_model_module_version": "1.5.0",
            "_model_name": "HBoxModel",
            "_view_count": null,
            "_view_module": "@jupyter-widgets/controls",
            "_view_module_version": "1.5.0",
            "_view_name": "HBoxView",
            "box_style": "",
            "children": [
              "IPY_MODEL_d539050cc54f45c288d912144d081d76",
              "IPY_MODEL_5e4c349b29f14b2d85c5e16e78d352ea",
              "IPY_MODEL_817355e86f614485977a900b659a2fed"
            ],
            "layout": "IPY_MODEL_dc36d39ee4294f8abcc589a88ebc4ceb"
          }
        },
        "39dea76fbc3545658df84b33787383ba": {
          "model_module": "@jupyter-widgets/controls",
          "model_module_version": "1.5.0",
          "model_name": "DescriptionStyleModel",
          "state": {
            "_model_module": "@jupyter-widgets/controls",
            "_model_module_version": "1.5.0",
            "_model_name": "DescriptionStyleModel",
            "_view_count": null,
            "_view_module": "@jupyter-widgets/base",
            "_view_module_version": "1.2.0",
            "_view_name": "StyleView",
            "description_width": ""
          }
        },
        "5e4c349b29f14b2d85c5e16e78d352ea": {
          "model_module": "@jupyter-widgets/controls",
          "model_module_version": "1.5.0",
          "model_name": "FloatProgressModel",
          "state": {
            "_dom_classes": [],
            "_model_module": "@jupyter-widgets/controls",
            "_model_module_version": "1.5.0",
            "_model_name": "FloatProgressModel",
            "_view_count": null,
            "_view_module": "@jupyter-widgets/controls",
            "_view_module_version": "1.5.0",
            "_view_name": "ProgressView",
            "bar_style": "success",
            "description": "",
            "description_tooltip": null,
            "layout": "IPY_MODEL_1ef4b2520aae48b3bd830a1d3f179f89",
            "max": 1,
            "min": 0,
            "orientation": "horizontal",
            "style": "IPY_MODEL_1d50c28ae9b645adb692128f663ee40c",
            "value": 0
          }
        },
        "6607f73936b44302a81d3f3d3ba28310": {
          "model_module": "@jupyter-widgets/base",
          "model_module_version": "1.2.0",
          "model_name": "LayoutModel",
          "state": {
            "_model_module": "@jupyter-widgets/base",
            "_model_module_version": "1.2.0",
            "_model_name": "LayoutModel",
            "_view_count": null,
            "_view_module": "@jupyter-widgets/base",
            "_view_module_version": "1.2.0",
            "_view_name": "LayoutView",
            "align_content": null,
            "align_items": null,
            "align_self": null,
            "border": null,
            "bottom": null,
            "display": null,
            "flex": null,
            "flex_flow": null,
            "grid_area": null,
            "grid_auto_columns": null,
            "grid_auto_flow": null,
            "grid_auto_rows": null,
            "grid_column": null,
            "grid_gap": null,
            "grid_row": null,
            "grid_template_areas": null,
            "grid_template_columns": null,
            "grid_template_rows": null,
            "height": null,
            "justify_content": null,
            "justify_items": null,
            "left": null,
            "margin": null,
            "max_height": null,
            "max_width": null,
            "min_height": null,
            "min_width": null,
            "object_fit": null,
            "object_position": null,
            "order": null,
            "overflow": null,
            "overflow_x": null,
            "overflow_y": null,
            "padding": null,
            "right": null,
            "top": null,
            "visibility": null,
            "width": null
          }
        },
        "817355e86f614485977a900b659a2fed": {
          "model_module": "@jupyter-widgets/controls",
          "model_module_version": "1.5.0",
          "model_name": "HTMLModel",
          "state": {
            "_dom_classes": [],
            "_model_module": "@jupyter-widgets/controls",
            "_model_module_version": "1.5.0",
            "_model_name": "HTMLModel",
            "_view_count": null,
            "_view_module": "@jupyter-widgets/controls",
            "_view_module_version": "1.5.0",
            "_view_name": "HTMLView",
            "description": "",
            "description_tooltip": null,
            "layout": "IPY_MODEL_c905811dc695483293ba977f973fef8c",
            "placeholder": "​",
            "style": "IPY_MODEL_b28003169cce426a875cb82e42cd3c90",
            "value": " 0/? [00:00&lt;?, ?it/s, v_num=4]"
          }
        },
        "b28003169cce426a875cb82e42cd3c90": {
          "model_module": "@jupyter-widgets/controls",
          "model_module_version": "1.5.0",
          "model_name": "DescriptionStyleModel",
          "state": {
            "_model_module": "@jupyter-widgets/controls",
            "_model_module_version": "1.5.0",
            "_model_name": "DescriptionStyleModel",
            "_view_count": null,
            "_view_module": "@jupyter-widgets/base",
            "_view_module_version": "1.2.0",
            "_view_name": "StyleView",
            "description_width": ""
          }
        },
        "c905811dc695483293ba977f973fef8c": {
          "model_module": "@jupyter-widgets/base",
          "model_module_version": "1.2.0",
          "model_name": "LayoutModel",
          "state": {
            "_model_module": "@jupyter-widgets/base",
            "_model_module_version": "1.2.0",
            "_model_name": "LayoutModel",
            "_view_count": null,
            "_view_module": "@jupyter-widgets/base",
            "_view_module_version": "1.2.0",
            "_view_name": "LayoutView",
            "align_content": null,
            "align_items": null,
            "align_self": null,
            "border": null,
            "bottom": null,
            "display": null,
            "flex": null,
            "flex_flow": null,
            "grid_area": null,
            "grid_auto_columns": null,
            "grid_auto_flow": null,
            "grid_auto_rows": null,
            "grid_column": null,
            "grid_gap": null,
            "grid_row": null,
            "grid_template_areas": null,
            "grid_template_columns": null,
            "grid_template_rows": null,
            "height": null,
            "justify_content": null,
            "justify_items": null,
            "left": null,
            "margin": null,
            "max_height": null,
            "max_width": null,
            "min_height": null,
            "min_width": null,
            "object_fit": null,
            "object_position": null,
            "order": null,
            "overflow": null,
            "overflow_x": null,
            "overflow_y": null,
            "padding": null,
            "right": null,
            "top": null,
            "visibility": null,
            "width": null
          }
        },
        "d539050cc54f45c288d912144d081d76": {
          "model_module": "@jupyter-widgets/controls",
          "model_module_version": "1.5.0",
          "model_name": "HTMLModel",
          "state": {
            "_dom_classes": [],
            "_model_module": "@jupyter-widgets/controls",
            "_model_module_version": "1.5.0",
            "_model_name": "HTMLModel",
            "_view_count": null,
            "_view_module": "@jupyter-widgets/controls",
            "_view_module_version": "1.5.0",
            "_view_name": "HTMLView",
            "description": "",
            "description_tooltip": null,
            "layout": "IPY_MODEL_6607f73936b44302a81d3f3d3ba28310",
            "placeholder": "​",
            "style": "IPY_MODEL_39dea76fbc3545658df84b33787383ba",
            "value": "Epoch 499: "
          }
        },
        "dc36d39ee4294f8abcc589a88ebc4ceb": {
          "model_module": "@jupyter-widgets/base",
          "model_module_version": "1.2.0",
          "model_name": "LayoutModel",
          "state": {
            "_model_module": "@jupyter-widgets/base",
            "_model_module_version": "1.2.0",
            "_model_name": "LayoutModel",
            "_view_count": null,
            "_view_module": "@jupyter-widgets/base",
            "_view_module_version": "1.2.0",
            "_view_name": "LayoutView",
            "align_content": null,
            "align_items": null,
            "align_self": null,
            "border": null,
            "bottom": null,
            "display": "inline-flex",
            "flex": null,
            "flex_flow": "row wrap",
            "grid_area": null,
            "grid_auto_columns": null,
            "grid_auto_flow": null,
            "grid_auto_rows": null,
            "grid_column": null,
            "grid_gap": null,
            "grid_row": null,
            "grid_template_areas": null,
            "grid_template_columns": null,
            "grid_template_rows": null,
            "height": null,
            "justify_content": null,
            "justify_items": null,
            "left": null,
            "margin": null,
            "max_height": null,
            "max_width": null,
            "min_height": null,
            "min_width": null,
            "object_fit": null,
            "object_position": null,
            "order": null,
            "overflow": null,
            "overflow_x": null,
            "overflow_y": null,
            "padding": null,
            "right": null,
            "top": null,
            "visibility": null,
            "width": "100%"
          }
        }
      }
    }
  },
  "nbformat": 4,
  "nbformat_minor": 0
}
