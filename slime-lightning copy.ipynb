{
  "cells": [
    {
      "cell_type": "code",
      "execution_count": 1,
      "metadata": {
        "id": "HiGHZ1qiq_9q"
      },
      "outputs": [],
      "source": [
        "%load_ext autoreload\n",
        "%autoreload 2"
      ]
    },
    {
      "cell_type": "code",
      "execution_count": 2,
      "metadata": {
        "id": "OIu3N4tGnEgv"
      },
      "outputs": [],
      "source": [
        "should_skip = True"
      ]
    },
    {
      "cell_type": "code",
      "execution_count": 3,
      "metadata": {
        "cellView": "form",
        "id": "n0vWJ_IynEgv"
      },
      "outputs": [],
      "source": [
        "#@title Install libraries\n",
        "if not should_skip:\n",
        "  !pip install -U -qq git+https://github.com/huggingface/diffusers.git\n",
        "  !pip install -qq accelerate transformers ftfy\n",
        "  !pip install -q gpustat gdown\n",
        "  !pip install -q pytorch_lightning"
      ]
    },
    {
      "cell_type": "code",
      "execution_count": 4,
      "metadata": {
        "cellView": "form",
        "id": "vey7mPaRnEgw"
      },
      "outputs": [],
      "source": [
        "#@title Import required libraries\n",
        "import argparse\n",
        "import itertools\n",
        "import math\n",
        "import os\n",
        "import random\n",
        "\n",
        "import numpy as np\n",
        "import torch\n",
        "import torch.nn.functional as F\n",
        "import torchvision.transforms.functional as TVF\n",
        "import torch.utils.checkpoint\n",
        "from torch.utils.data import Dataset\n",
        "\n",
        "import PIL\n",
        "from accelerate import Accelerator\n",
        "from accelerate.logging import get_logger\n",
        "from accelerate.utils import set_seed\n",
        "import sys\n",
        "\n",
        "# https://github.com/huggingface/diffusers/blob/main/src/diffusers/models/unet_2d_condition.py#L175-L182\n",
        "from diffusers import AutoencoderKL, DDPMScheduler, PNDMScheduler, StableDiffusionPipeline, UNet2DConditionModel\n",
        "from diffusers.optimization import get_scheduler\n",
        "from diffusers.pipelines.stable_diffusion import StableDiffusionSafetyChecker\n",
        "from PIL import Image\n",
        "from torchvision import transforms\n",
        "from tqdm.auto import tqdm\n",
        "from transformers import CLIPFeatureExtractor, CLIPTextModel, CLIPTokenizer\n",
        "\n",
        "def image_grid(imgs, rows, cols):\n",
        "    assert len(imgs) == rows*cols\n",
        "\n",
        "    w, h = imgs[0].size\n",
        "    grid = Image.new('RGB', size=(cols*w, rows*h))\n",
        "    grid_w, grid_h = grid.size\n",
        "\n",
        "    for i, img in enumerate(imgs):\n",
        "        grid.paste(img, box=(i%cols*w, i//cols*h))\n",
        "    return grid"
      ]
    },
    {
      "cell_type": "code",
      "execution_count": 5,
      "metadata": {
        "cellView": "form",
        "colab": {
          "base_uri": "https://localhost:8080/"
        },
        "id": "TlbAj5_onEgw",
        "outputId": "5d7b3d8b-0f86-456b-e4fa-b1ab2ca50426"
      },
      "outputs": [],
      "source": [
        "if not should_skip:\n",
        "    #@markdown Add here the URLs to the images of the concept you are adding. 3-5 should be fine\n",
        "    train_urls = [\n",
        "        \"https://huggingface.co/datasets/valhalla/images/resolve/main/2.jpeg\",\n",
        "        \"https://huggingface.co/datasets/valhalla/images/resolve/main/3.jpeg\",\n",
        "    ]\n",
        "    test_urls = [\n",
        "        \"https://huggingface.co/datasets/valhalla/images/resolve/main/5.jpeg\",\n",
        "        \"https://huggingface.co/datasets/valhalla/images/resolve/main/6.jpeg\",\n",
        "        ## You can add additional images here\n",
        "    ]\n",
        "#@title Download\n",
        "import requests\n",
        "import glob\n",
        "from io import BytesIO\n",
        "\n",
        "def download_image(url):\n",
        "  try:\n",
        "    response = requests.get(url)\n",
        "  except:\n",
        "    return None\n",
        "  return Image.open(BytesIO(response.content)).convert(\"RGB\")\n",
        "\n",
        "if not should_skip:\n",
        "    for save_path,urls in [(\"./my_concept\",train_urls),(\"./my_concept_test\",test_urls)]:\n",
        "      images = list(filter(None,[download_image(url) for url in urls]))\n",
        "      if not os.path.exists(save_path):\n",
        "        os.mkdir(save_path)\n",
        "      [image.save(f\"{save_path}/{i}.jpeg\") for i, image in enumerate(images)]\n",
        "\n",
        "\n",
        "if not should_skip:\n",
        "    !gdown --id 1I8RMKQhPXntlRKorVNZ6yyNpfaOp8wNv\n",
        "    mask_path=\"./my_concept_gt\"\n",
        "    !mkdir $mask_path/\n",
        "\n",
        "    with open(\"my_concept_gt.zip\",\"r\") as f:\n",
        "        pass\n",
        "    !unzip -o my_concept_gt.zip"
      ]
    },
    {
      "cell_type": "code",
      "execution_count": 6,
      "metadata": {
        "colab": {
          "base_uri": "https://localhost:8080/"
        },
        "id": "zobTtmaarUxr",
        "outputId": "88ef2419-e38b-460b-f2f8-f6d618d85302"
      },
      "outputs": [],
      "source": [
        "# %cd /content/\n",
        "# sys.path.append(\"/content/slime-experiments/\")"
      ]
    },
    {
      "cell_type": "code",
      "execution_count": 7,
      "metadata": {
        "colab": {
          "base_uri": "https://localhost:8080/"
        },
        "id": "S7EY-HMInhWK",
        "outputId": "bbdf3606-38af-403b-93e2-3e9f5a10ddcf"
      },
      "outputs": [],
      "source": [
        "# !rm -rf slime-experiments/\n",
        "# !git clone https://github.com/andrew-healey/slime-experiments\n",
        "# !cd slime-experiments && git rev-parse --short HEAD"
      ]
    },
    {
      "cell_type": "code",
      "execution_count": 8,
      "metadata": {
        "id": "18OU0iWXnEgw"
      },
      "outputs": [],
      "source": [
        "from slime.slime import SLiME\n",
        "from slime.data.single_class import BinarySegmentationDataset,SegmentationDataModule"
      ]
    },
    {
      "cell_type": "code",
      "execution_count": 9,
      "metadata": {
        "id": "gjK_JKcsnEgw"
      },
      "outputs": [],
      "source": [
        "train_dataset = BinarySegmentationDataset(\n",
        "    data_root=\"my_concept\",\n",
        "    mask_root=\"my_concept_gt\",\n",
        ")\n",
        "test_dataset = BinarySegmentationDataset(\n",
        "    data_root=\"my_concept_test\",\n",
        "    mask_root=None\n",
        ")\n",
        "\n",
        "data_module = SegmentationDataModule(\n",
        "    train_dataset,\n",
        "    test_dataset,\n",
        "    iters_per_epoch=500,\n",
        "    batch_size=1,\n",
        ")"
      ]
    },
    {
      "cell_type": "code",
      "execution_count": 10,
      "metadata": {
        "colab": {
          "base_uri": "https://localhost:8080/"
        },
        "id": "5xVozx20nEgw",
        "outputId": "109d1ce9-2c7f-4348-92d7-288ae1714707"
      },
      "outputs": [
        {
          "name": "stderr",
          "output_type": "stream",
          "text": [
            "/usr/local/lib/python3.8/dist-packages/diffusers/configuration_utils.py:239: FutureWarning: It is deprecated to pass a pretrained model name or path to `from_config`.If you were trying to load a scheduler, please use <class 'diffusers.schedulers.scheduling_ddpm.DDPMScheduler'>.from_pretrained(...) instead. Otherwise, please make sure to pass a configuration dictionary instead. This functionality will be removed in v1.0.0.\n",
            "  deprecate(\"config-passed-as-path\", \"1.0.0\", deprecation_message, standard_warn=False)\n"
          ]
        }
      ],
      "source": [
        "slime = SLiME(\n",
        "    use_self_attn=False,\n",
        "    alpha=1.0,\n",
        "    gamma=1.0,\n",
        "    lr=0.1,\n",
        "    multiplier_lr=0.1,\n",
        "    cross_attn_nums=[8]\n",
        ").cuda()"
      ]
    },
    {
      "cell_type": "code",
      "execution_count": 11,
      "metadata": {
        "colab": {
          "base_uri": "https://localhost:8080/",
          "height": 414,
          "referenced_widgets": [
            "2fe6200bf7064a189e3790f7797c7fbb",
            "d539050cc54f45c288d912144d081d76",
            "5e4c349b29f14b2d85c5e16e78d352ea",
            "817355e86f614485977a900b659a2fed",
            "dc36d39ee4294f8abcc589a88ebc4ceb",
            "6607f73936b44302a81d3f3d3ba28310",
            "39dea76fbc3545658df84b33787383ba",
            "1ef4b2520aae48b3bd830a1d3f179f89",
            "1d50c28ae9b645adb692128f663ee40c",
            "c905811dc695483293ba977f973fef8c",
            "b28003169cce426a875cb82e42cd3c90"
          ]
        },
        "id": "dKcY9CXqnEgw",
        "outputId": "3be2171b-d52d-4163-d7b2-28fd5d29886e"
      },
      "outputs": [
        {
          "name": "stderr",
          "output_type": "stream",
          "text": [
            "GPU available: True (cuda), used: True\n",
            "TPU available: False, using: 0 TPU cores\n",
            "IPU available: False, using: 0 IPUs\n",
            "HPU available: False, using: 0 HPUs\n",
            "`Trainer(limit_train_batches=1.0)` was configured so 100% of the batches per epoch will be used..\n",
            "You are using a CUDA device ('NVIDIA GeForce RTX 3060') that has Tensor Cores. To properly utilize them, you should set `torch.set_float32_matmul_precision('medium' | 'high')` which will trade-off precision for performance. For more details, read https://pytorch.org/docs/stable/generated/torch.set_float32_matmul_precision.html#torch.set_float32_matmul_precision\n",
            "LOCAL_RANK: 0 - CUDA_VISIBLE_DEVICES: [0]\n",
            "\n",
            "  | Name                   | Type            | Params\n",
            "-----------------------------------------------------------\n",
            "0 | sd                     | StableDiffusion | 900 M \n",
            "1 | cross_layer_multiplier | Multiplier      | 32    \n",
            "2 | self_layer_multiplier  | Multiplier      | 32    \n",
            "3 | cross_map_multiplier   | Multiplier      | 4     \n",
            "4 | pred_map_multiplier    | Multiplier      | 4     \n",
            "5 | cross_norm             | BatchNorm2d     | 2     \n",
            "6 | cross_map_norm         | BatchNorm2d     | 4     \n",
            "  | other params           | n/a             | 2.0 K \n",
            "-----------------------------------------------------------\n",
            "2.1 K     Trainable params\n",
            "900 M     Non-trainable params\n",
            "900 M     Total params\n",
            "3,600.306 Total estimated model params size (MB)\n"
          ]
        },
        {
          "data": {
            "application/vnd.jupyter.widget-view+json": {
              "model_id": "7c9397d4c57b41e982fac0ecda2c8d36",
              "version_major": 2,
              "version_minor": 0
            },
            "text/plain": [
              "Training: |          | 0/? [00:00<?, ?it/s]"
            ]
          },
          "metadata": {},
          "output_type": "display_data"
        },
        {
          "name": "stdout",
          "output_type": "stream",
          "text": [
            "pred -3.13 3.15 ce loss 0.81 mse loss 0.29 dice loss 0.65\n",
            "pred -1.44 3.01 ce loss 0.54 mse loss 0.18 dice loss 0.46\n",
            "pred -1.41 2.29 ce loss 0.5 mse loss 0.16 dice loss 0.5\n",
            "pred -1.52 3.09 ce loss 0.52 mse loss 0.17 dice loss 0.46\n",
            "pred -1.65 2.53 ce loss 0.47 mse loss 0.15 dice loss 0.49\n",
            "pred -1.65 3.24 ce loss 0.5 mse loss 0.16 dice loss 0.45\n",
            "pred -1.74 3.61 ce loss 0.5 mse loss 0.16 dice loss 0.45\n",
            "pred -2.04 3.07 ce loss 0.43 mse loss 0.13 dice loss 0.47\n",
            "pred -2.05 3.23 ce loss 0.42 mse loss 0.13 dice loss 0.46\n",
            "pred -2.14 4.13 ce loss 0.48 mse loss 0.15 dice loss 0.42\n",
            "pred -2.22 4.63 ce loss 0.49 mse loss 0.16 dice loss 0.42\n",
            "pred -2.62 3.53 ce loss 0.41 mse loss 0.12 dice loss 0.43\n",
            "pred -2.47 4.98 ce loss 0.47 mse loss 0.15 dice loss 0.41\n",
            "pred -2.89 4.32 ce loss 0.4 mse loss 0.12 dice loss 0.42\n",
            "pred -2.92 4.0 ce loss 0.4 mse loss 0.12 dice loss 0.41\n",
            "pred -2.63 5.09 ce loss 0.47 mse loss 0.15 dice loss 0.38\n",
            "pred -3.04 4.52 ce loss 0.39 mse loss 0.12 dice loss 0.39\n",
            "pred -2.82 5.41 ce loss 0.46 mse loss 0.15 dice loss 0.37\n",
            "pred -2.92 5.89 ce loss 0.47 mse loss 0.15 dice loss 0.37\n",
            "pred -3.33 4.39 ce loss 0.38 mse loss 0.12 dice loss 0.37\n",
            "pred -3.39 4.71 ce loss 0.39 mse loss 0.12 dice loss 0.36\n",
            "pred -3.03 6.03 ce loss 0.46 mse loss 0.14 dice loss 0.35\n",
            "pred -3.71 5.19 ce loss 0.39 mse loss 0.12 dice loss 0.36\n",
            "pred -3.35 6.58 ce loss 0.46 mse loss 0.14 dice loss 0.35\n",
            "pred -3.22 6.29 ce loss 0.45 mse loss 0.14 dice loss 0.34\n",
            "pred -4.07 5.18 ce loss 0.38 mse loss 0.12 dice loss 0.35\n",
            "pred -4.12 5.29 ce loss 0.38 mse loss 0.12 dice loss 0.35\n",
            "pred -3.46 6.67 ce loss 0.42 mse loss 0.13 dice loss 0.32\n",
            "pred -4.19 4.94 ce loss 0.39 mse loss 0.12 dice loss 0.35\n",
            "pred -3.65 6.35 ce loss 0.4 mse loss 0.13 dice loss 0.3\n",
            "pred -3.86 6.55 ce loss 0.4 mse loss 0.13 dice loss 0.31\n",
            "pred -4.39 6.06 ce loss 0.37 mse loss 0.12 dice loss 0.34\n",
            "pred -4.06 6.7 ce loss 0.39 mse loss 0.12 dice loss 0.3\n",
            "pred -4.75 6.56 ce loss 0.35 mse loss 0.11 dice loss 0.33\n",
            "pred -4.44 6.19 ce loss 0.34 mse loss 0.11 dice loss 0.32\n",
            "pred -4.08 6.34 ce loss 0.37 mse loss 0.11 dice loss 0.29\n",
            "pred -5.01 6.84 ce loss 0.35 mse loss 0.11 dice loss 0.33\n",
            "pred -4.15 6.49 ce loss 0.35 mse loss 0.11 dice loss 0.28\n",
            "pred -4.37 6.62 ce loss 0.35 mse loss 0.11 dice loss 0.28\n",
            "pred -5.11 6.63 ce loss 0.31 mse loss 0.1 dice loss 0.31\n",
            "pred -4.64 6.98 ce loss 0.33 mse loss 0.1 dice loss 0.27\n",
            "pred -5.14 6.36 ce loss 0.3 mse loss 0.09 dice loss 0.3\n",
            "pred -4.7 7.58 ce loss 0.32 mse loss 0.1 dice loss 0.26\n",
            "pred -5.29 7.71 ce loss 0.28 mse loss 0.08 dice loss 0.29\n",
            "pred -5.47 7.44 ce loss 0.28 mse loss 0.08 dice loss 0.28\n",
            "pred -4.99 7.33 ce loss 0.33 mse loss 0.1 dice loss 0.25\n",
            "pred -5.31 8.15 ce loss 0.26 mse loss 0.08 dice loss 0.28\n",
            "pred -5.02 8.02 ce loss 0.31 mse loss 0.1 dice loss 0.25\n",
            "pred -5.12 8.2 ce loss 0.32 mse loss 0.1 dice loss 0.25\n",
            "pred -5.52 7.97 ce loss 0.25 mse loss 0.08 dice loss 0.26\n",
            "pred -5.3 8.58 ce loss 0.29 mse loss 0.09 dice loss 0.23\n",
            "pred -5.43 9.11 ce loss 0.23 mse loss 0.07 dice loss 0.25\n",
            "pred -5.31 7.37 ce loss 0.28 mse loss 0.09 dice loss 0.23\n",
            "pred -5.56 7.88 ce loss 0.23 mse loss 0.07 dice loss 0.25\n",
            "pred -5.52 9.55 ce loss 0.23 mse loss 0.07 dice loss 0.25\n",
            "pred -5.73 9.21 ce loss 0.28 mse loss 0.09 dice loss 0.22\n",
            "pred -5.92 8.15 ce loss 0.21 mse loss 0.06 dice loss 0.23\n",
            "pred -5.84 9.35 ce loss 0.26 mse loss 0.08 dice loss 0.21\n",
            "pred -6.01 7.63 ce loss 0.27 mse loss 0.08 dice loss 0.21\n",
            "pred -5.9 8.99 ce loss 0.2 mse loss 0.06 dice loss 0.22\n",
            "pred -6.02 9.13 ce loss 0.2 mse loss 0.06 dice loss 0.22\n",
            "pred -6.66 7.99 ce loss 0.27 mse loss 0.09 dice loss 0.21\n",
            "pred -6.09 10.92 ce loss 0.19 mse loss 0.06 dice loss 0.22\n",
            "pred -7.02 7.74 ce loss 0.26 mse loss 0.08 dice loss 0.21\n",
            "pred -6.78 7.47 ce loss 0.26 mse loss 0.08 dice loss 0.2\n",
            "pred -6.37 9.56 ce loss 0.18 mse loss 0.05 dice loss 0.2\n",
            "pred -6.67 8.01 ce loss 0.25 mse loss 0.08 dice loss 0.2\n",
            "pred -6.32 9.12 ce loss 0.17 mse loss 0.05 dice loss 0.19\n",
            "pred -6.03 9.93 ce loss 0.16 mse loss 0.05 dice loss 0.18\n",
            "pred -6.42 8.39 ce loss 0.25 mse loss 0.08 dice loss 0.2\n",
            "pred -7.44 8.64 ce loss 0.25 mse loss 0.08 dice loss 0.2\n",
            "pred -6.25 9.68 ce loss 0.17 mse loss 0.05 dice loss 0.19\n",
            "pred -7.52 8.15 ce loss 0.24 mse loss 0.08 dice loss 0.19\n",
            "pred -6.57 9.49 ce loss 0.15 mse loss 0.04 dice loss 0.17\n",
            "pred -7.37 8.98 ce loss 0.22 mse loss 0.07 dice loss 0.18\n",
            "pred -6.66 11.16 ce loss 0.15 mse loss 0.04 dice loss 0.17\n",
            "pred -6.53 9.86 ce loss 0.15 mse loss 0.04 dice loss 0.17\n",
            "pred -8.35 8.73 ce loss 0.22 mse loss 0.07 dice loss 0.17\n",
            "pred -8.16 9.07 ce loss 0.21 mse loss 0.07 dice loss 0.17\n",
            "pred -6.74 12.53 ce loss 0.14 mse loss 0.04 dice loss 0.17\n",
            "pred -6.81 11.67 ce loss 0.14 mse loss 0.04 dice loss 0.17\n",
            "pred -7.57 9.93 ce loss 0.22 mse loss 0.07 dice loss 0.17\n",
            "pred -7.2 11.4 ce loss 0.13 mse loss 0.03 dice loss 0.15\n",
            "pred -7.89 9.91 ce loss 0.18 mse loss 0.06 dice loss 0.15\n",
            "pred -8.54 8.87 ce loss 0.19 mse loss 0.06 dice loss 0.16\n",
            "pred -7.27 12.68 ce loss 0.12 mse loss 0.03 dice loss 0.15\n",
            "pred -8.81 8.71 ce loss 0.2 mse loss 0.06 dice loss 0.16\n",
            "pred -7.13 12.84 ce loss 0.13 mse loss 0.03 dice loss 0.15\n",
            "pred -7.53 11.92 ce loss 0.12 mse loss 0.03 dice loss 0.14\n",
            "pred -8.8 10.54 ce loss 0.16 mse loss 0.05 dice loss 0.14\n",
            "pred -8.85 10.8 ce loss 0.17 mse loss 0.05 dice loss 0.14\n",
            "pred -7.78 11.17 ce loss 0.12 mse loss 0.03 dice loss 0.13\n",
            "pred -8.67 9.6 ce loss 0.15 mse loss 0.04 dice loss 0.13\n",
            "pred -7.99 12.07 ce loss 0.11 mse loss 0.03 dice loss 0.13\n",
            "pred -7.93 12.05 ce loss 0.11 mse loss 0.03 dice loss 0.13\n",
            "pred -8.93 10.51 ce loss 0.17 mse loss 0.05 dice loss 0.13\n",
            "pred -8.54 14.34 ce loss 0.11 mse loss 0.03 dice loss 0.13\n",
            "pred -8.85 11.93 ce loss 0.19 mse loss 0.06 dice loss 0.15\n",
            "pred -7.86 14.8 ce loss 0.11 mse loss 0.03 dice loss 0.13\n",
            "pred -8.99 9.52 ce loss 0.15 mse loss 0.05 dice loss 0.13\n",
            "pred -9.66 10.07 ce loss 0.15 mse loss 0.05 dice loss 0.12\n",
            "pred -8.87 13.24 ce loss 0.1 mse loss 0.03 dice loss 0.11\n",
            "pred -9.89 9.81 ce loss 0.15 mse loss 0.04 dice loss 0.11\n",
            "pred -9.5 13.79 ce loss 0.11 mse loss 0.03 dice loss 0.13\n",
            "pred -9.24 13.38 ce loss 0.1 mse loss 0.03 dice loss 0.12\n",
            "pred -9.87 9.73 ce loss 0.14 mse loss 0.04 dice loss 0.12\n",
            "pred -9.45 14.4 ce loss 0.09 mse loss 0.03 dice loss 0.11\n",
            "pred -10.3 9.85 ce loss 0.14 mse loss 0.04 dice loss 0.12\n",
            "pred -10.4 9.7 ce loss 0.15 mse loss 0.05 dice loss 0.12\n",
            "pred -9.41 14.09 ce loss 0.11 mse loss 0.03 dice loss 0.12\n",
            "pred -10.02 9.88 ce loss 0.13 mse loss 0.04 dice loss 0.11\n",
            "pred -9.55 15.46 ce loss 0.11 mse loss 0.03 dice loss 0.13\n",
            "pred -9.74 14.51 ce loss 0.09 mse loss 0.03 dice loss 0.11\n",
            "pred -9.93 11.29 ce loss 0.15 mse loss 0.05 dice loss 0.12\n",
            "pred -11.28 10.56 ce loss 0.14 mse loss 0.04 dice loss 0.11\n",
            "pred -10.0 14.29 ce loss 0.13 mse loss 0.04 dice loss 0.13\n",
            "pred -9.67 13.29 ce loss 0.12 mse loss 0.04 dice loss 0.13\n",
            "pred -10.26 11.96 ce loss 0.12 mse loss 0.03 dice loss 0.1\n",
            "pred -9.93 11.95 ce loss 0.13 mse loss 0.04 dice loss 0.11\n",
            "pred -9.42 11.95 ce loss 0.14 mse loss 0.04 dice loss 0.14\n",
            "pred -9.46 12.8 ce loss 0.13 mse loss 0.04 dice loss 0.14\n",
            "pred -10.13 9.78 ce loss 0.14 mse loss 0.04 dice loss 0.12\n",
            "pred -9.82 14.51 ce loss 0.1 mse loss 0.03 dice loss 0.12\n",
            "pred -10.39 9.93 ce loss 0.13 mse loss 0.04 dice loss 0.1\n",
            "pred -11.45 9.25 ce loss 0.13 mse loss 0.04 dice loss 0.1\n",
            "pred -9.5 14.56 ce loss 0.09 mse loss 0.03 dice loss 0.1\n",
            "pred -9.82 15.17 ce loss 0.1 mse loss 0.03 dice loss 0.1\n",
            "pred -10.44 10.8 ce loss 0.14 mse loss 0.04 dice loss 0.11\n",
            "pred -10.06 15.32 ce loss 0.09 mse loss 0.03 dice loss 0.1\n",
            "pred -11.23 10.98 ce loss 0.12 mse loss 0.04 dice loss 0.09\n",
            "pred -10.51 11.16 ce loss 0.1 mse loss 0.03 dice loss 0.09\n",
            "pred -9.94 14.78 ce loss 0.09 mse loss 0.02 dice loss 0.1\n",
            "pred -10.51 15.29 ce loss 0.09 mse loss 0.03 dice loss 0.1\n",
            "pred -10.74 11.02 ce loss 0.16 mse loss 0.05 dice loss 0.12\n",
            "pred -10.28 14.84 ce loss 0.08 mse loss 0.02 dice loss 0.09\n",
            "pred -12.01 9.99 ce loss 0.11 mse loss 0.03 dice loss 0.09\n",
            "pred -10.68 10.37 ce loss 0.09 mse loss 0.03 dice loss 0.09\n",
            "pred -10.83 15.04 ce loss 0.09 mse loss 0.02 dice loss 0.1\n",
            "pred -11.42 11.48 ce loss 0.13 mse loss 0.04 dice loss 0.1\n",
            "pred -11.32 14.56 ce loss 0.08 mse loss 0.02 dice loss 0.09\n",
            "pred -10.07 14.57 ce loss 0.08 mse loss 0.02 dice loss 0.1\n",
            "pred -10.88 13.43 ce loss 0.13 mse loss 0.04 dice loss 0.11\n",
            "pred -12.18 12.13 ce loss 0.13 mse loss 0.04 dice loss 0.1\n",
            "pred -10.94 15.51 ce loss 0.08 mse loss 0.02 dice loss 0.09\n",
            "pred -11.43 11.7 ce loss 0.1 mse loss 0.03 dice loss 0.09\n",
            "pred -11.59 15.99 ce loss 0.08 mse loss 0.02 dice loss 0.09\n",
            "pred -11.71 10.73 ce loss 0.12 mse loss 0.04 dice loss 0.09\n",
            "pred -11.47 16.61 ce loss 0.08 mse loss 0.02 dice loss 0.09\n",
            "pred -11.49 10.67 ce loss 0.08 mse loss 0.02 dice loss 0.08\n",
            "pred -10.68 17.18 ce loss 0.12 mse loss 0.04 dice loss 0.13\n",
            "pred -10.95 15.94 ce loss 0.07 mse loss 0.02 dice loss 0.09\n",
            "pred -12.81 11.53 ce loss 0.1 mse loss 0.03 dice loss 0.08\n",
            "pred -12.09 11.26 ce loss 0.09 mse loss 0.03 dice loss 0.08\n",
            "pred -12.16 15.17 ce loss 0.1 mse loss 0.03 dice loss 0.1\n",
            "pred -12.2 12.2 ce loss 0.1 mse loss 0.03 dice loss 0.08\n",
            "pred -12.0 15.04 ce loss 0.08 mse loss 0.02 dice loss 0.09\n",
            "pred -11.81 15.11 ce loss 0.09 mse loss 0.03 dice loss 0.09\n",
            "pred -11.78 10.73 ce loss 0.1 mse loss 0.03 dice loss 0.09\n",
            "pred -12.82 11.45 ce loss 0.11 mse loss 0.03 dice loss 0.09\n",
            "pred -11.27 15.46 ce loss 0.08 mse loss 0.02 dice loss 0.09\n",
            "pred -12.15 10.96 ce loss 0.09 mse loss 0.03 dice loss 0.07\n",
            "pred -11.77 16.62 ce loss 0.08 mse loss 0.02 dice loss 0.09\n",
            "pred -11.98 11.06 ce loss 0.08 mse loss 0.02 dice loss 0.07\n",
            "pred -11.14 17.2 ce loss 0.07 mse loss 0.02 dice loss 0.08\n",
            "pred -12.79 10.91 ce loss 0.08 mse loss 0.02 dice loss 0.07\n",
            "pred -11.47 18.22 ce loss 0.09 mse loss 0.03 dice loss 0.1\n",
            "pred -12.71 9.96 ce loss 0.09 mse loss 0.03 dice loss 0.08\n",
            "pred -12.22 15.51 ce loss 0.08 mse loss 0.02 dice loss 0.09\n",
            "pred -13.3 13.58 ce loss 0.12 mse loss 0.03 dice loss 0.09\n",
            "pred -11.91 16.18 ce loss 0.07 mse loss 0.02 dice loss 0.08\n",
            "pred -11.86 15.45 ce loss 0.08 mse loss 0.02 dice loss 0.09\n",
            "pred -13.91 10.79 ce loss 0.12 mse loss 0.04 dice loss 0.09\n",
            "pred -12.69 13.96 ce loss 0.09 mse loss 0.03 dice loss 0.08\n",
            "pred -12.39 17.81 ce loss 0.07 mse loss 0.02 dice loss 0.08\n",
            "pred -13.03 12.95 ce loss 0.1 mse loss 0.03 dice loss 0.08\n",
            "pred -11.5 16.11 ce loss 0.08 mse loss 0.02 dice loss 0.08\n",
            "pred -13.67 11.55 ce loss 0.1 mse loss 0.03 dice loss 0.08\n",
            "pred -12.09 18.64 ce loss 0.07 mse loss 0.02 dice loss 0.08\n",
            "pred -12.24 11.71 ce loss 0.08 mse loss 0.02 dice loss 0.07\n",
            "pred -11.8 16.66 ce loss 0.1 mse loss 0.03 dice loss 0.11\n",
            "pred -12.11 15.5 ce loss 0.08 mse loss 0.02 dice loss 0.09\n",
            "pred -12.04 11.96 ce loss 0.12 mse loss 0.04 dice loss 0.09\n",
            "pred -12.87 16.64 ce loss 0.07 mse loss 0.02 dice loss 0.08\n",
            "pred -13.68 12.38 ce loss 0.08 mse loss 0.02 dice loss 0.07\n",
            "pred -13.19 13.45 ce loss 0.14 mse loss 0.04 dice loss 0.09\n",
            "pred -12.95 17.24 ce loss 0.09 mse loss 0.02 dice loss 0.09\n",
            "pred -12.12 12.28 ce loss 0.08 mse loss 0.03 dice loss 0.07\n",
            "pred -13.2 16.82 ce loss 0.08 mse loss 0.02 dice loss 0.09\n",
            "pred -12.58 16.25 ce loss 0.08 mse loss 0.02 dice loss 0.09\n",
            "pred -11.78 14.28 ce loss 0.18 mse loss 0.06 dice loss 0.12\n",
            "pred -12.46 17.55 ce loss 0.07 mse loss 0.02 dice loss 0.08\n",
            "pred -11.95 12.02 ce loss 0.11 mse loss 0.04 dice loss 0.1\n",
            "pred -13.91 17.72 ce loss 0.1 mse loss 0.03 dice loss 0.1\n",
            "pred -13.1 10.94 ce loss 0.16 mse loss 0.04 dice loss 0.1\n",
            "pred -13.46 11.3 ce loss 0.09 mse loss 0.02 dice loss 0.07\n",
            "pred -13.32 17.03 ce loss 0.07 mse loss 0.02 dice loss 0.08\n",
            "pred -12.78 11.27 ce loss 0.08 mse loss 0.02 dice loss 0.07\n",
            "pred -13.43 17.42 ce loss 0.08 mse loss 0.02 dice loss 0.09\n",
            "pred -13.64 17.56 ce loss 0.08 mse loss 0.02 dice loss 0.09\n",
            "pred -13.06 10.72 ce loss 0.08 mse loss 0.02 dice loss 0.07\n",
            "pred -13.48 12.63 ce loss 0.11 mse loss 0.03 dice loss 0.08\n",
            "pred -13.62 18.2 ce loss 0.07 mse loss 0.02 dice loss 0.08\n",
            "pred -13.36 17.66 ce loss 0.07 mse loss 0.02 dice loss 0.08\n",
            "pred -13.11 12.01 ce loss 0.07 mse loss 0.02 dice loss 0.07\n",
            "pred -13.88 14.26 ce loss 0.09 mse loss 0.03 dice loss 0.07\n",
            "pred -13.66 18.12 ce loss 0.07 mse loss 0.02 dice loss 0.08\n",
            "pred -13.53 17.27 ce loss 0.07 mse loss 0.02 dice loss 0.08\n",
            "pred -12.37 12.26 ce loss 0.09 mse loss 0.03 dice loss 0.07\n",
            "pred -14.59 12.67 ce loss 0.09 mse loss 0.03 dice loss 0.07\n",
            "pred -14.08 18.12 ce loss 0.06 mse loss 0.02 dice loss 0.07\n",
            "pred -13.76 13.83 ce loss 0.08 mse loss 0.02 dice loss 0.06\n",
            "pred -14.46 19.4 ce loss 0.06 mse loss 0.02 dice loss 0.08\n",
            "pred -15.16 17.74 ce loss 0.07 mse loss 0.02 dice loss 0.08\n",
            "pred -13.93 13.04 ce loss 0.08 mse loss 0.02 dice loss 0.06\n",
            "pred -14.96 18.57 ce loss 0.06 mse loss 0.02 dice loss 0.07\n",
            "pred -12.17 11.76 ce loss 0.08 mse loss 0.02 dice loss 0.07\n",
            "pred -14.74 18.18 ce loss 0.07 mse loss 0.02 dice loss 0.08\n",
            "pred -13.05 12.77 ce loss 0.08 mse loss 0.02 dice loss 0.07\n"
          ]
        },
        {
          "name": "stderr",
          "output_type": "stream",
          "text": [
            "/usr/local/lib/python3.8/dist-packages/pytorch_lightning/trainer/call.py:54: Detected KeyboardInterrupt, attempting graceful shutdown...\n"
          ]
        }
      ],
      "source": [
        "from pytorch_lightning import Trainer\n",
        "\n",
        "trainer = Trainer(\n",
        "    default_root_dir=\"run\",\n",
        "    limit_train_batches=1.0,\n",
        "    num_sanity_val_steps=0,\n",
        "    max_epochs=1,\n",
        "    enable_checkpointing=False,\n",
        ")\n",
        "\n",
        "trainer.fit(slime, datamodule=data_module)"
      ]
    },
    {
      "cell_type": "code",
      "execution_count": 12,
      "metadata": {
        "id": "UbFajwxfrs0m"
      },
      "outputs": [
        {
          "data": {
            "text/plain": [
              "0"
            ]
          },
          "execution_count": 12,
          "metadata": {},
          "output_type": "execute_result"
        }
      ],
      "source": [
        "slime.cuda(); 0"
      ]
    },
    {
      "cell_type": "code",
      "execution_count": 13,
      "metadata": {
        "colab": {
          "base_uri": "https://localhost:8080/",
          "height": 449
        },
        "id": "YM4p6T8_x6Za",
        "outputId": "e82d4b78-5084-4055-8e37-f5bf8cefaa3d"
      },
      "outputs": [
        {
          "data": {
            "image/png": "[encoded data removed]",
            "text/plain": [
              "<Figure size 432x288 with 2 Axes>"
            ]
          },
          "metadata": {
            "needs_background": "light"
          },
          "output_type": "display_data"
        },
        {
          "data": {
            "image/png": "[encoded data removed]",
            "text/plain": [
              "<Figure size 432x288 with 2 Axes>"
            ]
          },
          "metadata": {
            "needs_background": "light"
          },
          "output_type": "display_data"
        },
        {
          "data": {
            "image/png": "[encoded data removed]",
            "text/plain": [
              "<Figure size 432x288 with 2 Axes>"
            ]
          },
          "metadata": {
            "needs_background": "light"
          },
          "output_type": "display_data"
        },
        {
          "data": {
            "image/png": "[encoded data removed]",
            "text/plain": [
              "<Figure size 432x288 with 2 Axes>"
            ]
          },
          "metadata": {
            "needs_background": "light"
          },
          "output_type": "display_data"
        }
      ],
      "source": [
        "import matplotlib.pyplot as plt\n",
        "def sigmoid(x):\n",
        "    return 1 / (1 + np.exp(-x))\n",
        "for i in range(4):\n",
        "    a = sigmoid(slime.latest_preds[-1-i].swapaxes(1,2).reshape((-1,slime.text_tokens,64,64))[0,1])\n",
        "    plt.imshow(a)\n",
        "    plt.colorbar()\n",
        "    plt.show()"
      ]
    },
    {
      "cell_type": "code",
      "execution_count": 14,
      "metadata": {
        "colab": {
          "base_uri": "https://localhost:8080/",
          "height": 847
        },
        "id": "HQQ3-WNo8B8s",
        "outputId": "4a50b8da-d2fe-45ee-87f1-d5ac8b715749"
      },
      "outputs": [
        {
          "data": {
            "image/png": "[encoded data removed]",
            "text/plain": [
              "<Figure size 432x288 with 2 Axes>"
            ]
          },
          "metadata": {
            "needs_background": "light"
          },
          "output_type": "display_data"
        },
        {
          "data": {
            "image/png": "[encoded data removed]",
            "text/plain": [
              "<Figure size 432x288 with 2 Axes>"
            ]
          },
          "metadata": {
            "needs_background": "light"
          },
          "output_type": "display_data"
        }
      ],
      "source": [
        "#@title Infer on test set\n",
        "out_mask = None\n",
        "loader = data_module.test_dataloader()\n",
        "out_masks=[]\n",
        "for i,batch in enumerate(loader):\n",
        "  out_mask = slime.predict_step(batch,i).cpu().numpy()\n",
        "  out_masks.append(out_mask)\n",
        "\n",
        "import matplotlib.pyplot as plt\n",
        "for out_mask in out_masks:\n",
        "  for j in range(len(out_mask)):\n",
        "    plt.imshow(sigmoid(out_mask[j,:,1].reshape((64,64))))\n",
        "    plt.colorbar()\n",
        "    plt.show()"
      ]
    },
    {
      "cell_type": "code",
      "execution_count": 15,
      "metadata": {},
      "outputs": [
        {
          "data": {
            "image/png": "[encoded data removed]",
            "text/plain": [
              "<Figure size 432x288 with 2 Axes>"
            ]
          },
          "metadata": {
            "needs_background": "light"
          },
          "output_type": "display_data"
        },
        {
          "data": {
            "image/png": "[encoded data removed]",
            "text/plain": [
              "<Figure size 432x288 with 2 Axes>"
            ]
          },
          "metadata": {
            "needs_background": "light"
          },
          "output_type": "display_data"
        },
        {
          "name": "stdout",
          "output_type": "stream",
          "text": [
            "tensor([0.4618, 0.8040, 0.8040, 0.8040, 0.8040, 0.8040, 0.8040, 0.8040, 0.8040,\n",
            "        0.8040, 0.8040, 0.8040, 0.8040, 0.8040, 0.8040, 0.8040],\n",
            "       device='cuda:0')\n"
          ]
        }
      ],
      "source": [
        "preds = slime.latest_means\n",
        "# print([(pred.shape,pred.mean(axis=1)) for pred in preds])\n",
        "\n",
        "for pred in preds:\n",
        "    for i in range(pred.shape[1]):\n",
        "        plt.imshow(pred[0,i].reshape((64,64)))\n",
        "        plt.colorbar()\n",
        "        plt.show()\n",
        "\n",
        "print(slime.cross_layer_multiplier.weight.data)"
      ]
    },
    {
      "cell_type": "code",
      "execution_count": 16,
      "metadata": {},
      "outputs": [
        {
          "name": "stdout",
          "output_type": "stream",
          "text": [
            "[(20, 256, 4)]\n",
            "Layer 0\n"
          ]
        },
        {
          "data": {
            "image/png": "[encoded data removed]",
            "text/plain": [
              "<Figure size 432x288 with 2 Axes>"
            ]
          },
          "metadata": {
            "needs_background": "light"
          },
          "output_type": "display_data"
        },
        {
          "data": {
            "image/png": "[encoded data removed]",
            "text/plain": [
              "<Figure size 432x288 with 2 Axes>"
            ]
          },
          "metadata": {
            "needs_background": "light"
          },
          "output_type": "display_data"
        },
        {
          "data": {
            "image/png": "[encoded data removed]",
            "text/plain": [
              "<Figure size 432x288 with 2 Axes>"
            ]
          },
          "metadata": {
            "needs_background": "light"
          },
          "output_type": "display_data"
        },
        {
          "data": {
            "image/png": "[encoded data removed]",
            "text/plain": [
              "<Figure size 432x288 with 2 Axes>"
            ]
          },
          "metadata": {
            "needs_background": "light"
          },
          "output_type": "display_data"
        },
        {
          "name": "stdout",
          "output_type": "stream",
          "text": [
            "tensor([0.4618, 0.8040, 0.8040, 0.8040, 0.8040, 0.8040, 0.8040, 0.8040, 0.8040,\n",
            "        0.8040, 0.8040, 0.8040, 0.8040, 0.8040, 0.8040, 0.8040],\n",
            "       device='cuda:0')\n"
          ]
        }
      ],
      "source": [
        "xattns = slime.latest_xattns\n",
        "print([(xattn.shape) for xattn in xattns])\n",
        "\n",
        "for i,xattn in enumerate(xattns):\n",
        "    print(\"Layer\",i)\n",
        "    img_tokens = xattn.shape[1]\n",
        "    img_dim = int(math.sqrt(img_tokens))\n",
        "    reshaped = xattn.mean(axis=0,keepdims=True).reshape((img_dim,img_dim,-1))\n",
        "    for j in range(reshaped.shape[-1]):\n",
        "        plt.imshow(reshaped[...,j],cmap=\"gray\")\n",
        "        plt.colorbar()\n",
        "        plt.show()\n",
        "\n",
        "print(slime.cross_layer_multiplier.weight.data)"
      ]
    },
    {
      "cell_type": "code",
      "execution_count": 17,
      "metadata": {
        "id": "_SfOQS29r0q6"
      },
      "outputs": [
        {
          "name": "stdout",
          "output_type": "stream",
          "text": [
            "/bin/bash: line 0: cd: /content/slime-experiments/: No such file or directory\n"
          ]
        }
      ],
      "source": [
        "!cd /content/slime-experiments/ && git diff"
      ]
    }
  ],
  "metadata": {
    "accelerator": "GPU",
    "colab": {
      "gpuType": "T4",
      "provenance": []
    },
    "kernelspec": {
      "display_name": "Python 3",
      "name": "python3"
    },
    "language_info": {
      "codemirror_mode": {
        "name": "ipython",
        "version": 3
      },
      "file_extension": ".py",
      "mimetype": "text/x-python",
      "name": "python",
      "nbconvert_exporter": "python",
      "pygments_lexer": "ipython3",
      "version": "3.8.10"
    },
    "orig_nbformat": 4,
    "widgets": {
      "application/vnd.jupyter.widget-state+json": {
        "1d50c28ae9b645adb692128f663ee40c": {
          "model_module": "@jupyter-widgets/controls",
          "model_module_version": "1.5.0",
          "model_name": "ProgressStyleModel",
          "state": {
            "_model_module": "@jupyter-widgets/controls",
            "_model_module_version": "1.5.0",
            "_model_name": "ProgressStyleModel",
            "_view_count": null,
            "_view_module": "@jupyter-widgets/base",
            "_view_module_version": "1.2.0",
            "_view_name": "StyleView",
            "bar_color": null,
            "description_width": ""
          }
        },
        "1ef4b2520aae48b3bd830a1d3f179f89": {
          "model_module": "@jupyter-widgets/base",
          "model_module_version": "1.2.0",
          "model_name": "LayoutModel",
          "state": {
            "_model_module": "@jupyter-widgets/base",
            "_model_module_version": "1.2.0",
            "_model_name": "LayoutModel",
            "_view_count": null,
            "_view_module": "@jupyter-widgets/base",
            "_view_module_version": "1.2.0",
            "_view_name": "LayoutView",
            "align_content": null,
            "align_items": null,
            "align_self": null,
            "border": null,
            "bottom": null,
            "display": null,
            "flex": "2",
            "flex_flow": null,
            "grid_area": null,
            "grid_auto_columns": null,
            "grid_auto_flow": null,
            "grid_auto_rows": null,
            "grid_column": null,
            "grid_gap": null,
            "grid_row": null,
            "grid_template_areas": null,
            "grid_template_columns": null,
            "grid_template_rows": null,
            "height": null,
            "justify_content": null,
            "justify_items": null,
            "left": null,
            "margin": null,
            "max_height": null,
            "max_width": null,
            "min_height": null,
            "min_width": null,
            "object_fit": null,
            "object_position": null,
            "order": null,
            "overflow": null,
            "overflow_x": null,
            "overflow_y": null,
            "padding": null,
            "right": null,
            "top": null,
            "visibility": null,
            "width": null
          }
        },
        "2fe6200bf7064a189e3790f7797c7fbb": {
          "model_module": "@jupyter-widgets/controls",
          "model_module_version": "1.5.0",
          "model_name": "HBoxModel",
          "state": {
            "_dom_classes": [],
            "_model_module": "@jupyter-widgets/controls",
            "_model_module_version": "1.5.0",
            "_model_name": "HBoxModel",
            "_view_count": null,
            "_view_module": "@jupyter-widgets/controls",
            "_view_module_version": "1.5.0",
            "_view_name": "HBoxView",
            "box_style": "",
            "children": [
              "IPY_MODEL_d539050cc54f45c288d912144d081d76",
              "IPY_MODEL_5e4c349b29f14b2d85c5e16e78d352ea",
              "IPY_MODEL_817355e86f614485977a900b659a2fed"
            ],
            "layout": "IPY_MODEL_dc36d39ee4294f8abcc589a88ebc4ceb"
          }
        },
        "39dea76fbc3545658df84b33787383ba": {
          "model_module": "@jupyter-widgets/controls",
          "model_module_version": "1.5.0",
          "model_name": "DescriptionStyleModel",
          "state": {
            "_model_module": "@jupyter-widgets/controls",
            "_model_module_version": "1.5.0",
            "_model_name": "DescriptionStyleModel",
            "_view_count": null,
            "_view_module": "@jupyter-widgets/base",
            "_view_module_version": "1.2.0",
            "_view_name": "StyleView",
            "description_width": ""
          }
        },
        "5e4c349b29f14b2d85c5e16e78d352ea": {
          "model_module": "@jupyter-widgets/controls",
          "model_module_version": "1.5.0",
          "model_name": "FloatProgressModel",
          "state": {
            "_dom_classes": [],
            "_model_module": "@jupyter-widgets/controls",
            "_model_module_version": "1.5.0",
            "_model_name": "FloatProgressModel",
            "_view_count": null,
            "_view_module": "@jupyter-widgets/controls",
            "_view_module_version": "1.5.0",
            "_view_name": "ProgressView",
            "bar_style": "success",
            "description": "",
            "description_tooltip": null,
            "layout": "IPY_MODEL_1ef4b2520aae48b3bd830a1d3f179f89",
            "max": 1,
            "min": 0,
            "orientation": "horizontal",
            "style": "IPY_MODEL_1d50c28ae9b645adb692128f663ee40c",
            "value": 0
          }
        },
        "6607f73936b44302a81d3f3d3ba28310": {
          "model_module": "@jupyter-widgets/base",
          "model_module_version": "1.2.0",
          "model_name": "LayoutModel",
          "state": {
            "_model_module": "@jupyter-widgets/base",
            "_model_module_version": "1.2.0",
            "_model_name": "LayoutModel",
            "_view_count": null,
            "_view_module": "@jupyter-widgets/base",
            "_view_module_version": "1.2.0",
            "_view_name": "LayoutView",
            "align_content": null,
            "align_items": null,
            "align_self": null,
            "border": null,
            "bottom": null,
            "display": null,
            "flex": null,
            "flex_flow": null,
            "grid_area": null,
            "grid_auto_columns": null,
            "grid_auto_flow": null,
            "grid_auto_rows": null,
            "grid_column": null,
            "grid_gap": null,
            "grid_row": null,
            "grid_template_areas": null,
            "grid_template_columns": null,
            "grid_template_rows": null,
            "height": null,
            "justify_content": null,
            "justify_items": null,
            "left": null,
            "margin": null,
            "max_height": null,
            "max_width": null,
            "min_height": null,
            "min_width": null,
            "object_fit": null,
            "object_position": null,
            "order": null,
            "overflow": null,
            "overflow_x": null,
            "overflow_y": null,
            "padding": null,
            "right": null,
            "top": null,
            "visibility": null,
            "width": null
          }
        },
        "817355e86f614485977a900b659a2fed": {
          "model_module": "@jupyter-widgets/controls",
          "model_module_version": "1.5.0",
          "model_name": "HTMLModel",
          "state": {
            "_dom_classes": [],
            "_model_module": "@jupyter-widgets/controls",
            "_model_module_version": "1.5.0",
            "_model_name": "HTMLModel",
            "_view_count": null,
            "_view_module": "@jupyter-widgets/controls",
            "_view_module_version": "1.5.0",
            "_view_name": "HTMLView",
            "description": "",
            "description_tooltip": null,
            "layout": "IPY_MODEL_c905811dc695483293ba977f973fef8c",
            "placeholder": "​",
            "style": "IPY_MODEL_b28003169cce426a875cb82e42cd3c90",
            "value": " 0/? [00:00&lt;?, ?it/s, v_num=4]"
          }
        },
        "b28003169cce426a875cb82e42cd3c90": {
          "model_module": "@jupyter-widgets/controls",
          "model_module_version": "1.5.0",
          "model_name": "DescriptionStyleModel",
          "state": {
            "_model_module": "@jupyter-widgets/controls",
            "_model_module_version": "1.5.0",
            "_model_name": "DescriptionStyleModel",
            "_view_count": null,
            "_view_module": "@jupyter-widgets/base",
            "_view_module_version": "1.2.0",
            "_view_name": "StyleView",
            "description_width": ""
          }
        },
        "c905811dc695483293ba977f973fef8c": {
          "model_module": "@jupyter-widgets/base",
          "model_module_version": "1.2.0",
          "model_name": "LayoutModel",
          "state": {
            "_model_module": "@jupyter-widgets/base",
            "_model_module_version": "1.2.0",
            "_model_name": "LayoutModel",
            "_view_count": null,
            "_view_module": "@jupyter-widgets/base",
            "_view_module_version": "1.2.0",
            "_view_name": "LayoutView",
            "align_content": null,
            "align_items": null,
            "align_self": null,
            "border": null,
            "bottom": null,
            "display": null,
            "flex": null,
            "flex_flow": null,
            "grid_area": null,
            "grid_auto_columns": null,
            "grid_auto_flow": null,
            "grid_auto_rows": null,
            "grid_column": null,
            "grid_gap": null,
            "grid_row": null,
            "grid_template_areas": null,
            "grid_template_columns": null,
            "grid_template_rows": null,
            "height": null,
            "justify_content": null,
            "justify_items": null,
            "left": null,
            "margin": null,
            "max_height": null,
            "max_width": null,
            "min_height": null,
            "min_width": null,
            "object_fit": null,
            "object_position": null,
            "order": null,
            "overflow": null,
            "overflow_x": null,
            "overflow_y": null,
            "padding": null,
            "right": null,
            "top": null,
            "visibility": null,
            "width": null
          }
        },
        "d539050cc54f45c288d912144d081d76": {
          "model_module": "@jupyter-widgets/controls",
          "model_module_version": "1.5.0",
          "model_name": "HTMLModel",
          "state": {
            "_dom_classes": [],
            "_model_module": "@jupyter-widgets/controls",
            "_model_module_version": "1.5.0",
            "_model_name": "HTMLModel",
            "_view_count": null,
            "_view_module": "@jupyter-widgets/controls",
            "_view_module_version": "1.5.0",
            "_view_name": "HTMLView",
            "description": "",
            "description_tooltip": null,
            "layout": "IPY_MODEL_6607f73936b44302a81d3f3d3ba28310",
            "placeholder": "​",
            "style": "IPY_MODEL_39dea76fbc3545658df84b33787383ba",
            "value": "Epoch 499: "
          }
        },
        "dc36d39ee4294f8abcc589a88ebc4ceb": {
          "model_module": "@jupyter-widgets/base",
          "model_module_version": "1.2.0",
          "model_name": "LayoutModel",
          "state": {
            "_model_module": "@jupyter-widgets/base",
            "_model_module_version": "1.2.0",
            "_model_name": "LayoutModel",
            "_view_count": null,
            "_view_module": "@jupyter-widgets/base",
            "_view_module_version": "1.2.0",
            "_view_name": "LayoutView",
            "align_content": null,
            "align_items": null,
            "align_self": null,
            "border": null,
            "bottom": null,
            "display": "inline-flex",
            "flex": null,
            "flex_flow": "row wrap",
            "grid_area": null,
            "grid_auto_columns": null,
            "grid_auto_flow": null,
            "grid_auto_rows": null,
            "grid_column": null,
            "grid_gap": null,
            "grid_row": null,
            "grid_template_areas": null,
            "grid_template_columns": null,
            "grid_template_rows": null,
            "height": null,
            "justify_content": null,
            "justify_items": null,
            "left": null,
            "margin": null,
            "max_height": null,
            "max_width": null,
            "min_height": null,
            "min_width": null,
            "object_fit": null,
            "object_position": null,
            "order": null,
            "overflow": null,
            "overflow_x": null,
            "overflow_y": null,
            "padding": null,
            "right": null,
            "top": null,
            "visibility": null,
            "width": "100%"
          }
        }
      }
    }
  },
  "nbformat": 4,
  "nbformat_minor": 0
}
