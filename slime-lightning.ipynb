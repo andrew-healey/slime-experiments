{
  "cells": [
    {
      "cell_type": "code",
      "source": [
        "%load_ext autoreload\n",
        "%autoreload 2"
      ],
      "metadata": {
        "id": "HiGHZ1qiq_9q"
      },
      "execution_count": 1,
      "outputs": []
    },
    {
      "cell_type": "code",
      "execution_count": 80,
      "metadata": {
        "id": "OIu3N4tGnEgv"
      },
      "outputs": [],
      "source": [
        "should_skip = False"
      ]
    },
    {
      "cell_type": "code",
      "execution_count": 3,
      "metadata": {
        "cellView": "form",
        "id": "n0vWJ_IynEgv"
      },
      "outputs": [],
      "source": [
        "#@title Install libraries\n",
        "if not should_skip:\n",
        "  !pip install -U -qq git+https://github.com/huggingface/diffusers.git\n",
        "  !pip install -qq accelerate transformers ftfy\n",
        "  !pip install -q gpustat gdown\n",
        "  !pip install -q pytorch_lightning"
      ]
    },
    {
      "cell_type": "code",
      "execution_count": 4,
      "metadata": {
        "cellView": "form",
        "id": "vey7mPaRnEgw"
      },
      "outputs": [],
      "source": [
        "#@title Import required libraries\n",
        "import argparse\n",
        "import itertools\n",
        "import math\n",
        "import os\n",
        "import random\n",
        "\n",
        "import numpy as np\n",
        "import torch\n",
        "import torch.nn.functional as F\n",
        "import torchvision.transforms.functional as TVF\n",
        "import torch.utils.checkpoint\n",
        "from torch.utils.data import Dataset\n",
        "\n",
        "import PIL\n",
        "from accelerate import Accelerator\n",
        "from accelerate.logging import get_logger\n",
        "from accelerate.utils import set_seed\n",
        "import sys\n",
        "\n",
        "# https://github.com/huggingface/diffusers/blob/main/src/diffusers/models/unet_2d_condition.py#L175-L182\n",
        "from diffusers import AutoencoderKL, DDPMScheduler, PNDMScheduler, StableDiffusionPipeline, UNet2DConditionModel\n",
        "from diffusers.optimization import get_scheduler\n",
        "from diffusers.pipelines.stable_diffusion import StableDiffusionSafetyChecker\n",
        "from PIL import Image\n",
        "from torchvision import transforms\n",
        "from tqdm.auto import tqdm\n",
        "from transformers import CLIPFeatureExtractor, CLIPTextModel, CLIPTokenizer\n",
        "\n",
        "def image_grid(imgs, rows, cols):\n",
        "    assert len(imgs) == rows*cols\n",
        "\n",
        "    w, h = imgs[0].size\n",
        "    grid = Image.new('RGB', size=(cols*w, rows*h))\n",
        "    grid_w, grid_h = grid.size\n",
        "\n",
        "    for i, img in enumerate(imgs):\n",
        "        grid.paste(img, box=(i%cols*w, i//cols*h))\n",
        "    return grid"
      ]
    },
    {
      "cell_type": "code",
      "execution_count": 82,
      "metadata": {
        "colab": {
          "base_uri": "https://localhost:8080/"
        },
        "cellView": "form",
        "id": "TlbAj5_onEgw",
        "outputId": "5d7b3d8b-0f86-456b-e4fa-b1ab2ca50426"
      },
      "outputs": [
        {
          "output_type": "stream",
          "name": "stdout",
          "text": [
            "/usr/local/lib/python3.10/dist-packages/gdown/cli.py:121: FutureWarning: Option `--id` was deprecated in version 4.3.1 and will be removed in 5.0. You don't need to pass it anymore to use a file ID.\n",
            "  warnings.warn(\n",
            "Downloading...\n",
            "From: https://drive.google.com/uc?id=1I8RMKQhPXntlRKorVNZ6yyNpfaOp8wNv\n",
            "To: /content/my_concept_gt.zip\n",
            "100% 14.7k/14.7k [00:00<00:00, 39.2MB/s]\n",
            "mkdir: cannot create directory ‘./my_concept_gt/’: File exists\n",
            "Archive:  my_concept_gt.zip\n",
            "  inflating: my_concept_gt/1.png     \n",
            "  inflating: my_concept_gt/0.png     \n"
          ]
        }
      ],
      "source": [
        "if not should_skip:\n",
        "    #@markdown Add here the URLs to the images of the concept you are adding. 3-5 should be fine\n",
        "    train_urls = [\n",
        "        \"https://huggingface.co/datasets/valhalla/images/resolve/main/2.jpeg\",\n",
        "        \"https://huggingface.co/datasets/valhalla/images/resolve/main/3.jpeg\",\n",
        "    ]\n",
        "    test_urls = [\n",
        "        \"https://huggingface.co/datasets/valhalla/images/resolve/main/5.jpeg\",\n",
        "        \"https://huggingface.co/datasets/valhalla/images/resolve/main/6.jpeg\",\n",
        "        ## You can add additional images here\n",
        "    ]\n",
        "#@title Download\n",
        "import requests\n",
        "import glob\n",
        "from io import BytesIO\n",
        "\n",
        "def download_image(url):\n",
        "  try:\n",
        "    response = requests.get(url)\n",
        "  except:\n",
        "    return None\n",
        "  return Image.open(BytesIO(response.content)).convert(\"RGB\")\n",
        "\n",
        "if not should_skip:\n",
        "    for save_path,urls in [(\"./my_concept\",train_urls),(\"./my_concept_test\",test_urls)]:\n",
        "      images = list(filter(None,[download_image(url) for url in urls]))\n",
        "      if not os.path.exists(save_path):\n",
        "        os.mkdir(save_path)\n",
        "      [image.save(f\"{save_path}/{i}.jpeg\") for i, image in enumerate(images)]\n",
        "\n",
        "\n",
        "if not should_skip:\n",
        "    !gdown --id 1I8RMKQhPXntlRKorVNZ6yyNpfaOp8wNv\n",
        "    mask_path=\"./my_concept_gt\"\n",
        "    !mkdir $mask_path/\n",
        "\n",
        "    with open(\"my_concept_gt.zip\",\"r\") as f:\n",
        "        pass\n",
        "    !unzip -o my_concept_gt.zip"
      ]
    },
    {
      "cell_type": "code",
      "source": [
        "%cd /content/\n",
        "sys.path.append(\"/content/slime-experiments/\")"
      ],
      "metadata": {
        "colab": {
          "base_uri": "https://localhost:8080/"
        },
        "id": "zobTtmaarUxr",
        "outputId": "88ef2419-e38b-460b-f2f8-f6d618d85302"
      },
      "execution_count": 6,
      "outputs": [
        {
          "output_type": "stream",
          "name": "stdout",
          "text": [
            "/content\n"
          ]
        }
      ]
    },
    {
      "cell_type": "code",
      "source": [
        "!rm -rf slime-experiments/\n",
        "!git clone https://github.com/andrew-healey/slime-experiments\n",
        "!cd slime-experiments && git rev-parse --short HEAD"
      ],
      "metadata": {
        "colab": {
          "base_uri": "https://localhost:8080/"
        },
        "id": "S7EY-HMInhWK",
        "outputId": "bbdf3606-38af-403b-93e2-3e9f5a10ddcf"
      },
      "execution_count": 7,
      "outputs": [
        {
          "output_type": "stream",
          "name": "stdout",
          "text": [
            "Cloning into 'slime-experiments'...\n",
            "remote: Enumerating objects: 109, done.\u001b[K\n",
            "remote: Counting objects: 100% (109/109), done.\u001b[K\n",
            "remote: Compressing objects: 100% (71/71), done.\u001b[K\n",
            "remote: Total 109 (delta 64), reused 80 (delta 35), pack-reused 0\u001b[K\n",
            "Receiving objects: 100% (109/109), 1.29 MiB | 8.21 MiB/s, done.\n",
            "Resolving deltas: 100% (64/64), done.\n",
            "7c743a9\n"
          ]
        }
      ]
    },
    {
      "cell_type": "code",
      "execution_count": 8,
      "metadata": {
        "id": "18OU0iWXnEgw"
      },
      "outputs": [],
      "source": [
        "from slime.slime import SLiME\n",
        "from slime.data.single_class import BinarySegmentationDataset,SegmentationDataModule"
      ]
    },
    {
      "cell_type": "code",
      "execution_count": 88,
      "metadata": {
        "id": "gjK_JKcsnEgw"
      },
      "outputs": [],
      "source": [
        "train_dataset = BinarySegmentationDataset(\n",
        "    data_root=\"my_concept\",\n",
        "    mask_root=\"my_concept_gt\",\n",
        ")\n",
        "test_dataset = BinarySegmentationDataset(\n",
        "    data_root=\"my_concept_test\",\n",
        "    mask_root=None\n",
        ")\n",
        "\n",
        "data_module = SegmentationDataModule(\n",
        "    train_dataset,\n",
        "    test_dataset,\n",
        "    iters_per_epoch=50\n",
        ")"
      ]
    },
    {
      "cell_type": "code",
      "source": [
        "loader = data_module.train_dataloader()\n",
        "l=0\n",
        "for i in loader: l+=1\n",
        "l"
      ],
      "metadata": {
        "colab": {
          "base_uri": "https://localhost:8080/"
        },
        "id": "Jiisjuqvktef",
        "outputId": "498031d6-7f5e-4520-b7a4-a997bea410fc"
      },
      "execution_count": 10,
      "outputs": [
        {
          "output_type": "execute_result",
          "data": {
            "text/plain": [
              "50"
            ]
          },
          "metadata": {},
          "execution_count": 10
        }
      ]
    },
    {
      "cell_type": "code",
      "execution_count": 11,
      "metadata": {
        "colab": {
          "base_uri": "https://localhost:8080/"
        },
        "id": "5xVozx20nEgw",
        "outputId": "109d1ce9-2c7f-4348-92d7-288ae1714707"
      },
      "outputs": [
        {
          "output_type": "stream",
          "name": "stderr",
          "text": [
            "/usr/local/lib/python3.10/dist-packages/diffusers/configuration_utils.py:239: FutureWarning: It is deprecated to pass a pretrained model name or path to `from_config`.If you were trying to load a scheduler, please use <class 'diffusers.schedulers.scheduling_ddpm.DDPMScheduler'>.from_pretrained(...) instead. Otherwise, please make sure to pass a configuration dictionary instead. This functionality will be removed in v1.0.0.\n",
            "  deprecate(\"config-passed-as-path\", \"1.0.0\", deprecation_message, standard_warn=False)\n"
          ]
        }
      ],
      "source": [
        "slime = SLiME(\n",
        "    use_self_attn=False,\n",
        ").cuda()"
      ]
    },
    {
      "cell_type": "code",
      "source": [
        "%load_ext tensorboard\n",
        "%tensorboard --logdir run"
      ],
      "metadata": {
        "id": "x2evVSxN4ItU"
      },
      "execution_count": null,
      "outputs": []
    },
    {
      "cell_type": "code",
      "execution_count": 35,
      "metadata": {
        "colab": {
          "base_uri": "https://localhost:8080/",
          "height": 414,
          "referenced_widgets": [
            "2fe6200bf7064a189e3790f7797c7fbb",
            "d539050cc54f45c288d912144d081d76",
            "5e4c349b29f14b2d85c5e16e78d352ea",
            "817355e86f614485977a900b659a2fed",
            "dc36d39ee4294f8abcc589a88ebc4ceb",
            "6607f73936b44302a81d3f3d3ba28310",
            "39dea76fbc3545658df84b33787383ba",
            "1ef4b2520aae48b3bd830a1d3f179f89",
            "1d50c28ae9b645adb692128f663ee40c",
            "c905811dc695483293ba977f973fef8c",
            "b28003169cce426a875cb82e42cd3c90"
          ]
        },
        "id": "dKcY9CXqnEgw",
        "outputId": "3be2171b-d52d-4163-d7b2-28fd5d29886e"
      },
      "outputs": [
        {
          "output_type": "stream",
          "name": "stderr",
          "text": [
            "INFO:pytorch_lightning.utilities.rank_zero:GPU available: True (cuda), used: True\n",
            "INFO:pytorch_lightning.utilities.rank_zero:TPU available: False, using: 0 TPU cores\n",
            "INFO:pytorch_lightning.utilities.rank_zero:IPU available: False, using: 0 IPUs\n",
            "INFO:pytorch_lightning.utilities.rank_zero:HPU available: False, using: 0 HPUs\n",
            "INFO:pytorch_lightning.utilities.rank_zero:`Trainer(limit_train_batches=1.0)` was configured so 100% of the batches per epoch will be used..\n",
            "INFO:pytorch_lightning.accelerators.cuda:LOCAL_RANK: 0 - CUDA_VISIBLE_DEVICES: [0]\n",
            "INFO:pytorch_lightning.callbacks.model_summary:\n",
            "  | Name                   | Type            | Params\n",
            "-----------------------------------------------------------\n",
            "0 | sd                     | StableDiffusion | 900 M \n",
            "1 | cross_layer_multiplier | Multiplier      | 32    \n",
            "2 | self_layer_multiplier  | Multiplier      | 32    \n",
            "3 | cross_map_multiplier   | Multiplier      | 4     \n",
            "4 | pred_map_multiplier    | Multiplier      | 4     \n",
            "  | other params           | n/a             | 2.0 K \n",
            "-----------------------------------------------------------\n",
            "2.1 K     Trainable params\n",
            "900 M     Non-trainable params\n",
            "900 M     Total params\n",
            "3,600.306 Total estimated model params size (MB)\n"
          ]
        },
        {
          "output_type": "display_data",
          "data": {
            "text/plain": [
              "Training: |          | 0/? [00:00<?, ?it/s]"
            ],
            "application/vnd.jupyter.widget-view+json": {
              "version_major": 2,
              "version_minor": 0,
              "model_id": "2fe6200bf7064a189e3790f7797c7fbb"
            }
          },
          "metadata": {}
        },
        {
          "output_type": "stream",
          "name": "stderr",
          "text": [
            "INFO:pytorch_lightning.utilities.rank_zero:`Trainer.fit` stopped: `max_epochs=500` reached.\n"
          ]
        }
      ],
      "source": [
        "from pytorch_lightning import Trainer\n",
        "\n",
        "trainer = Trainer(\n",
        "    default_root_dir=\"run\",\n",
        "    limit_train_batches=1.0,\n",
        "    num_sanity_val_steps=0,\n",
        "    max_epochs=50,\n",
        "    enable_checkpointing=False,\n",
        ")\n",
        "\n",
        "trainer.fit(slime, datamodule=data_module)"
      ]
    },
    {
      "cell_type": "code",
      "source": [
        "slime.cuda()"
      ],
      "metadata": {
        "id": "UbFajwxfrs0m"
      },
      "execution_count": null,
      "outputs": []
    },
    {
      "cell_type": "code",
      "source": [
        "import matplotlib.pyplot as plt\n",
        "plt.imshow(slime.latest_preds[-1].swapaxes(1,2).reshape((2,2,64,64))[0,1])"
      ],
      "metadata": {
        "colab": {
          "base_uri": "https://localhost:8080/",
          "height": 449
        },
        "id": "YM4p6T8_x6Za",
        "outputId": "e82d4b78-5084-4055-8e37-f5bf8cefaa3d"
      },
      "execution_count": 47,
      "outputs": [
        {
          "output_type": "execute_result",
          "data": {
            "text/plain": [
              "<matplotlib.image.AxesImage at 0x797f6d97aa40>"
            ]
          },
          "metadata": {},
          "execution_count": 47
        },
        {
          "output_type": "display_data",
          "data": {
            "text/plain": [
              "<Figure size 640x480 with 1 Axes>"
            ],
            "image/png": "[encoded data removed]"
          },
          "metadata": {}
        }
      ]
    },
    {
      "cell_type": "code",
      "source": [
        "#@title Infer on test set\n",
        "out_mask = None\n",
        "loader = data_module.test_dataloader()\n",
        "for i,batch in enumerate(loader):\n",
        "  out_mask = slime.predict_step(batch,i).cpu().numpy()\n",
        "  break\n",
        "\n",
        "import matplotlib.pyplot as plt\n",
        "for i in range(len(out_mask)):\n",
        "  plt.imshow(out_mask[i].reshape((64,64)))\n",
        "  plt.show()"
      ],
      "metadata": {
        "colab": {
          "base_uri": "https://localhost:8080/",
          "height": 847
        },
        "id": "HQQ3-WNo8B8s",
        "outputId": "4a50b8da-d2fe-45ee-87f1-d5ac8b715749"
      },
      "execution_count": 90,
      "outputs": [
        {
          "output_type": "display_data",
          "data": {
            "text/plain": [
              "<Figure size 640x480 with 1 Axes>"
            ],
            "image/png": "[encoded data removed]"
          },
          "metadata": {}
        },
        {
          "output_type": "display_data",
          "data": {
            "text/plain": [
              "<Figure size 640x480 with 1 Axes>"
            ],
            "image/png": "[encoded data removed]"
          },
          "metadata": {}
        }
      ]
    },
    {
      "cell_type": "code",
      "source": [
        "!cd /content/slime-experiments/ && git diff"
      ],
      "metadata": {
        "id": "_SfOQS29r0q6"
      },
      "execution_count": null,
      "outputs": []
    }
  ],
  "metadata": {
    "language_info": {
      "name": "python"
    },
    "orig_nbformat": 4,
    "colab": {
      "provenance": [],
      "gpuType": "T4"
    },
    "kernelspec": {
      "name": "python3",
      "display_name": "Python 3"
    },
    "accelerator": "GPU",
    "widgets": {
      "application/vnd.jupyter.widget-state+json": {
        "2fe6200bf7064a189e3790f7797c7fbb": {
          "model_module": "@jupyter-widgets/controls",
          "model_name": "HBoxModel",
          "model_module_version": "1.5.0",
          "state": {
            "_dom_classes": [],
            "_model_module": "@jupyter-widgets/controls",
            "_model_module_version": "1.5.0",
            "_model_name": "HBoxModel",
            "_view_count": null,
            "_view_module": "@jupyter-widgets/controls",
            "_view_module_version": "1.5.0",
            "_view_name": "HBoxView",
            "box_style": "",
            "children": [
              "IPY_MODEL_d539050cc54f45c288d912144d081d76",
              "IPY_MODEL_5e4c349b29f14b2d85c5e16e78d352ea",
              "IPY_MODEL_817355e86f614485977a900b659a2fed"
            ],
            "layout": "IPY_MODEL_dc36d39ee4294f8abcc589a88ebc4ceb"
          }
        },
        "d539050cc54f45c288d912144d081d76": {
          "model_module": "@jupyter-widgets/controls",
          "model_name": "HTMLModel",
          "model_module_version": "1.5.0",
          "state": {
            "_dom_classes": [],
            "_model_module": "@jupyter-widgets/controls",
            "_model_module_version": "1.5.0",
            "_model_name": "HTMLModel",
            "_view_count": null,
            "_view_module": "@jupyter-widgets/controls",
            "_view_module_version": "1.5.0",
            "_view_name": "HTMLView",
            "description": "",
            "description_tooltip": null,
            "layout": "IPY_MODEL_6607f73936b44302a81d3f3d3ba28310",
            "placeholder": "​",
            "style": "IPY_MODEL_39dea76fbc3545658df84b33787383ba",
            "value": "Epoch 499: "
          }
        },
        "5e4c349b29f14b2d85c5e16e78d352ea": {
          "model_module": "@jupyter-widgets/controls",
          "model_name": "FloatProgressModel",
          "model_module_version": "1.5.0",
          "state": {
            "_dom_classes": [],
            "_model_module": "@jupyter-widgets/controls",
            "_model_module_version": "1.5.0",
            "_model_name": "FloatProgressModel",
            "_view_count": null,
            "_view_module": "@jupyter-widgets/controls",
            "_view_module_version": "1.5.0",
            "_view_name": "ProgressView",
            "bar_style": "success",
            "description": "",
            "description_tooltip": null,
            "layout": "IPY_MODEL_1ef4b2520aae48b3bd830a1d3f179f89",
            "max": 1,
            "min": 0,
            "orientation": "horizontal",
            "style": "IPY_MODEL_1d50c28ae9b645adb692128f663ee40c",
            "value": 0
          }
        },
        "817355e86f614485977a900b659a2fed": {
          "model_module": "@jupyter-widgets/controls",
          "model_name": "HTMLModel",
          "model_module_version": "1.5.0",
          "state": {
            "_dom_classes": [],
            "_model_module": "@jupyter-widgets/controls",
            "_model_module_version": "1.5.0",
            "_model_name": "HTMLModel",
            "_view_count": null,
            "_view_module": "@jupyter-widgets/controls",
            "_view_module_version": "1.5.0",
            "_view_name": "HTMLView",
            "description": "",
            "description_tooltip": null,
            "layout": "IPY_MODEL_c905811dc695483293ba977f973fef8c",
            "placeholder": "​",
            "style": "IPY_MODEL_b28003169cce426a875cb82e42cd3c90",
            "value": " 0/? [00:00&lt;?, ?it/s, v_num=4]"
          }
        },
        "dc36d39ee4294f8abcc589a88ebc4ceb": {
          "model_module": "@jupyter-widgets/base",
          "model_name": "LayoutModel",
          "model_module_version": "1.2.0",
          "state": {
            "_model_module": "@jupyter-widgets/base",
            "_model_module_version": "1.2.0",
            "_model_name": "LayoutModel",
            "_view_count": null,
            "_view_module": "@jupyter-widgets/base",
            "_view_module_version": "1.2.0",
            "_view_name": "LayoutView",
            "align_content": null,
            "align_items": null,
            "align_self": null,
            "border": null,
            "bottom": null,
            "display": "inline-flex",
            "flex": null,
            "flex_flow": "row wrap",
            "grid_area": null,
            "grid_auto_columns": null,
            "grid_auto_flow": null,
            "grid_auto_rows": null,
            "grid_column": null,
            "grid_gap": null,
            "grid_row": null,
            "grid_template_areas": null,
            "grid_template_columns": null,
            "grid_template_rows": null,
            "height": null,
            "justify_content": null,
            "justify_items": null,
            "left": null,
            "margin": null,
            "max_height": null,
            "max_width": null,
            "min_height": null,
            "min_width": null,
            "object_fit": null,
            "object_position": null,
            "order": null,
            "overflow": null,
            "overflow_x": null,
            "overflow_y": null,
            "padding": null,
            "right": null,
            "top": null,
            "visibility": null,
            "width": "100%"
          }
        },
        "6607f73936b44302a81d3f3d3ba28310": {
          "model_module": "@jupyter-widgets/base",
          "model_name": "LayoutModel",
          "model_module_version": "1.2.0",
          "state": {
            "_model_module": "@jupyter-widgets/base",
            "_model_module_version": "1.2.0",
            "_model_name": "LayoutModel",
            "_view_count": null,
            "_view_module": "@jupyter-widgets/base",
            "_view_module_version": "1.2.0",
            "_view_name": "LayoutView",
            "align_content": null,
            "align_items": null,
            "align_self": null,
            "border": null,
            "bottom": null,
            "display": null,
            "flex": null,
            "flex_flow": null,
            "grid_area": null,
            "grid_auto_columns": null,
            "grid_auto_flow": null,
            "grid_auto_rows": null,
            "grid_column": null,
            "grid_gap": null,
            "grid_row": null,
            "grid_template_areas": null,
            "grid_template_columns": null,
            "grid_template_rows": null,
            "height": null,
            "justify_content": null,
            "justify_items": null,
            "left": null,
            "margin": null,
            "max_height": null,
            "max_width": null,
            "min_height": null,
            "min_width": null,
            "object_fit": null,
            "object_position": null,
            "order": null,
            "overflow": null,
            "overflow_x": null,
            "overflow_y": null,
            "padding": null,
            "right": null,
            "top": null,
            "visibility": null,
            "width": null
          }
        },
        "39dea76fbc3545658df84b33787383ba": {
          "model_module": "@jupyter-widgets/controls",
          "model_name": "DescriptionStyleModel",
          "model_module_version": "1.5.0",
          "state": {
            "_model_module": "@jupyter-widgets/controls",
            "_model_module_version": "1.5.0",
            "_model_name": "DescriptionStyleModel",
            "_view_count": null,
            "_view_module": "@jupyter-widgets/base",
            "_view_module_version": "1.2.0",
            "_view_name": "StyleView",
            "description_width": ""
          }
        },
        "1ef4b2520aae48b3bd830a1d3f179f89": {
          "model_module": "@jupyter-widgets/base",
          "model_name": "LayoutModel",
          "model_module_version": "1.2.0",
          "state": {
            "_model_module": "@jupyter-widgets/base",
            "_model_module_version": "1.2.0",
            "_model_name": "LayoutModel",
            "_view_count": null,
            "_view_module": "@jupyter-widgets/base",
            "_view_module_version": "1.2.0",
            "_view_name": "LayoutView",
            "align_content": null,
            "align_items": null,
            "align_self": null,
            "border": null,
            "bottom": null,
            "display": null,
            "flex": "2",
            "flex_flow": null,
            "grid_area": null,
            "grid_auto_columns": null,
            "grid_auto_flow": null,
            "grid_auto_rows": null,
            "grid_column": null,
            "grid_gap": null,
            "grid_row": null,
            "grid_template_areas": null,
            "grid_template_columns": null,
            "grid_template_rows": null,
            "height": null,
            "justify_content": null,
            "justify_items": null,
            "left": null,
            "margin": null,
            "max_height": null,
            "max_width": null,
            "min_height": null,
            "min_width": null,
            "object_fit": null,
            "object_position": null,
            "order": null,
            "overflow": null,
            "overflow_x": null,
            "overflow_y": null,
            "padding": null,
            "right": null,
            "top": null,
            "visibility": null,
            "width": null
          }
        },
        "1d50c28ae9b645adb692128f663ee40c": {
          "model_module": "@jupyter-widgets/controls",
          "model_name": "ProgressStyleModel",
          "model_module_version": "1.5.0",
          "state": {
            "_model_module": "@jupyter-widgets/controls",
            "_model_module_version": "1.5.0",
            "_model_name": "ProgressStyleModel",
            "_view_count": null,
            "_view_module": "@jupyter-widgets/base",
            "_view_module_version": "1.2.0",
            "_view_name": "StyleView",
            "bar_color": null,
            "description_width": ""
          }
        },
        "c905811dc695483293ba977f973fef8c": {
          "model_module": "@jupyter-widgets/base",
          "model_name": "LayoutModel",
          "model_module_version": "1.2.0",
          "state": {
            "_model_module": "@jupyter-widgets/base",
            "_model_module_version": "1.2.0",
            "_model_name": "LayoutModel",
            "_view_count": null,
            "_view_module": "@jupyter-widgets/base",
            "_view_module_version": "1.2.0",
            "_view_name": "LayoutView",
            "align_content": null,
            "align_items": null,
            "align_self": null,
            "border": null,
            "bottom": null,
            "display": null,
            "flex": null,
            "flex_flow": null,
            "grid_area": null,
            "grid_auto_columns": null,
            "grid_auto_flow": null,
            "grid_auto_rows": null,
            "grid_column": null,
            "grid_gap": null,
            "grid_row": null,
            "grid_template_areas": null,
            "grid_template_columns": null,
            "grid_template_rows": null,
            "height": null,
            "justify_content": null,
            "justify_items": null,
            "left": null,
            "margin": null,
            "max_height": null,
            "max_width": null,
            "min_height": null,
            "min_width": null,
            "object_fit": null,
            "object_position": null,
            "order": null,
            "overflow": null,
            "overflow_x": null,
            "overflow_y": null,
            "padding": null,
            "right": null,
            "top": null,
            "visibility": null,
            "width": null
          }
        },
        "b28003169cce426a875cb82e42cd3c90": {
          "model_module": "@jupyter-widgets/controls",
          "model_name": "DescriptionStyleModel",
          "model_module_version": "1.5.0",
          "state": {
            "_model_module": "@jupyter-widgets/controls",
            "_model_module_version": "1.5.0",
            "_model_name": "DescriptionStyleModel",
            "_view_count": null,
            "_view_module": "@jupyter-widgets/base",
            "_view_module_version": "1.2.0",
            "_view_name": "StyleView",
            "description_width": ""
          }
        }
      }
    }
  },
  "nbformat": 4,
  "nbformat_minor": 0
}