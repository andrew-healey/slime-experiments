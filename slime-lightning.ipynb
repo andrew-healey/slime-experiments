{
  "cells": [
    {
      "cell_type": "code",
      "execution_count": 1,
      "metadata": {
        "id": "HiGHZ1qiq_9q"
      },
      "outputs": [],
      "source": [
        "%load_ext autoreload\n",
        "%autoreload 2"
      ]
    },
    {
      "cell_type": "code",
      "execution_count": 2,
      "metadata": {
        "id": "OIu3N4tGnEgv"
      },
      "outputs": [],
      "source": [
        "should_skip = True"
      ]
    },
    {
      "cell_type": "code",
      "execution_count": 3,
      "metadata": {
        "cellView": "form",
        "id": "n0vWJ_IynEgv"
      },
      "outputs": [],
      "source": [
        "#@title Install libraries\n",
        "if not should_skip:\n",
        "  !pip install -U -qq git+https://github.com/huggingface/diffusers.git\n",
        "  !pip install -qq accelerate transformers ftfy\n",
        "  !pip install -q gpustat gdown\n",
        "  !pip install -q pytorch_lightning"
      ]
    },
    {
      "cell_type": "code",
      "execution_count": 4,
      "metadata": {
        "cellView": "form",
        "id": "vey7mPaRnEgw"
      },
      "outputs": [],
      "source": [
        "#@title Import required libraries\n",
        "import argparse\n",
        "import itertools\n",
        "import math\n",
        "import os\n",
        "import random\n",
        "\n",
        "import numpy as np\n",
        "import torch\n",
        "import torch.nn.functional as F\n",
        "import torchvision.transforms.functional as TVF\n",
        "import torch.utils.checkpoint\n",
        "from torch.utils.data import Dataset\n",
        "\n",
        "import PIL\n",
        "from accelerate import Accelerator\n",
        "from accelerate.logging import get_logger\n",
        "from accelerate.utils import set_seed\n",
        "import sys\n",
        "\n",
        "# https://github.com/huggingface/diffusers/blob/main/src/diffusers/models/unet_2d_condition.py#L175-L182\n",
        "from diffusers import AutoencoderKL, DDPMScheduler, PNDMScheduler, StableDiffusionPipeline, UNet2DConditionModel\n",
        "from diffusers.optimization import get_scheduler\n",
        "from diffusers.pipelines.stable_diffusion import StableDiffusionSafetyChecker\n",
        "from PIL import Image\n",
        "from torchvision import transforms\n",
        "from tqdm.auto import tqdm\n",
        "from transformers import CLIPFeatureExtractor, CLIPTextModel, CLIPTokenizer\n",
        "\n",
        "from pytorch_lightning import seed_everything\n",
        "\n",
        "def image_grid(imgs, rows, cols):\n",
        "    assert len(imgs) == rows*cols\n",
        "\n",
        "    w, h = imgs[0].size\n",
        "    grid = Image.new('RGB', size=(cols*w, rows*h))\n",
        "    grid_w, grid_h = grid.size\n",
        "\n",
        "    for i, img in enumerate(imgs):\n",
        "        grid.paste(img, box=(i%cols*w, i//cols*h))\n",
        "    return grid"
      ]
    },
    {
      "cell_type": "code",
      "execution_count": 5,
      "metadata": {
        "cellView": "form",
        "colab": {
          "base_uri": "https://localhost:8080/"
        },
        "id": "TlbAj5_onEgw",
        "outputId": "5d7b3d8b-0f86-456b-e4fa-b1ab2ca50426"
      },
      "outputs": [],
      "source": [
        "if not should_skip:\n",
        "    #@markdown Add here the URLs to the images of the concept you are adding. 3-5 should be fine\n",
        "    train_urls = [\n",
        "        \"https://huggingface.co/datasets/valhalla/images/resolve/main/2.jpeg\",\n",
        "        \"https://huggingface.co/datasets/valhalla/images/resolve/main/3.jpeg\",\n",
        "    ]\n",
        "    test_urls = [\n",
        "        \"https://huggingface.co/datasets/valhalla/images/resolve/main/5.jpeg\",\n",
        "        \"https://huggingface.co/datasets/valhalla/images/resolve/main/6.jpeg\",\n",
        "        ## You can add additional images here\n",
        "    ]\n",
        "#@title Download\n",
        "import requests\n",
        "import glob\n",
        "from io import BytesIO\n",
        "\n",
        "def download_image(url):\n",
        "  try:\n",
        "    response = requests.get(url)\n",
        "  except:\n",
        "    return None\n",
        "  return Image.open(BytesIO(response.content)).convert(\"RGB\")\n",
        "\n",
        "if not should_skip:\n",
        "    for save_path,urls in [(\"./my_concept\",train_urls),(\"./my_concept_test\",test_urls)]:\n",
        "      images = list(filter(None,[download_image(url) for url in urls]))\n",
        "      if not os.path.exists(save_path):\n",
        "        os.mkdir(save_path)\n",
        "      [image.save(f\"{save_path}/{i}.jpeg\") for i, image in enumerate(images)]\n",
        "\n",
        "\n",
        "if not should_skip:\n",
        "    !gdown --id 1I8RMKQhPXntlRKorVNZ6yyNpfaOp8wNv\n",
        "    mask_path=\"./my_concept_gt\"\n",
        "    !mkdir $mask_path/\n",
        "\n",
        "    with open(\"my_concept_gt.zip\",\"r\") as f:\n",
        "        pass\n",
        "    !unzip -o my_concept_gt.zip"
      ]
    },
    {
      "cell_type": "code",
      "execution_count": 6,
      "metadata": {
        "colab": {
          "base_uri": "https://localhost:8080/"
        },
        "id": "zobTtmaarUxr",
        "outputId": "88ef2419-e38b-460b-f2f8-f6d618d85302"
      },
      "outputs": [],
      "source": [
        "# %cd /content/\n",
        "# sys.path.append(\"/content/slime-experiments/\")"
      ]
    },
    {
      "cell_type": "code",
      "execution_count": 7,
      "metadata": {
        "colab": {
          "base_uri": "https://localhost:8080/"
        },
        "id": "S7EY-HMInhWK",
        "outputId": "bbdf3606-38af-403b-93e2-3e9f5a10ddcf"
      },
      "outputs": [],
      "source": [
        "# !rm -rf slime-experiments/\n",
        "# !git clone https://github.com/andrew-healey/slime-experiments\n",
        "# !cd slime-experiments && git rev-parse --short HEAD"
      ]
    },
    {
      "cell_type": "code",
      "execution_count": 8,
      "metadata": {
        "id": "18OU0iWXnEgw"
      },
      "outputs": [],
      "source": [
        "from slime.slime import SLiME\n",
        "from slime.data.single_class import BinarySegmentationDataset,SegmentationDataModule"
      ]
    },
    {
      "cell_type": "code",
      "execution_count": 9,
      "metadata": {},
      "outputs": [
        {
          "name": "stderr",
          "output_type": "stream",
          "text": [
            "Seed set to 42\n"
          ]
        },
        {
          "data": {
            "text/plain": [
              "42"
            ]
          },
          "execution_count": 9,
          "metadata": {},
          "output_type": "execute_result"
        }
      ],
      "source": [
        "# Set the seed\n",
        "seed_everything(42)"
      ]
    },
    {
      "cell_type": "code",
      "execution_count": 10,
      "metadata": {
        "id": "gjK_JKcsnEgw"
      },
      "outputs": [],
      "source": [
        "train_dataset = BinarySegmentationDataset(\n",
        "    data_root=\"my_concept\",\n",
        "    mask_root=\"my_concept_gt\",\n",
        ")\n",
        "test_dataset = BinarySegmentationDataset(\n",
        "    data_root=\"my_concept_test\",\n",
        "    mask_root=None\n",
        ")\n",
        "\n",
        "data_module = SegmentationDataModule(\n",
        "    train_dataset,\n",
        "    test_dataset,\n",
        "    iters_per_epoch=100,\n",
        "    batch_size=1,\n",
        ")"
      ]
    },
    {
      "cell_type": "code",
      "execution_count": 11,
      "metadata": {
        "colab": {
          "base_uri": "https://localhost:8080/"
        },
        "id": "5xVozx20nEgw",
        "outputId": "109d1ce9-2c7f-4348-92d7-288ae1714707"
      },
      "outputs": [
        {
          "name": "stderr",
          "output_type": "stream",
          "text": [
            "/usr/local/lib/python3.8/dist-packages/diffusers/configuration_utils.py:239: FutureWarning: It is deprecated to pass a pretrained model name or path to `from_config`.If you were trying to load a scheduler, please use <class 'diffusers.schedulers.scheduling_ddpm.DDPMScheduler'>.from_pretrained(...) instead. Otherwise, please make sure to pass a configuration dictionary instead. This functionality will be removed in v1.0.0.\n",
            "  deprecate(\"config-passed-as-path\", \"1.0.0\", deprecation_message, standard_warn=False)\n"
          ]
        }
      ],
      "source": [
        "slime = SLiME(\n",
        "    use_self_attn=True,\n",
        ").cuda()"
      ]
    },
    {
      "cell_type": "code",
      "execution_count": 12,
      "metadata": {
        "colab": {
          "base_uri": "https://localhost:8080/",
          "height": 414,
          "referenced_widgets": [
            "2fe6200bf7064a189e3790f7797c7fbb",
            "d539050cc54f45c288d912144d081d76",
            "5e4c349b29f14b2d85c5e16e78d352ea",
            "817355e86f614485977a900b659a2fed",
            "dc36d39ee4294f8abcc589a88ebc4ceb",
            "6607f73936b44302a81d3f3d3ba28310",
            "39dea76fbc3545658df84b33787383ba",
            "1ef4b2520aae48b3bd830a1d3f179f89",
            "1d50c28ae9b645adb692128f663ee40c",
            "c905811dc695483293ba977f973fef8c",
            "b28003169cce426a875cb82e42cd3c90"
          ]
        },
        "id": "dKcY9CXqnEgw",
        "outputId": "3be2171b-d52d-4163-d7b2-28fd5d29886e"
      },
      "outputs": [
        {
          "name": "stderr",
          "output_type": "stream",
          "text": [
            "GPU available: True (cuda), used: True\n",
            "TPU available: False, using: 0 TPU cores\n",
            "IPU available: False, using: 0 IPUs\n",
            "HPU available: False, using: 0 HPUs\n",
            "`Trainer(limit_train_batches=1.0)` was configured so 100% of the batches per epoch will be used..\n",
            "You are using a CUDA device ('NVIDIA GeForce RTX 3060') that has Tensor Cores. To properly utilize them, you should set `torch.set_float32_matmul_precision('medium' | 'high')` which will trade-off precision for performance. For more details, read https://pytorch.org/docs/stable/generated/torch.set_float32_matmul_precision.html#torch.set_float32_matmul_precision\n",
            "LOCAL_RANK: 0 - CUDA_VISIBLE_DEVICES: [0]\n",
            "\n",
            "  | Name                   | Type            | Params\n",
            "-----------------------------------------------------------\n",
            "0 | sd                     | StableDiffusion | 900 M \n",
            "1 | cross_layer_multiplier | Multiplier      | 32    \n",
            "2 | self_layer_multiplier  | Multiplier      | 32    \n",
            "3 | cross_map_multiplier   | Multiplier      | 4     \n",
            "4 | pred_map_multiplier    | Multiplier      | 4     \n",
            "  | other params           | n/a             | 2.0 K \n",
            "-----------------------------------------------------------\n",
            "2.1 K     Trainable params\n",
            "900 M     Non-trainable params\n",
            "900 M     Total params\n",
            "3,600.306 Total estimated model params size (MB)\n"
          ]
        },
        {
          "data": {
            "application/vnd.jupyter.widget-view+json": {
              "model_id": "7d462e89421b40b8bf8b82fe9b082109",
              "version_major": 2,
              "version_minor": 0
            },
            "text/plain": [
              "Training: |          | 0/? [00:00<?, ?it/s]"
            ]
          },
          "metadata": {},
          "output_type": "display_data"
        },
        {
          "name": "stderr",
          "output_type": "stream",
          "text": [
            "/usr/local/lib/python3.8/dist-packages/pytorch_lightning/trainer/connectors/logger_connector/result.py:211: You called `self.log('mse_loss', ...)` in your `training_step` but the value needs to be floating point. Converting it to torch.float32.\n"
          ]
        },
        {
          "name": "stdout",
          "output_type": "stream",
          "text": [
            "pred 0.08 0.08 ce loss 0.7 mse loss 0\n",
            "pred -0.97 0.05 ce loss 0.59 mse loss 0\n",
            "pred -1.62 0.04 ce loss 0.82 mse loss 0\n",
            "pred -1.3 0.03 ce loss 0.6 mse loss 0\n",
            "pred -0.9 0.03 ce loss 0.69 mse loss 0\n",
            "pred -0.39 0.03 ce loss 0.63 mse loss 0\n",
            "pred -0.2 0.03 ce loss 0.65 mse loss 0\n",
            "pred -0.29 0.03 ce loss 0.67 mse loss 0\n",
            "pred -0.42 0.02 ce loss 0.62 mse loss 0\n",
            "pred -0.68 0.02 ce loss 0.68 mse loss 0\n",
            "pred -0.84 0.02 ce loss 0.69 mse loss 0\n",
            "pred -0.86 0.02 ce loss 0.59 mse loss 0\n",
            "pred -0.9 0.02 ce loss 0.59 mse loss 0\n",
            "pred -0.95 0.02 ce loss 0.7 mse loss 0\n",
            "pred -0.86 0.02 ce loss 0.69 mse loss 0\n",
            "pred -0.66 0.02 ce loss 0.6 mse loss 0\n",
            "pred -0.56 0.02 ce loss 0.67 mse loss 0\n",
            "pred -0.43 0.02 ce loss 0.62 mse loss 0\n",
            "pred -0.45 0.02 ce loss 0.62 mse loss 0\n",
            "pred -0.59 0.02 ce loss 0.67 mse loss 0\n",
            "pred -0.67 0.02 ce loss 0.6 mse loss 0\n",
            "pred -0.82 0.02 ce loss 0.69 mse loss 0\n",
            "pred -0.84 0.02 ce loss 0.69 mse loss 0\n",
            "pred -0.77 0.02 ce loss 0.6 mse loss 0\n",
            "pred -0.74 0.03 ce loss 0.68 mse loss 0\n",
            "pred -0.64 0.03 ce loss 0.6 mse loss 0\n",
            "pred -0.62 0.03 ce loss 0.6 mse loss 0\n",
            "pred -0.69 0.03 ce loss 0.68 mse loss 0\n",
            "pred -0.68 0.03 ce loss 0.6 mse loss 0\n",
            "pred -0.74 0.04 ce loss 0.68 mse loss 0\n",
            "pred -0.71 0.05 ce loss 0.68 mse loss 0\n",
            "pred -0.61 0.06 ce loss 0.6 mse loss 0\n",
            "pred -0.61 0.08 ce loss 0.67 mse loss 0\n",
            "pred -0.55 0.12 ce loss 0.59 mse loss 0\n",
            "pred -0.61 0.19 ce loss 0.63 mse loss 0\n",
            "pred -0.54 0.71 ce loss 0.52 mse loss 0\n",
            "pred -0.55 2.93 ce loss 0.51 mse loss 0\n",
            "pred -1.3 0.94 ce loss 0.48 mse loss 0\n",
            "pred -1.78 0.84 ce loss 0.47 mse loss 0\n",
            "pred -1.91 3.0 ce loss 0.24 mse loss 0\n",
            "pred -2.21 7.43 ce loss 0.2 mse loss 0\n",
            "pred -2.74 7.75 ce loss 0.22 mse loss 0\n",
            "pred -3.56 8.37 ce loss 0.1 mse loss 0\n",
            "pred -4.18 4.91 ce loss 0.23 mse loss 0\n",
            "pred -4.65 11.71 ce loss 0.07 mse loss 0\n",
            "pred -4.88 14.17 ce loss 0.12 mse loss 0\n",
            "pred -5.25 18.47 ce loss 0.12 mse loss 0\n",
            "pred -6.19 19.15 ce loss 0.05 mse loss 0\n",
            "pred -6.57 14.25 ce loss 0.04 mse loss 0\n",
            "pred -6.55 10.21 ce loss 0.17 mse loss 0\n",
            "pred -7.3 19.07 ce loss 0.05 mse loss 0\n",
            "pred -7.49 20.1 ce loss 0.1 mse loss 0\n",
            "pred -8.48 26.78 ce loss 0.09 mse loss 0\n",
            "pred -9.58 42.6 ce loss 0.12 mse loss 0\n",
            "pred -8.3 32.03 ce loss 0.12 mse loss 0\n",
            "pred -9.52 32.68 ce loss 0.05 mse loss 0\n",
            "pred -8.84 26.78 ce loss 0.04 mse loss 0\n",
            "pred -8.39 13.66 ce loss 0.16 mse loss 0\n",
            "pred -8.91 18.77 ce loss 0.06 mse loss 0\n",
            "pred -8.63 19.67 ce loss 0.09 mse loss 0\n",
            "pred -9.38 33.3 ce loss 0.04 mse loss 0\n",
            "pred -8.57 29.47 ce loss 0.07 mse loss 0\n",
            "pred -8.67 35.54 ce loss 0.09 mse loss 0\n",
            "pred -10.07 38.01 ce loss 0.07 mse loss 0\n",
            "pred -9.23 28.9 ce loss 0.03 mse loss 0\n",
            "pred -8.73 17.27 ce loss 0.08 mse loss 0\n",
            "pred -8.36 15.43 ce loss 0.1 mse loss 0\n",
            "pred -8.96 19.36 ce loss 0.04 mse loss 0\n",
            "pred -8.71 17.54 ce loss 0.06 mse loss 0\n",
            "pred -9.65 32.47 ce loss 0.04 mse loss 0\n",
            "pred -8.37 24.33 ce loss 0.07 mse loss 0\n",
            "pred -9.4 35.48 ce loss 0.04 mse loss 0\n",
            "pred -9.59 28.72 ce loss 0.03 mse loss 0\n",
            "pred -8.43 19.42 ce loss 0.05 mse loss 0\n",
            "pred -8.54 21.41 ce loss 0.03 mse loss 0\n",
            "pred -8.13 14.99 ce loss 0.07 mse loss 0\n",
            "pred -8.27 24.06 ce loss 0.03 mse loss 0\n",
            "pred -8.04 17.31 ce loss 0.05 mse loss 0\n",
            "pred -9.01 26.32 ce loss 0.03 mse loss 0\n",
            "pred -8.17 19.02 ce loss 0.05 mse loss 0\n",
            "pred -8.17 27.55 ce loss 0.04 mse loss 0\n",
            "pred -8.02 19.06 ce loss 0.04 mse loss 0\n",
            "pred -7.45 20.09 ce loss 0.05 mse loss 0\n",
            "pred -8.04 23.09 ce loss 0.03 mse loss 0\n",
            "pred -7.24 17.55 ce loss 0.05 mse loss 0\n",
            "pred -7.9 23.72 ce loss 0.03 mse loss 0\n",
            "pred -7.45 18.56 ce loss 0.04 mse loss 0\n",
            "pred -7.9 22.65 ce loss 0.03 mse loss 0\n",
            "pred -7.9 16.7 ce loss 0.05 mse loss 0\n"
          ]
        },
        {
          "name": "stderr",
          "output_type": "stream",
          "text": [
            "/usr/local/lib/python3.8/dist-packages/pytorch_lightning/trainer/call.py:54: Detected KeyboardInterrupt, attempting graceful shutdown...\n"
          ]
        }
      ],
      "source": [
        "from pytorch_lightning import Trainer\n",
        "\n",
        "trainer = Trainer(\n",
        "    default_root_dir=\"run\",\n",
        "    limit_train_batches=1.0,\n",
        "    num_sanity_val_steps=0,\n",
        "    max_epochs=1,\n",
        "    enable_checkpointing=False,\n",
        ")\n",
        "\n",
        "trainer.fit(slime, datamodule=data_module)"
      ]
    },
    {
      "cell_type": "code",
      "execution_count": 13,
      "metadata": {
        "id": "UbFajwxfrs0m"
      },
      "outputs": [
        {
          "data": {
            "text/plain": [
              "0"
            ]
          },
          "execution_count": 13,
          "metadata": {},
          "output_type": "execute_result"
        }
      ],
      "source": [
        "slime.cuda(); 0"
      ]
    },
    {
      "cell_type": "code",
      "execution_count": 15,
      "metadata": {
        "colab": {
          "base_uri": "https://localhost:8080/",
          "height": 449
        },
        "id": "YM4p6T8_x6Za",
        "outputId": "e82d4b78-5084-4055-8e37-f5bf8cefaa3d"
      },
      "outputs": [
        {
          "data": {
            "text/plain": [
              "<matplotlib.image.AxesImage at 0x7f92a4783f70>"
            ]
          },
          "execution_count": 15,
          "metadata": {},
          "output_type": "execute_result"
        },
        {
          "data": {
            "image/png": "[encoded data removed]",
            "text/plain": [
              "<Figure size 432x288 with 1 Axes>"
            ]
          },
          "metadata": {
            "needs_background": "light"
          },
          "output_type": "display_data"
        }
      ],
      "source": [
        "import matplotlib.pyplot as plt\n",
        "plt.imshow(slime.latest_preds[-1].swapaxes(1,2).reshape((-1,slime.text_tokens,64,64))[0,1])"
      ]
    },
    {
      "cell_type": "code",
      "execution_count": 17,
      "metadata": {
        "colab": {
          "base_uri": "https://localhost:8080/",
          "height": 847
        },
        "id": "HQQ3-WNo8B8s",
        "outputId": "4a50b8da-d2fe-45ee-87f1-d5ac8b715749"
      },
      "outputs": [
        {
          "data": {
            "image/png": "[encoded data removed]",
            "text/plain": [
              "<Figure size 432x288 with 1 Axes>"
            ]
          },
          "metadata": {
            "needs_background": "light"
          },
          "output_type": "display_data"
        }
      ],
      "source": [
        "#@title Infer on test set\n",
        "out_mask = None\n",
        "loader = data_module.test_dataloader()\n",
        "for i,batch in enumerate(loader):\n",
        "  out_mask = slime.predict_step(batch,i).cpu().numpy()\n",
        "  break\n",
        "\n",
        "import matplotlib.pyplot as plt\n",
        "for i in range(len(out_mask)):\n",
        "  plt.imshow(out_mask[i].reshape((64,64)))\n",
        "  plt.show()"
      ]
    },
    {
      "cell_type": "code",
      "execution_count": 18,
      "metadata": {},
      "outputs": [
        {
          "name": "stdout",
          "output_type": "stream",
          "text": [
            "(970, 4096)\n",
            "sums\n",
            "[ 6.0644817  6.417745   6.435933  ... 18.888979  19.173     18.592686 ]\n",
            "[0.9404321  0.94527555 0.94039744 ... 1.0578438  1.0700821  1.0631725 ]\n",
            "[0.82611424 0.8578172  0.8570877  ... 1.1852278  1.2035055  1.1774029 ]\n"
          ]
        },
        {
          "data": {
            "text/plain": [
              "<matplotlib.image.AxesImage at 0x7f92a0330a90>"
            ]
          },
          "execution_count": 18,
          "metadata": {},
          "output_type": "execute_result"
        },
        {
          "data": {
            "image/png": "[encoded data removed]",
            "text/plain": [
              "<Figure size 432x288 with 1 Axes>"
            ]
          },
          "metadata": {
            "needs_background": "light"
          },
          "output_type": "display_data"
        }
      ],
      "source": [
        "# visualize self-attn maps\n",
        "\n",
        "self_attn_maps = slime.latest_selfs\n",
        "\n",
        "# pick a random token to visualize\n",
        "\n",
        "batch_num = 0\n",
        "layer_num = 0\n",
        "\n",
        "mask = out_mask[batch_num].astype(bool)==1\n",
        "\n",
        "layer = self_attn_maps[layer_num]\n",
        "num_tokens = layer.shape[1]\n",
        "token_num = random.randint(0, num_tokens - 1)\n",
        "\n",
        "im_dims = int(math.sqrt(layer.shape[-1]))\n",
        "\n",
        "print(layer[batch_num,mask].shape)\n",
        "\n",
        "raw_map = layer[batch_num]\n",
        "# make attn map cols sum to 1\n",
        "attn_map = (raw_map / raw_map.sum(axis=1)) \n",
        "big_attn_map = attn_map\n",
        "# raise matrix to power of 2 (with matrix multiplication)\n",
        "for i in range(5):\n",
        "    big_attn_map = big_attn_map @ attn_map\n",
        "print(\"sums\")\n",
        "print(raw_map.sum(axis=1))\n",
        "print(attn_map.sum(axis=1))\n",
        "print(big_attn_map.sum(axis=1))\n",
        "\n",
        "final_attn_map = attn_map[mask].mean(axis=0).reshape(im_dims, im_dims).copy()\n",
        "#  = attn_map / attn_map.max()\n",
        "# attn_map[token_num // im_dims, token_num % im_dims] = 1.0\n",
        "\n",
        "plt.imshow(final_attn_map)"
      ]
    },
    {
      "cell_type": "code",
      "execution_count": 19,
      "metadata": {},
      "outputs": [
        {
          "name": "stdout",
          "output_type": "stream",
          "text": [
            "[[-7.6488233e-03+0.0000000e+00j -2.3873804e-02+0.0000000e+00j\n",
            "  -5.2597500e-02+0.0000000e+00j ...  8.6181314e-04+3.9076560e-05j\n",
            "   8.6181314e-04-3.9076560e-05j  2.8895019e-03+0.0000000e+00j]\n",
            " [-8.0943769e-03+0.0000000e+00j -2.5474217e-02+0.0000000e+00j\n",
            "  -6.0841314e-02+0.0000000e+00j ...  5.5698091e-03-1.1480585e-04j\n",
            "   5.5698091e-03+1.1480585e-04j  1.3028955e-02+0.0000000e+00j]\n",
            " [-8.1173154e-03+0.0000000e+00j -2.5779383e-02+0.0000000e+00j\n",
            "  -6.2256392e-02+0.0000000e+00j ... -9.5133677e-05-9.2549616e-04j\n",
            "  -9.5133677e-05+9.2549616e-04j -5.0844969e-03+0.0000000e+00j]\n",
            " ...\n",
            " [-2.3823708e-02+0.0000000e+00j  5.2433172e-03+0.0000000e+00j\n",
            "   1.0191839e-03+0.0000000e+00j ...  1.4945782e-02-1.0100014e-02j\n",
            "   1.4945782e-02+1.0100014e-02j -1.0401326e-02+0.0000000e+00j]\n",
            " [-2.4181934e-02+0.0000000e+00j  5.3181243e-03+0.0000000e+00j\n",
            "   1.0337075e-03+0.0000000e+00j ... -2.1411300e-02+7.3692259e-05j\n",
            "  -2.1411300e-02-7.3692259e-05j -1.2518555e-02+0.0000000e+00j]\n",
            " [-2.3450013e-02+0.0000000e+00j  5.0507318e-03+0.0000000e+00j\n",
            "   9.8808180e-04+0.0000000e+00j ...  1.1858968e-02+2.6948943e-03j\n",
            "   1.1858968e-02-2.6948943e-03j -4.2818110e-03+0.0000000e+00j]]\n"
          ]
        }
      ],
      "source": [
        "eigenvals, eigenvectors = np.linalg.eig(attn_map)\n",
        "eigenvals = eigenvals.real\n",
        "print(eigenvectors)"
      ]
    },
    {
      "cell_type": "code",
      "execution_count": 20,
      "metadata": {},
      "outputs": [
        {
          "data": {
            "text/plain": [
              "<matplotlib.image.AxesImage at 0x7f92a0316370>"
            ]
          },
          "execution_count": 20,
          "metadata": {},
          "output_type": "execute_result"
        },
        {
          "data": {
            "image/png": "[encoded data removed]",
            "text/plain": [
              "<Figure size 432x288 with 1 Axes>"
            ]
          },
          "metadata": {
            "needs_background": "light"
          },
          "output_type": "display_data"
        }
      ],
      "source": [
        "eigenvecs = eigenvectors[:,0].real.reshape(im_dims, im_dims)\n",
        "plt.imshow(eigenvecs)"
      ]
    }
  ],
  "metadata": {
    "accelerator": "GPU",
    "colab": {
      "gpuType": "T4",
      "provenance": []
    },
    "kernelspec": {
      "display_name": "Python 3",
      "name": "python3"
    },
    "language_info": {
      "codemirror_mode": {
        "name": "ipython",
        "version": 3
      },
      "file_extension": ".py",
      "mimetype": "text/x-python",
      "name": "python",
      "nbconvert_exporter": "python",
      "pygments_lexer": "ipython3",
      "version": "3.8.10"
    },
    "orig_nbformat": 4,
    "widgets": {
      "application/vnd.jupyter.widget-state+json": {
        "1d50c28ae9b645adb692128f663ee40c": {
          "model_module": "@jupyter-widgets/controls",
          "model_module_version": "1.5.0",
          "model_name": "ProgressStyleModel",
          "state": {
            "_model_module": "@jupyter-widgets/controls",
            "_model_module_version": "1.5.0",
            "_model_name": "ProgressStyleModel",
            "_view_count": null,
            "_view_module": "@jupyter-widgets/base",
            "_view_module_version": "1.2.0",
            "_view_name": "StyleView",
            "bar_color": null,
            "description_width": ""
          }
        },
        "1ef4b2520aae48b3bd830a1d3f179f89": {
          "model_module": "@jupyter-widgets/base",
          "model_module_version": "1.2.0",
          "model_name": "LayoutModel",
          "state": {
            "_model_module": "@jupyter-widgets/base",
            "_model_module_version": "1.2.0",
            "_model_name": "LayoutModel",
            "_view_count": null,
            "_view_module": "@jupyter-widgets/base",
            "_view_module_version": "1.2.0",
            "_view_name": "LayoutView",
            "align_content": null,
            "align_items": null,
            "align_self": null,
            "border": null,
            "bottom": null,
            "display": null,
            "flex": "2",
            "flex_flow": null,
            "grid_area": null,
            "grid_auto_columns": null,
            "grid_auto_flow": null,
            "grid_auto_rows": null,
            "grid_column": null,
            "grid_gap": null,
            "grid_row": null,
            "grid_template_areas": null,
            "grid_template_columns": null,
            "grid_template_rows": null,
            "height": null,
            "justify_content": null,
            "justify_items": null,
            "left": null,
            "margin": null,
            "max_height": null,
            "max_width": null,
            "min_height": null,
            "min_width": null,
            "object_fit": null,
            "object_position": null,
            "order": null,
            "overflow": null,
            "overflow_x": null,
            "overflow_y": null,
            "padding": null,
            "right": null,
            "top": null,
            "visibility": null,
            "width": null
          }
        },
        "2fe6200bf7064a189e3790f7797c7fbb": {
          "model_module": "@jupyter-widgets/controls",
          "model_module_version": "1.5.0",
          "model_name": "HBoxModel",
          "state": {
            "_dom_classes": [],
            "_model_module": "@jupyter-widgets/controls",
            "_model_module_version": "1.5.0",
            "_model_name": "HBoxModel",
            "_view_count": null,
            "_view_module": "@jupyter-widgets/controls",
            "_view_module_version": "1.5.0",
            "_view_name": "HBoxView",
            "box_style": "",
            "children": [
              "IPY_MODEL_d539050cc54f45c288d912144d081d76",
              "IPY_MODEL_5e4c349b29f14b2d85c5e16e78d352ea",
              "IPY_MODEL_817355e86f614485977a900b659a2fed"
            ],
            "layout": "IPY_MODEL_dc36d39ee4294f8abcc589a88ebc4ceb"
          }
        },
        "39dea76fbc3545658df84b33787383ba": {
          "model_module": "@jupyter-widgets/controls",
          "model_module_version": "1.5.0",
          "model_name": "DescriptionStyleModel",
          "state": {
            "_model_module": "@jupyter-widgets/controls",
            "_model_module_version": "1.5.0",
            "_model_name": "DescriptionStyleModel",
            "_view_count": null,
            "_view_module": "@jupyter-widgets/base",
            "_view_module_version": "1.2.0",
            "_view_name": "StyleView",
            "description_width": ""
          }
        },
        "5e4c349b29f14b2d85c5e16e78d352ea": {
          "model_module": "@jupyter-widgets/controls",
          "model_module_version": "1.5.0",
          "model_name": "FloatProgressModel",
          "state": {
            "_dom_classes": [],
            "_model_module": "@jupyter-widgets/controls",
            "_model_module_version": "1.5.0",
            "_model_name": "FloatProgressModel",
            "_view_count": null,
            "_view_module": "@jupyter-widgets/controls",
            "_view_module_version": "1.5.0",
            "_view_name": "ProgressView",
            "bar_style": "success",
            "description": "",
            "description_tooltip": null,
            "layout": "IPY_MODEL_1ef4b2520aae48b3bd830a1d3f179f89",
            "max": 1,
            "min": 0,
            "orientation": "horizontal",
            "style": "IPY_MODEL_1d50c28ae9b645adb692128f663ee40c",
            "value": 0
          }
        },
        "6607f73936b44302a81d3f3d3ba28310": {
          "model_module": "@jupyter-widgets/base",
          "model_module_version": "1.2.0",
          "model_name": "LayoutModel",
          "state": {
            "_model_module": "@jupyter-widgets/base",
            "_model_module_version": "1.2.0",
            "_model_name": "LayoutModel",
            "_view_count": null,
            "_view_module": "@jupyter-widgets/base",
            "_view_module_version": "1.2.0",
            "_view_name": "LayoutView",
            "align_content": null,
            "align_items": null,
            "align_self": null,
            "border": null,
            "bottom": null,
            "display": null,
            "flex": null,
            "flex_flow": null,
            "grid_area": null,
            "grid_auto_columns": null,
            "grid_auto_flow": null,
            "grid_auto_rows": null,
            "grid_column": null,
            "grid_gap": null,
            "grid_row": null,
            "grid_template_areas": null,
            "grid_template_columns": null,
            "grid_template_rows": null,
            "height": null,
            "justify_content": null,
            "justify_items": null,
            "left": null,
            "margin": null,
            "max_height": null,
            "max_width": null,
            "min_height": null,
            "min_width": null,
            "object_fit": null,
            "object_position": null,
            "order": null,
            "overflow": null,
            "overflow_x": null,
            "overflow_y": null,
            "padding": null,
            "right": null,
            "top": null,
            "visibility": null,
            "width": null
          }
        },
        "817355e86f614485977a900b659a2fed": {
          "model_module": "@jupyter-widgets/controls",
          "model_module_version": "1.5.0",
          "model_name": "HTMLModel",
          "state": {
            "_dom_classes": [],
            "_model_module": "@jupyter-widgets/controls",
            "_model_module_version": "1.5.0",
            "_model_name": "HTMLModel",
            "_view_count": null,
            "_view_module": "@jupyter-widgets/controls",
            "_view_module_version": "1.5.0",
            "_view_name": "HTMLView",
            "description": "",
            "description_tooltip": null,
            "layout": "IPY_MODEL_c905811dc695483293ba977f973fef8c",
            "placeholder": "​",
            "style": "IPY_MODEL_b28003169cce426a875cb82e42cd3c90",
            "value": " 0/? [00:00&lt;?, ?it/s, v_num=4]"
          }
        },
        "b28003169cce426a875cb82e42cd3c90": {
          "model_module": "@jupyter-widgets/controls",
          "model_module_version": "1.5.0",
          "model_name": "DescriptionStyleModel",
          "state": {
            "_model_module": "@jupyter-widgets/controls",
            "_model_module_version": "1.5.0",
            "_model_name": "DescriptionStyleModel",
            "_view_count": null,
            "_view_module": "@jupyter-widgets/base",
            "_view_module_version": "1.2.0",
            "_view_name": "StyleView",
            "description_width": ""
          }
        },
        "c905811dc695483293ba977f973fef8c": {
          "model_module": "@jupyter-widgets/base",
          "model_module_version": "1.2.0",
          "model_name": "LayoutModel",
          "state": {
            "_model_module": "@jupyter-widgets/base",
            "_model_module_version": "1.2.0",
            "_model_name": "LayoutModel",
            "_view_count": null,
            "_view_module": "@jupyter-widgets/base",
            "_view_module_version": "1.2.0",
            "_view_name": "LayoutView",
            "align_content": null,
            "align_items": null,
            "align_self": null,
            "border": null,
            "bottom": null,
            "display": null,
            "flex": null,
            "flex_flow": null,
            "grid_area": null,
            "grid_auto_columns": null,
            "grid_auto_flow": null,
            "grid_auto_rows": null,
            "grid_column": null,
            "grid_gap": null,
            "grid_row": null,
            "grid_template_areas": null,
            "grid_template_columns": null,
            "grid_template_rows": null,
            "height": null,
            "justify_content": null,
            "justify_items": null,
            "left": null,
            "margin": null,
            "max_height": null,
            "max_width": null,
            "min_height": null,
            "min_width": null,
            "object_fit": null,
            "object_position": null,
            "order": null,
            "overflow": null,
            "overflow_x": null,
            "overflow_y": null,
            "padding": null,
            "right": null,
            "top": null,
            "visibility": null,
            "width": null
          }
        },
        "d539050cc54f45c288d912144d081d76": {
          "model_module": "@jupyter-widgets/controls",
          "model_module_version": "1.5.0",
          "model_name": "HTMLModel",
          "state": {
            "_dom_classes": [],
            "_model_module": "@jupyter-widgets/controls",
            "_model_module_version": "1.5.0",
            "_model_name": "HTMLModel",
            "_view_count": null,
            "_view_module": "@jupyter-widgets/controls",
            "_view_module_version": "1.5.0",
            "_view_name": "HTMLView",
            "description": "",
            "description_tooltip": null,
            "layout": "IPY_MODEL_6607f73936b44302a81d3f3d3ba28310",
            "placeholder": "​",
            "style": "IPY_MODEL_39dea76fbc3545658df84b33787383ba",
            "value": "Epoch 499: "
          }
        },
        "dc36d39ee4294f8abcc589a88ebc4ceb": {
          "model_module": "@jupyter-widgets/base",
          "model_module_version": "1.2.0",
          "model_name": "LayoutModel",
          "state": {
            "_model_module": "@jupyter-widgets/base",
            "_model_module_version": "1.2.0",
            "_model_name": "LayoutModel",
            "_view_count": null,
            "_view_module": "@jupyter-widgets/base",
            "_view_module_version": "1.2.0",
            "_view_name": "LayoutView",
            "align_content": null,
            "align_items": null,
            "align_self": null,
            "border": null,
            "bottom": null,
            "display": "inline-flex",
            "flex": null,
            "flex_flow": "row wrap",
            "grid_area": null,
            "grid_auto_columns": null,
            "grid_auto_flow": null,
            "grid_auto_rows": null,
            "grid_column": null,
            "grid_gap": null,
            "grid_row": null,
            "grid_template_areas": null,
            "grid_template_columns": null,
            "grid_template_rows": null,
            "height": null,
            "justify_content": null,
            "justify_items": null,
            "left": null,
            "margin": null,
            "max_height": null,
            "max_width": null,
            "min_height": null,
            "min_width": null,
            "object_fit": null,
            "object_position": null,
            "order": null,
            "overflow": null,
            "overflow_x": null,
            "overflow_y": null,
            "padding": null,
            "right": null,
            "top": null,
            "visibility": null,
            "width": "100%"
          }
        }
      }
    }
  },
  "nbformat": 4,
  "nbformat_minor": 0
}
